{
  "cells": [
    {
      "cell_type": "markdown",
      "metadata": {
        "id": "AyoJmYgNVhog"
      },
      "source": [
        "copyright 2024: *XIN CHANG, Politechnika Warszawska*<br>\n",
        "(notatnik adresowany do studentów: GSN)\n",
        "$\\newcommand{\\xx}[2]{(#1)(#2)}$\n",
        "$\\newcommand{\\bb}[1]{\\mathbb{#1}}$\n",
        "$\\newcommand{\\cl}[1]{\\mathcal{#1}}$\n",
        "$\\newcommand{\\tp}[1]{{#1}^{\\intercal}}$\n",
        "$\\newcommand{\\tr}[1]{\\text{trace}\\left[#1\\right]}$\n",
        "$\\newcommand{\\inv}[1]{\\in\\bb{R}^{#1}}$\n",
        "$\\newcommand{\\inm}[2]{\\in\\bb{R}^{#1\\times#2}}$\n",
        "$\\newcommand{\\invc}[1]{\\in\\bb{C}^{#1}}$\n",
        "$\\newcommand{\\inmc}[2]{\\in\\bb{C}^{#1\\times#2}}$\n",
        "$\\newcommand{\\rbox}[2]{\\mathrel{\\raise{#1}{#2}}}$\n",
        "$\\newcommand{\\xconv}[5]{\n",
        "\\begin{array}[]{r}{\\tiny{#4\\ }}\\\\\\raise{2.5pt}{{\\tiny{#3}}}\\end{array}\n",
        "\\kern{-4pt}\n",
        "\\begin{array}[]{l}{\\LARGE\\bb{C}}\\kern{-6.5pt}\\raise{4.5pt}{{\\tiny{#5}}}\\end{array}\n",
        "\\kern{0pt}\n",
        "\\begin{array}[]{l}{\\tiny {#2}}\\\\\\raise{2.5pt}{{\\tiny{#1}}}\\end{array}}$\n",
        "$\\newcommand{\\xdense}[5]{\n",
        "\\begin{array}[]{r}{\\tiny{#4\\ }}\\\\\\raise{1.5pt}{{\\tiny{#3}}}\\end{array}\n",
        "\\kern{-4pt}\n",
        "\\begin{array}[]{l}{\\LARGE\\bb{F}}\\kern{-4.5pt}\\raise{1.5pt}{{\\tiny{#5}}}\\end{array}\n",
        "\\kern{2pt}\n",
        "\\begin{array}[]{l}{\\tiny {#2}}\\\\\\raise{1.5pt}{{\\tiny{#1}}}\\end{array}}$\n",
        "$\\newcommand{\\xpool}[5]{\n",
        "\\begin{array}[]{r}{\\tiny{#4\\ }}\\\\\\raise{1.5pt}{{\\tiny{#3}}}\\end{array}\n",
        "\\kern{-3pt}\n",
        "\\begin{array}[]{l}{\\LARGE\\bb{P}}\\kern{-6.5pt}\\raise{0.8pt}{{\\tiny{#5}}}\\end{array}\n",
        "\\kern{0pt}\n",
        "\\begin{array}[]{l}{\\tiny {#2}}\\\\\\raise{1.5pt}{{\\tiny{#1}}}\\end{array}}$\n",
        "$\\newcommand{\\xinp}[5]{\n",
        "\\begin{array}[]{r}{\\tiny{#4\\ }}\\\\\\raise{1.5pt}{{\\tiny{#3}}}\\end{array}\n",
        "\\kern{-4pt}\n",
        "\\begin{array}[]{l}{\\LARGE\\cl{I}}\\kern{-4.5pt}\\raise{1.5pt}{{\\tiny{#5}}}\\end{array}\n",
        "\\kern{2pt}\n",
        "\\begin{array}[]{l}{\\tiny {#2}}\\\\\\raise{1.5pt}{{\\tiny{#1}}}\\end{array}}$\n",
        "$\\newcommand{\\xdrop}[5]{\n",
        "\\begin{array}[]{r}{\\tiny{#4\\ }}\\\\\\raise{1.5pt}{{\\tiny{#3}}}\\end{array}\n",
        "\\kern{-4pt}\n",
        "\\begin{array}[]{l}{\\LARGE\\bb{D}}\\kern{-4.5pt}\\raise{1.5pt}{{\\tiny{#5}}}\\end{array}\n",
        "\\kern{0.5pt}\n",
        "\\begin{array}[]{l}{\\tiny {#2}}\\\\\\raise{1.5pt}{{\\tiny{#1}}}\\end{array}}$\n",
        "$\\newcommand{\\xmerge}[5]{\n",
        "\\begin{array}[]{r}{\\tiny{#4\\ }}\\\\\\raise{1.5pt}{{\\tiny{#3}}}\\end{array}\n",
        "\\kern{-4pt}\n",
        "\\begin{array}[]{l}{\\LARGE\\bb{M}}\\kern{-4.5pt}\\raise{1.5pt}{{\\tiny{#5}}}\\end{array}\n",
        "\\kern{2pt}\n",
        "\\begin{array}[]{l}{\\tiny {#2}}\\\\\\raise{1.5pt}{{\\tiny{#1}}}\\end{array}}$\n",
        "$\\newcommand{\\xgeneral}[5]{\n",
        "\\begin{array}[]{r}{\\tiny{#4\\ }}\\\\\\raise{1.5pt}{{\\tiny{#3}}}\\end{array}\n",
        "\\kern{-4pt}\n",
        "\\begin{array}[]{l}{\\LARGE\\bb{Q}}\\kern{-9.0pt}\\raise{4.5pt}{{\\tiny{#5}}}\\end{array}\n",
        "\\kern{2pt}\n",
        "\\begin{array}[]{l}{\\tiny {#2}}\\\\\\raise{1.5pt}{{\\tiny{#1}}}\\end{array}}$\n",
        "$\\def\\ds{\\displaystyle}$\n",
        "$\\def\\ass{\\leftarrow}$\n",
        "$\\def\\od#1#2{\\nabla_{#2}#1}$\n",
        "$\\def\\tod#1#2{\\tp{\\nabla}_{#2}{#1}}$\n",
        "$\\def\\cl#1{{\\cal#1}}$\n",
        "$\\def\\sp#1#2{\\frac{\\partial#1}{\\partial#2}}$\n",
        "$\\def\\eqd{\\doteq}$\n",
        "$\\def\\ra{\\rightarrow}$\n",
        "$\\def\\lra{\\longrightarrow}$\n",
        "$\\def\\ovra#1{\\overset{#1}{\\lra}}$\n",
        "$\\def\\dra{\\overset{\\circ}{\\lra}}$\n",
        "$\\def\\xeq#1{\\overset{#1}{=}}$\n",
        "$\\def\\ov#1{\\overline{#1}}$\n",
        "$\\def\\dotp#1#2{\\left\\langle#1,#2\\right\\rangle}$\n",
        "$\\def\\th#1{\\ov{#1}^{\\intercal}}$\n",
        "$\\def\\rv#1{\\widetilde{#1}}$\n",
        "$\\def\\vars#1#2{\\mathtt{var}_{#1}{\\left[#2\\right]}}$\n",
        "$\\def\\pmodd#1{\\kern{-1mm}\\pmod{#1}}$\n",
        "$\\def\\pdt#1#2#3{\\frac{\\partial^2 #1}{\\partial #2\\partial #3}}$\n",
        "$\\def\\diag#1{\\mathtt{diag}\\left[#1\\right]}$\n",
        "$\\def\\rank#1{\\mathtt{rank}\\left[#1\\right]}$\n",
        "$\\def\\tr#1{\\mathtt{tr}\\left[#1\\right]}$\n"
      ]
    },
    {
      "cell_type": "markdown",
      "metadata": {
        "id": "9g8aE9_FGjLm"
      },
      "source": [
        "Citation: Livingstone SR, Russo FA (2018) The Ryerson Audio-Visual Database of Emotional Speech and Song (RAVDESS): A dynamic, multimodal set of facial and vocal expressions in North American English. PLOS ONE 13(5): e0196391."
      ]
    },
    {
      "cell_type": "markdown",
      "metadata": {
        "id": "9cEGbvCzrbzN"
      },
      "source": [
        "## Download pretrained image facial emotion recognition model and cropped video frames.\n"
      ]
    },
    {
      "cell_type": "code",
      "execution_count": 1,
      "metadata": {
        "colab": {
          "base_uri": "https://localhost:8080/"
        },
        "id": "2NwTbj_orbBH",
        "outputId": "2f6f4608-937a-44d4-8929-0990c46a093e"
      },
      "outputs": [
        {
          "name": "stdout",
          "output_type": "stream",
          "text": [
            "Traceback (most recent call last):\n",
            "  File \"/home/agorski/Desktop/projects/ENNCA-agorski/.venv/bin/gdown\", line 8, in <module>\n",
            "    sys.exit(main())\n",
            "  File \"/home/agorski/Desktop/projects/ENNCA-agorski/.venv/lib/python3.10/site-packages/gdown/cli.py\", line 156, in main\n",
            "    filename = download(\n",
            "  File \"/home/agorski/Desktop/projects/ENNCA-agorski/.venv/lib/python3.10/site-packages/gdown/download.py\", line 259, in download\n",
            "    filename_from_url = m.groups()[0]\n",
            "AttributeError: 'NoneType' object has no attribute 'groups'\n"
          ]
        }
      ],
      "source": [
        "import os\n",
        "os.makedirs('../data/emotion', exist_ok=True)\n",
        "!gdown https://drive.google.com/uc?id=1iYtxfox2QgwXsCS1e2DSzmxE8N1AufHU -O ../data/emotion/emotion.pth"
      ]
    },
    {
      "cell_type": "markdown",
      "metadata": {
        "id": "iU44pjyu7o-I"
      },
      "source": [
        "You need to make a copy of the files to your own google drive since the files are large.\n",
        "https://drive.google.com/file/d/1rjFaxC93zUkq0vpluXCdqyqztUaOql9T/view?usp=sharing"
      ]
    },
    {
      "cell_type": "code",
      "execution_count": 2,
      "metadata": {
        "colab": {
          "base_uri": "https://localhost:8080/"
        },
        "id": "kPzoTxa673Af",
        "outputId": "5e89ad5c-bea7-4270-c439-f608998a23ef"
      },
      "outputs": [],
      "source": [
        "# I'm executing it locally so there is no need to mount another google drive\n",
        "\n",
        "# from google.colab import drive\n",
        "# drive.mount(\"/content/gdrive\", force_remount=True)"
      ]
    },
    {
      "cell_type": "code",
      "execution_count": 3,
      "metadata": {
        "id": "-oVLSv4576IX"
      },
      "outputs": [
        {
          "name": "stdout",
          "output_type": "stream",
          "text": [
            "\n",
            "\n",
            "Would you like to replace the existing file ../data/emotion/cut_cropped_faces/Actor_01/01-01-01-01-01-01-01/output001.png\n",
            " 72980 bytes, modified on 2021-01-11 21:28\n",
            "with a new one\n",
            " 72980 bytes, modified on 2021-01-11 21:28\n",
            "\n",
            "[Y]es, [N]o, [A]ll, n[E]ver, [R]ename, [Q]uit ^C\n",
            "\n",
            "[Y]es, [N]o, [A]ll, n[E]ver, [R]ename, [Q]uit "
          ]
        }
      ],
      "source": [
        "# !cp /content/gdrive/MyDrive/D/D2/D2.1/cut_cropped_faces.rar /content\n",
        "!unrar x ../data/emotion/cut_cropped_faces.rar -idq ../data/emotion"
      ]
    },
    {
      "cell_type": "code",
      "execution_count": 4,
      "metadata": {
        "id": "Gtj9s02o9K3D"
      },
      "outputs": [],
      "source": [
        "import os\n",
        "from torch.utils.data import Dataset, DataLoader\n",
        "from PIL import Image\n",
        "import torch\n",
        "import librosa\n",
        "import soundfile as sf\n",
        "from torch.nn.utils.rnn import pack_sequence\n",
        "from torch.nn.utils.rnn import pad_packed_sequence\n",
        "from torch.utils.data import DataLoader\n",
        "import random\n",
        "import torchvision.models as models\n",
        "import numpy as np\n",
        "class VideoEmotionDataset(Dataset):\n",
        "    def __init__(self,allparams,input_path,transform=None,train=False):\n",
        "        self.all_audio_data=[]\n",
        "        def find_classes(dir):\n",
        "            classes = [d for d in os.listdir(dir) if os.path.isdir(os.path.join(dir, d))]\n",
        "            classes.sort()\n",
        "            class_to_idx = {classes[i]: i for i in range(len(classes))}\n",
        "            return classes, class_to_idx\n",
        "        def make_dataset(dir, class_to_idx, extensions,fps):\n",
        "            images = []\n",
        "            max_lenth_image=0\n",
        "            max_lenth_audio=0\n",
        "            dir1 = os.path.expanduser(dir)\n",
        "            for target in sorted(os.listdir(dir1)):\n",
        "                d = os.path.join(dir1, target)\n",
        "                if not os.path.isdir(d):\n",
        "                    continue\n",
        "\n",
        "                for root, _, fnames in sorted(os.walk(d)):\n",
        "                    start=1\n",
        "                    label=root.split('-')[2]\n",
        "                    if int(label) > 1:\n",
        "                      label = int(label) -3\n",
        "                    else:\n",
        "                      label=int(label)\n",
        "                images.append({'folder':root,'image total':len(fnames), 'label':label-1})\n",
        "                if len(fnames)>=max_lenth_image:\n",
        "                    max_lenth_image=len(fnames)\n",
        "            return images, max_lenth_image\n",
        "        def has_file_allowed_extension(filename, extensions):\n",
        "            \"\"\"Checks if a file is an allowed extension.\n",
        "            Args:\n",
        "                filename (string): path to a filem\n",
        "\n",
        "            Returns:\n",
        "                bool: True if the filename ends with a known image extension\n",
        "            \"\"\"\n",
        "            filename_lower = filename.lower()\n",
        "            return any(filename_lower.endswith(ext) for ext in extensions)\n",
        "        self.params=allparams\n",
        "        self.flag=train\n",
        "        self.transform=transform\n",
        "        self.input_path = input_path\n",
        "        self.fps=25\n",
        "        self.total_items=[]\n",
        "        extensions=['.png']\n",
        "        self.img_max_length=0\n",
        "        self.skip_image=self.params['image_skip']\n",
        "        self.image_number=self.params['number_images']\n",
        "        for item in input_path:\n",
        "            classes, class_to_idx = find_classes(item)\n",
        "            samples,img_len = make_dataset(item, class_to_idx, extensions,self.fps)\n",
        "            if img_len>= self.img_max_length:\n",
        "                self.img_max_length=img_len\n",
        "            self.total_items.extend(samples)\n",
        "        imglen=0\n",
        "        for i in range(1,self.img_max_length+1,self.skip_image):\n",
        "            imglen+=1\n",
        "        self.img_max_length=imglen\n",
        "\n",
        "    def __len__(self):\n",
        "        return len(self.total_items)\n",
        "\n",
        "    def __getitem__(self, idx):\n",
        "        simages_name_folder=self.total_items[idx]['folder']\n",
        "        duration=self.image_number\n",
        "        init=random.randint(1,self.total_items[idx]['image total']-duration)\n",
        "        end=init+duration\n",
        "        imgs_name=[simages_name_folder+'/'+'output'+'{0}'.format(str(i).zfill(3))+'.png' for i in range(init,\n",
        "        end,self.skip_image)]\n",
        "        img_list=[]\n",
        "        for idxx,img in enumerate(imgs_name):\n",
        "            img_list.append(Image.open(img))\n",
        "        img_list=self.transform(img_list)\n",
        "        stacks_img=torch.transpose(img_list, 0, 1)\n",
        "        return stacks_img,self.total_items[idx]['label']"
      ]
    },
    {
      "cell_type": "code",
      "execution_count": 5,
      "metadata": {
        "id": "cQ0uB3rxAPdj"
      },
      "outputs": [],
      "source": [
        "data_path = '../data/emotion/cut_cropped_faces'\n",
        "total_folders = [os.path.join(data_path, item) for item in os.listdir(data_path)]\n",
        "random.shuffle(total_folders)\n",
        "train_set = total_folders[12:]\n",
        "val_set = total_folders[:12]"
      ]
    },
    {
      "cell_type": "code",
      "execution_count": 6,
      "metadata": {
        "id": "LYZ5Sc-wAgvk"
      },
      "outputs": [],
      "source": [
        "cfg={'image_skip':5,'number_images':25, 'model_path': 'emotion.pth'}"
      ]
    },
    {
      "cell_type": "code",
      "execution_count": 7,
      "metadata": {},
      "outputs": [
        {
          "name": "stdout",
          "output_type": "stream",
          "text": [
            "Collecting git+https://github.com/hassony2/torch_videovision\n",
            "  Cloning https://github.com/hassony2/torch_videovision to /tmp/pip-req-build-_q0ao5be\n",
            "  Running command git clone --filter=blob:none --quiet https://github.com/hassony2/torch_videovision /tmp/pip-req-build-_q0ao5be\n",
            "  Resolved https://github.com/hassony2/torch_videovision to commit 785a810d1df2ccab6901fb98b38e358433e7b17a\n",
            "  Preparing metadata (setup.py) ... \u001b[?25ldone\n",
            "\u001b[?25hRequirement already satisfied: opencv-python in /home/agorski/Desktop/projects/ENNCA-agorski/.venv/lib/python3.10/site-packages (from torchvideotransforms==0.1.2) (4.8.1.78)\n",
            "Requirement already satisfied: scikit-image in /home/agorski/Desktop/projects/ENNCA-agorski/.venv/lib/python3.10/site-packages (from torchvideotransforms==0.1.2) (0.22.0)\n",
            "Requirement already satisfied: torch in /home/agorski/Desktop/projects/ENNCA-agorski/.venv/lib/python3.10/site-packages (from torchvideotransforms==0.1.2) (1.13.1)\n",
            "Requirement already satisfied: torchvision in /home/agorski/Desktop/projects/ENNCA-agorski/.venv/lib/python3.10/site-packages (from torchvideotransforms==0.1.2) (0.14.1)\n",
            "Requirement already satisfied: numpy>=1.19.3 in /home/agorski/Desktop/projects/ENNCA-agorski/.venv/lib/python3.10/site-packages (from opencv-python->torchvideotransforms==0.1.2) (1.23.1)\n",
            "Requirement already satisfied: networkx>=2.8 in /home/agorski/Desktop/projects/ENNCA-agorski/.venv/lib/python3.10/site-packages (from scikit-image->torchvideotransforms==0.1.2) (3.2.1)\n",
            "Requirement already satisfied: imageio>=2.27 in /home/agorski/Desktop/projects/ENNCA-agorski/.venv/lib/python3.10/site-packages (from scikit-image->torchvideotransforms==0.1.2) (2.34.0)\n",
            "Requirement already satisfied: pillow>=9.0.1 in /home/agorski/Desktop/projects/ENNCA-agorski/.venv/lib/python3.10/site-packages (from scikit-image->torchvideotransforms==0.1.2) (10.0.1)\n",
            "Requirement already satisfied: tifffile>=2022.8.12 in /home/agorski/Desktop/projects/ENNCA-agorski/.venv/lib/python3.10/site-packages (from scikit-image->torchvideotransforms==0.1.2) (2024.2.12)\n",
            "Requirement already satisfied: lazy_loader>=0.3 in /home/agorski/Desktop/projects/ENNCA-agorski/.venv/lib/python3.10/site-packages (from scikit-image->torchvideotransforms==0.1.2) (0.3)\n",
            "Requirement already satisfied: scipy>=1.8 in /home/agorski/Desktop/projects/ENNCA-agorski/.venv/lib/python3.10/site-packages (from scikit-image->torchvideotransforms==0.1.2) (1.12.0)\n",
            "Requirement already satisfied: packaging>=21 in /home/agorski/Desktop/projects/ENNCA-agorski/.venv/lib/python3.10/site-packages (from scikit-image->torchvideotransforms==0.1.2) (23.2)\n",
            "Requirement already satisfied: nvidia-cublas-cu11==11.10.3.66 in /home/agorski/Desktop/projects/ENNCA-agorski/.venv/lib/python3.10/site-packages (from torch->torchvideotransforms==0.1.2) (11.10.3.66)\n",
            "Requirement already satisfied: nvidia-cuda-runtime-cu11==11.7.99 in /home/agorski/Desktop/projects/ENNCA-agorski/.venv/lib/python3.10/site-packages (from torch->torchvideotransforms==0.1.2) (11.7.99)\n",
            "Requirement already satisfied: nvidia-cudnn-cu11==8.5.0.96 in /home/agorski/Desktop/projects/ENNCA-agorski/.venv/lib/python3.10/site-packages (from torch->torchvideotransforms==0.1.2) (8.5.0.96)\n",
            "Requirement already satisfied: nvidia-cuda-nvrtc-cu11==11.7.99 in /home/agorski/Desktop/projects/ENNCA-agorski/.venv/lib/python3.10/site-packages (from torch->torchvideotransforms==0.1.2) (11.7.99)\n",
            "Requirement already satisfied: typing-extensions in /home/agorski/Desktop/projects/ENNCA-agorski/.venv/lib/python3.10/site-packages (from torch->torchvideotransforms==0.1.2) (4.8.0)\n",
            "Requirement already satisfied: wheel in /home/agorski/Desktop/projects/ENNCA-agorski/.venv/lib/python3.10/site-packages (from nvidia-cublas-cu11==11.10.3.66->torch->torchvideotransforms==0.1.2) (0.42.0)\n",
            "Requirement already satisfied: setuptools in /home/agorski/Desktop/projects/ENNCA-agorski/.venv/lib/python3.10/site-packages (from nvidia-cublas-cu11==11.10.3.66->torch->torchvideotransforms==0.1.2) (59.6.0)\n",
            "Requirement already satisfied: requests in /home/agorski/Desktop/projects/ENNCA-agorski/.venv/lib/python3.10/site-packages (from torchvision->torchvideotransforms==0.1.2) (2.31.0)\n",
            "Requirement already satisfied: charset-normalizer<4,>=2 in /home/agorski/Desktop/projects/ENNCA-agorski/.venv/lib/python3.10/site-packages (from requests->torchvision->torchvideotransforms==0.1.2) (3.3.2)\n",
            "Requirement already satisfied: certifi>=2017.4.17 in /home/agorski/Desktop/projects/ENNCA-agorski/.venv/lib/python3.10/site-packages (from requests->torchvision->torchvideotransforms==0.1.2) (2024.2.2)\n",
            "Requirement already satisfied: urllib3<3,>=1.21.1 in /home/agorski/Desktop/projects/ENNCA-agorski/.venv/lib/python3.10/site-packages (from requests->torchvision->torchvideotransforms==0.1.2) (1.26.18)\n",
            "Requirement already satisfied: idna<4,>=2.5 in /home/agorski/Desktop/projects/ENNCA-agorski/.venv/lib/python3.10/site-packages (from requests->torchvision->torchvideotransforms==0.1.2) (3.6)\n"
          ]
        }
      ],
      "source": [
        "!pip install git+https://github.com/hassony2/torch_videovision"
      ]
    },
    {
      "cell_type": "code",
      "execution_count": 8,
      "metadata": {
        "colab": {
          "base_uri": "https://localhost:8080/"
        },
        "id": "4J0Dlb_hAkK3",
        "outputId": "055f7d9d-fcfc-4774-b871-3eff592f132f"
      },
      "outputs": [],
      "source": [
        "from torchvideotransforms import video_transforms, volume_transforms\n",
        "transform_val =video_transforms.Compose([\n",
        "        video_transforms.Resize((224,224)),\n",
        "        volume_transforms.ClipToTensor(),\n",
        "        video_transforms.Normalize(mean=[0.485, 0.456, 0.406],\n",
        "                            std=[0.229, 0.224, 0.225])\n",
        "\n",
        "    ])\n",
        "\n",
        "transform_train =video_transforms.Compose([\n",
        "\n",
        "        video_transforms.Resize((224,224)),\n",
        "        video_transforms.RandomHorizontalFlip(),\n",
        "        video_transforms.ColorJitter(brightness=0.2, contrast=0.2, saturation=0.2,hue=0.1),\n",
        "        video_transforms.RandomRotation(30),\n",
        "        volume_transforms.ClipToTensor(),\n",
        "        video_transforms.Normalize(mean=[0.485, 0.456, 0.406],\n",
        "                            std=[0.229, 0.224, 0.225])\n",
        "\n",
        "    ])"
      ]
    },
    {
      "cell_type": "code",
      "execution_count": 9,
      "metadata": {
        "id": "1943whsNAdKr"
      },
      "outputs": [],
      "source": [
        "train_dataset = VideoEmotionDataset(cfg,train_set,transform_train)\n",
        "val_dataset = VideoEmotionDataset(cfg,val_set,transform_val)"
      ]
    },
    {
      "cell_type": "markdown",
      "metadata": {
        "id": "nO7pIuznA03k"
      },
      "source": [
        "The first sample contains 5 images and labeled as 0."
      ]
    },
    {
      "cell_type": "code",
      "execution_count": 10,
      "metadata": {
        "colab": {
          "base_uri": "https://localhost:8080/"
        },
        "id": "rRs8nTXPApey",
        "outputId": "91acf62c-fc2a-43e3-b71c-f6aa4b403089"
      },
      "outputs": [
        {
          "data": {
            "text/plain": [
              "torch.Size([5, 3, 224, 224])"
            ]
          },
          "execution_count": 10,
          "metadata": {},
          "output_type": "execute_result"
        }
      ],
      "source": [
        "train_dataset[0][0].shape"
      ]
    },
    {
      "cell_type": "code",
      "execution_count": 11,
      "metadata": {
        "colab": {
          "base_uri": "https://localhost:8080/"
        },
        "id": "5xUylQq2Axb2",
        "outputId": "04d47161-3eb3-4569-c541-133312ea255b"
      },
      "outputs": [
        {
          "data": {
            "text/plain": [
              "0"
            ]
          },
          "execution_count": 11,
          "metadata": {},
          "output_type": "execute_result"
        }
      ],
      "source": [
        "train_dataset[0][1]"
      ]
    },
    {
      "cell_type": "markdown",
      "metadata": {
        "id": "cMu-vV_sVp-p"
      },
      "source": [
        "## Example of how LSTM and the class `LSTM_CNN`."
      ]
    },
    {
      "cell_type": "markdown",
      "metadata": {
        "id": "hV5LGhT_A-1D"
      },
      "source": [
        "We have our CNN feature extractor demonstrated before:"
      ]
    },
    {
      "cell_type": "code",
      "execution_count": 12,
      "metadata": {
        "id": "Cqb_oSPfrdEW"
      },
      "outputs": [],
      "source": [
        "from torch import nn\n",
        "import torch\n",
        "import torchvision.models as models\n",
        "image_emotion_classifier=models.resnet18()\n",
        "image_emotion_classifier.fc=nn.Linear(512,7)\n",
        "image_emotion_classifier.load_state_dict(torch.load('emotion.pth', map_location=torch.device('cpu')))\n",
        "from copy import deepcopy\n",
        "emotion_representitive=deepcopy(image_emotion_classifier)\n",
        "emotion_representitive.fc=nn.Sequential()"
      ]
    },
    {
      "cell_type": "markdown",
      "metadata": {
        "id": "zHk_-6MlBR08"
      },
      "source": [
        "Now if we pass the prepared data through the extractor, we will get features from each image."
      ]
    },
    {
      "cell_type": "code",
      "execution_count": 13,
      "metadata": {
        "id": "uHHm4cg_BRHT"
      },
      "outputs": [],
      "source": [
        "features = emotion_representitive(train_dataset[0][0])"
      ]
    },
    {
      "cell_type": "code",
      "execution_count": 14,
      "metadata": {
        "colab": {
          "base_uri": "https://localhost:8080/"
        },
        "id": "G9LOJw7oCT95",
        "outputId": "6ff08dfa-ab3e-4986-86cf-a805f512c864"
      },
      "outputs": [
        {
          "data": {
            "text/plain": [
              "torch.Size([5, 512])"
            ]
          },
          "execution_count": 14,
          "metadata": {},
          "output_type": "execute_result"
        }
      ],
      "source": [
        "features.shape"
      ]
    },
    {
      "cell_type": "markdown",
      "metadata": {
        "id": "ef5BQdenVzHz"
      },
      "source": [
        "### Create LSTM instance"
      ]
    },
    {
      "cell_type": "code",
      "execution_count": 15,
      "metadata": {
        "id": "32ULie0Eslhp"
      },
      "outputs": [],
      "source": [
        "# Initialize an LSTM layer.\n",
        "# The LSTM expects inputs of size 512 and has a hidden state size of 128.\n",
        "lstm = nn.LSTM(input_size=512, hidden_size=128)\n",
        "\n",
        "# Iterate over the sequence of features.\n",
        "# features.unsqueeze(0) adds an extra dimension at the beginning, typically\n",
        "# representing the batch size. In this case, it turns a tensor of shape\n",
        "# [sequence_length, features] into shape [1, sequence_length, features].\n",
        "# This is required because LSTM layers expect input in the shape of\n",
        "# [batch_size, sequence_length, input_size].\n",
        "for item in features.unsqueeze(0):\n",
        "    # Pass each sequence item through the LSTM.\n",
        "    # 'item' here represents a single time step of your sequence.\n",
        "    # The LSTM returns two things:\n",
        "    #   1. r_out_x: The output features from the LSTM for this time step.\n",
        "    #   2. (h_n_x, h_c_x): The hidden state and cell state after this time step.\n",
        "    r_out_x, (h_n_x, h_c_x) = lstm(item)\n"
      ]
    },
    {
      "cell_type": "markdown",
      "metadata": {
        "id": "jtiQe1wYC0N8"
      },
      "source": [
        "So now the outputs after LSTM has temporal connection over their neighbours, but since we need only the classification purpose, we can forward the last elements to classification layer. Thus we can create the LSTM-CNN network as follows:"
      ]
    },
    {
      "cell_type": "code",
      "execution_count": 16,
      "metadata": {
        "id": "r6bZHsmVDWfh"
      },
      "outputs": [],
      "source": [
        "import torch.nn as nn\n",
        "\n",
        "class LSTM_CNN(nn.Module):\n",
        "    def __init__(self, feature_extractor):\n",
        "        super(LSTM_CNN, self).__init__()  # Correctly initialize the nn.Module\n",
        "        self.feature_extractor = feature_extractor\n",
        "        self.lstm = nn.LSTM(input_size=512, hidden_size=128)\n",
        "        self.classifier = nn.Linear(128, 4)  # Adjusted to match LSTM hidden size\n",
        "\n",
        "    def forward(self, x):\n",
        "        b, t, c, h, w = x.size()\n",
        "        x = x.view(b * t, c, h, w)  # Reshape x to the correct dimensions\n",
        "        features = self.feature_extractor(x)\n",
        "        features = features.view(b, t, -1)  # Reshape features for LSTM input\n",
        "        lstm_features, _ = self.lstm(features)\n",
        "        outputs = self.classifier(lstm_features[:,-1,:])\n",
        "        return outputs\n"
      ]
    },
    {
      "cell_type": "code",
      "execution_count": 17,
      "metadata": {
        "id": "AiUvzeLREdJo"
      },
      "outputs": [],
      "source": [
        "lstm_cnn = LSTM_CNN(emotion_representitive)"
      ]
    },
    {
      "cell_type": "markdown",
      "metadata": {
        "id": "KWbpXXgKlgLX"
      },
      "source": [
        "## Example of MutiheadAttention and the class `Attention_CNN`"
      ]
    },
    {
      "cell_type": "markdown",
      "metadata": {
        "id": "NNrKBzsQFMZX"
      },
      "source": [
        "Create the trainable `cls_token`, which we will use to find correlations to other features."
      ]
    },
    {
      "cell_type": "code",
      "execution_count": 18,
      "metadata": {
        "id": "99c3G_U8m_mM"
      },
      "outputs": [],
      "source": [
        "# Define a CLS (classification) token as a learnable parameter.\n",
        "# The token has dimensions [1, 1, 512] which represents a single token\n",
        "# with an embedding size of 512.\n",
        "cls_token = nn.Parameter(torch.zeros(1, 1, 512))\n",
        "\n",
        "# Expand the CLS token to match the batch size of the features.\n",
        "# features.unsqueeze(0).shape[0] gives the batch size, and the CLS token\n",
        "# is expanded to have the same batch size while keeping its other dimensions.\n",
        "# This is done so that each item in the batch has its own CLS token.\n",
        "cls_tokens = cls_token.expand(features.unsqueeze(0).shape[0], -1, -1)\n",
        "\n",
        "# Initialize a multi-head attention layer with an embedding size of 512\n",
        "# and 8 attention heads.\n",
        "attn = nn.MultiheadAttention(512, 8)\n",
        "\n",
        "# Concatenate the expanded CLS tokens with the features.\n",
        "# features.unsqueeze(0) adds an extra dimension to the features, making\n",
        "# them [1, batch_size, feature_size] in shape. This is necessary for\n",
        "# concatenation with the CLS tokens.\n",
        "# The concatenation is done along dimension 1, which is the sequence length\n",
        "# dimension, effectively prepending the CLS token to each sequence in the batch.\n",
        "features = torch.cat((cls_tokens, features.unsqueeze(0)), dim=1)\n",
        "\n",
        "# Pass the combined sequence of CLS tokens and features through the\n",
        "# multi-head attention layer. The same sequence is used as the query, key,\n",
        "# and value for the attention mechanism.\n",
        "# This results in an output tensor 'out' which contains the attended features,\n",
        "# and an attention weights tensor which is discarded (represented by '_').\n",
        "out, _ = attn(features, features, features)\n"
      ]
    },
    {
      "cell_type": "markdown",
      "metadata": {
        "id": "0BVJqPzPF3Zu"
      },
      "source": [
        "In the case of MultiheadAttention, we need only to use `cls_token` for further classification purpose, thus we have the AttentionCNN network as follows:"
      ]
    },
    {
      "cell_type": "code",
      "execution_count": 19,
      "metadata": {
        "id": "OLtXx88hGSdE"
      },
      "outputs": [],
      "source": [
        "class Attention_CNN(nn.Module):\n",
        "    def __init__(self, feature_extractor):\n",
        "        super(Attention_CNN, self).__init__()  # Correctly initialize the nn.Module\n",
        "        self.feature_extractor = feature_extractor\n",
        "        self.attn = nn.MultiheadAttention(512, 1)\n",
        "        self.classifier = nn.Linear(512, 4)  # Adjusted to match LSTM hidden size\n",
        "        self.cls_token = nn.Parameter(torch.randn(1, 1, 512))\n",
        "    def forward(self, x):\n",
        "        b, t, c, h, w = x.size()\n",
        "        x = x.view(b * t, c, h, w)  # Reshape x to the correct dimensions\n",
        "        features = self.feature_extractor(x)\n",
        "        features = features.view(b, t, -1)  # Reshape features for LSTM input\n",
        "        cls_tokens = cls_token.expand(features.shape[0], -1, -1) # Expand the token to batch size\n",
        "        features = torch.cat((cls_tokens, features),dim=1)\n",
        "        attn_features, _ = self.attn(features, features, features)\n",
        "        outputs = self.classifier(attn_features[:,0,:])###we take the first element because we concat the cls token to the features at the 0 position.\n",
        "        return outputs\n"
      ]
    },
    {
      "cell_type": "markdown",
      "metadata": {
        "id": "q6u24qyUG3Bo"
      },
      "source": [
        "**Notes**\n",
        "In both examples, since we take one sample from dataset, thus there is `.unsqueeze(0)` to form 1 sample batch, however, when it comes to the data loading from the loaders, it is not needed anymore."
      ]
    },
    {
      "cell_type": "markdown",
      "metadata": {
        "id": "w0zzE8BhHfUd"
      },
      "source": [
        "# Train the LSTM-CNN and Attention-CNN solution on the time-series data."
      ]
    },
    {
      "cell_type": "code",
      "execution_count": 20,
      "metadata": {
        "colab": {
          "base_uri": "https://localhost:8080/"
        },
        "id": "mgF0uKG9Jlk9",
        "outputId": "f4f70d1f-ed1d-496f-e7fc-1f04d9144ac4"
      },
      "outputs": [],
      "source": [
        "!pip install -q pytorch_lightning\n",
        "!pip install -q torchmetrics"
      ]
    },
    {
      "cell_type": "code",
      "execution_count": 21,
      "metadata": {
        "id": "QvqgDNHiH0ie"
      },
      "outputs": [],
      "source": [
        "import math\n",
        "import torchvision.models as models\n",
        "import argparse\n",
        "import torch\n",
        "import itertools\n",
        "import matplotlib.pyplot as plt\n",
        "import torch.nn as nn\n",
        "import io\n",
        "from PIL import Image\n",
        "import torch.nn.functional as F\n",
        "import torch.optim as optim\n",
        "from torchvision import datasets, transforms\n",
        "from torch.autograd import Variable\n",
        "from pytorch_lightning.callbacks import ModelCheckpoint\n",
        "from pytorch_lightning.callbacks import LearningRateMonitor\n",
        "import pytorch_lightning as pl\n",
        "import os\n",
        "import random\n",
        "import numpy as np\n",
        "from copy import deepcopy\n",
        "import torch\n",
        "import torch.nn as nn\n",
        "from pytorch_lightning import loggers as pl_loggers\n",
        "from torchmetrics import ConfusionMatrix\n",
        "\n",
        "class LightningEmotion(pl.LightningModule):\n",
        "\n",
        "    def __init__(self,all_parameters, feature_extractor, train_set, val_set):\n",
        "        super(LightningEmotion, self).__init__()\n",
        "        self.save_hyperparameters(all_parameters)\n",
        "        self.train_dataset = train_set\n",
        "        self.val_dataset = val_set\n",
        "        self.feature_extractor = feature_extractor\n",
        "        self.lstm = nn.LSTM(input_size=512, hidden_size=128)\n",
        "        self.classifier = nn.Linear(128, self.hparams['number_classes'])  # Adjusted to match LSTM hidden size\n",
        "\n",
        "        self.batch_size = self.hparams['batch_size']\n",
        "        self.lengths_x = self.hparams['number_images']\n",
        "        self.class_names=['Neutral','Angry','Fearful','Disgust']\n",
        "        self.drop=nn.Dropout(0.3)\n",
        "        self.loss = nn.CrossEntropyLoss()\n",
        "        self.training_acc_across_batches_at_curr_epoch = []\n",
        "        self.gt=[]\n",
        "        self.pd=[]\n",
        "        self.val_total_correct = 0\n",
        "        self.val_total_loss = 0\n",
        "    def forward(self, x):\n",
        "        b, t, c, h, w = x.size()\n",
        "        x = x.view(b * t, c, h, w)  # Reshape x to the correct dimensions\n",
        "        features = self.feature_extractor(x)\n",
        "        features = features.view(b, t, -1)  # Reshape features for LSTM input\n",
        "        lstm_features, _ = self.lstm(features)\n",
        "        last_lstm_features = lstm_features[:,-1,:]\n",
        "        outputs = self.classifier(self.drop(last_lstm_features))\n",
        "        return outputs\n",
        "\n",
        "    def extract_feature(self, x):\n",
        "        b, t, c, h, w = x.size()\n",
        "        x = x.view(b * t, c, h, w)  # Reshape x to the correct dimensions\n",
        "        features = self.feature_extractor(x)\n",
        "        features = features.view(b, t, -1)  # Reshape features for LSTM input\n",
        "        lstm_features, _ = self.lstm(features)\n",
        "        last_lstm_features = lstm_features[:,-1,:]\n",
        "        return last_lstm_features\n",
        "\n",
        "    def training_step(self, train_batch, batch_idx):\n",
        "        x,label = train_batch\n",
        "        logits = self.forward(x)\n",
        "        preds = torch.argmax(logits, 1)\n",
        "        acc_batch = ((preds == label).sum())*1.0/x.shape[0]\n",
        "\n",
        "        loss = self.loss(logits, label)\n",
        "        logs = {'train_loss': loss, 'train_acc': acc_batch}\n",
        "\n",
        "        self.training_acc_across_batches_at_curr_epoch.append(acc_batch.item())\n",
        "        return {'loss': loss, 'log': logs}\n",
        "\n",
        "    def validation_step(self, val_batch, batch_idx):\n",
        "\n",
        "        x,label = val_batch\n",
        "        logits = self.forward(x)\n",
        "        preds = torch.argmax(self.forward(x), 1)\n",
        "        acc_batch = ((preds == label).sum())*1.0/x.shape[0]\n",
        "        loss = self.loss(logits, label)\n",
        "        self.val_total_correct += (preds == label).sum()\n",
        "        self.val_total_loss += loss\n",
        "        self.gt.extend(label.detach().cpu().numpy())\n",
        "        self.pd.extend(preds.detach().cpu().numpy())\n",
        "\n",
        "        return {'val_loss': loss, 'batch_val_acc': acc_batch}\n",
        "\n",
        "\n",
        "    def on_validation_epoch_end(self):\n",
        "        self.gt=torch.tensor(np.array(self.gt))\n",
        "        self.pd=torch.tensor(np.array(self.pd))\n",
        "        avg_loss = self.val_total_loss / len(self.val_dataset)\n",
        "        avg_acc = self.val_total_correct / len(self.val_dataset)\n",
        "        tensorboard_logs = {'val_loss': avg_loss, 'val_acc': avg_acc}\n",
        "        self.log('val_loss',avg_loss)\n",
        "        print('val_acc:', avg_acc)\n",
        "        self.val_total_loss = 0\n",
        "        self.val_total_correct = 0\n",
        "        self.gt=[]\n",
        "        self.pd=[]\n",
        "        return {'avg_val_loss': avg_loss, 'val_acc': avg_acc, 'log': tensorboard_logs}\n",
        "\n",
        "    def prepare_data(self):\n",
        "        import torchvision.transforms as transforms\n",
        "        transform_val =video_transforms.Compose([\n",
        "                video_transforms.Resize((224,224)),\n",
        "                volume_transforms.ClipToTensor(),\n",
        "                video_transforms.Normalize(mean=[0.485, 0.456, 0.406],\n",
        "                                    std=[0.229, 0.224, 0.225])\n",
        "\n",
        "            ])\n",
        "\n",
        "        transform_train =video_transforms.Compose([\n",
        "\n",
        "                video_transforms.Resize((224,224)),\n",
        "                video_transforms.RandomHorizontalFlip(),\n",
        "                video_transforms.ColorJitter(brightness=0.2, contrast=0.2, saturation=0.2,hue=0.1),\n",
        "                video_transforms.RandomRotation(30),\n",
        "                volume_transforms.ClipToTensor(),\n",
        "                video_transforms.Normalize(mean=[0.485, 0.456, 0.406],\n",
        "                                    std=[0.229, 0.224, 0.225])\n",
        "\n",
        "            ])\n",
        "\n",
        "    def train_dataloader(self):\n",
        "        return torch.utils.data.DataLoader(\n",
        "            self.train_dataset, batch_size=self.batch_size, num_workers=self.hparams['num_workers'],shuffle=True)\n",
        "\n",
        "    def val_dataloader(self):\n",
        "        return torch.utils.data.DataLoader(\n",
        "            self.val_dataset, batch_size=self.batch_size, num_workers=self.hparams['num_workers'],shuffle=False)\n",
        "\n",
        "    def configure_optimizers(self):\n",
        "\n",
        "        optimizer = torch.optim.AdamW(model.parameters(), lr=cfg['init_learning_rate'])\n",
        "        scheduler = torch.optim.lr_scheduler.ReduceLROnPlateau(optimizer, 'min', patience = self.hparams['scheduler_patience'], factor=0.1)\n",
        "        return {\"optimizer\": optimizer, \"lr_scheduler\": scheduler, \"monitor\": \"val_loss\"}\n",
        "\n",
        "\n",
        "def getmodel(parameters,emotion_representitive, trainset, valset):\n",
        "\n",
        "    model=LightningEmotion(dict(parameters),emotion_representitive, trainset, valset)\n",
        "    return model\n",
        "\n",
        "def get_trainer(all_params):\n",
        "    lr_logger = LearningRateMonitor()\n",
        "\n",
        "    tb_logger = pl_loggers.TensorBoardLogger(os.getcwd()+'/gdrive/My Drive/training', name='gsn')\n",
        "\n",
        "    early_stop_callback = pl.callbacks.early_stopping.EarlyStopping(\n",
        "    monitor='val_loss',\n",
        "    min_delta=0.0,\n",
        "    patience=all_params['early_stopping'],\n",
        "    verbose=False,\n",
        "    mode='min'\n",
        "    )\n",
        "\n",
        "    checkpoint_callback = ModelCheckpoint(\n",
        "        dirpath=os.path.join(os.getcwd()+'/gdrive/My Drive/training',all_params['model_folder_path']),\n",
        "        save_top_k=1,\n",
        "        verbose=True,\n",
        "        monitor='val_loss',\n",
        "        mode='min',\n",
        "        filename=all_params['model_prefix']\n",
        "    )\n",
        "\n",
        "    trainer = pl.Trainer(\n",
        "    callbacks=[lr_logger,early_stop_callback, checkpoint_callback],\n",
        "    max_epochs=all_params['n_epochs'],\n",
        "    logger=tb_logger,\n",
        "    precision=32,)\n",
        "    return trainer"
      ]
    },
    {
      "cell_type": "code",
      "execution_count": 22,
      "metadata": {
        "colab": {
          "base_uri": "https://localhost:8080/",
          "height": 833,
          "referenced_widgets": [
            "50449058f1b74999903a123a5345b76e",
            "8c83cbdfb75641559e1216e5b17549ac",
            "22b9a3b9b239494cbc3c1f5c8466d286",
            "c979bc50d74f47ff8c0d42dd3f50043b",
            "cab00d9b161d4173a00b52566569493b",
            "a4c4c3dd326a4f33ad6362e1922a60e9",
            "3735edfa503544debc1422ed8999691d",
            "25ed32c60b06486b9e2407762bf06764",
            "b279de51f1294485a712d89217ef8f47",
            "48bece84c43641699b292d61c0e479c0",
            "a2029434cc2944a9ad9d436d3047ff0c",
            "27560b9107f74b31b41641839e4f6bfb",
            "09a1ee9ba3fb416f9a83870517626998",
            "d80a96461a3f40b8a06a621a018eebac",
            "6138e7cdd5084f928857933118019b77",
            "e6ea2dc98a0e41a8be1bbe0fb87c8999",
            "5f2538cd8cfc41f48ce46200845a0a30",
            "5f9ee3d7c3ce4817b4c01d1decb77c23",
            "08d437f00d3c4b99a2976b9719b966ed",
            "5f7f02ada3f140f9ab13044bf7886785",
            "d323fb6b0ec64323aa2583b6f21ca425",
            "63f841f703d2434c81c64838e985fb95",
            "bf47a32ac42142d3b93aad7c024fe5be",
            "73abc2ae83fe4103a65b9da148db55cd",
            "658db412cb494ca68c700fa452fcb1c3",
            "961264a80b324d139732a7283acc1d0d",
            "3b58ce85036c40fbb97c32f5b5125c3b",
            "2d5f8d74710b4ddea7a4aeac948ffa9f",
            "930c24f3c1cb4b4295760e4092014873",
            "aee91b4b93b24a09acb813881b48551c",
            "3097aa98438f4b04b54113ec8497b41b",
            "d90b921dc4f949fabc5289aa43de50c3",
            "fca10053d9f54ceb95a9a93286a7ef3e",
            "01471d7982e9481ba67599df83752095",
            "c5189c7fc5a04d6a83f8f9dcf4a1d6a5",
            "f4c3a7bc8feb4fc0ba78c971985da4e3",
            "a3704ce6dd5f4624bc6c400e2ca54768",
            "46b94f52281a4c5aacec4a8e053e1de5",
            "bcab1ffea3ab4227947dcbe60893fd4d",
            "5b3dc86b67854b8db8b7ac16db6fbf52",
            "42e9ee50fd1e4d8893e2535f8ebf4c00",
            "4204a38a07094361898e9eed972c2f96",
            "ec9ade478e254394821956b8d66ef5c1",
            "7669660bd57344c987646f5bac1104a6",
            "0897afc21ba744938939efdb10c1d69e",
            "ec2c76b3f7dd480faec39c6820a514a5",
            "d0793034ce1f41508ac182371b0e7011",
            "d3f1aedb82d7409583b2688b651bcc57",
            "a3267c1fdf284487a759669001e1354b",
            "79af2c14c5c141e1af2b0f6499477b5f",
            "8bf7604de95f4f28b2279bb2ecb57be5",
            "3e79f36b2c8b4f23a338fdffbcb984f5",
            "e214dcab73094959acb047345e1d8af5",
            "fa6e8e9ca1944fb488d20e7b077c8870",
            "c0e193014f7844f28d2fe3b6bfe62e45",
            "ef45a490975a4164a10ff14ac459509c",
            "8b6db0ea3ccb45f69482ed53106bdff6",
            "bf71047e90ab4a419fe00cf52323dd75",
            "4ebf203e52c34e36af33029db34b200e",
            "1f3b5f1f52e145deb7c52f4fec12a3ff",
            "8d511d40b913498db52406ac7d9f1c02",
            "0830173211e64f0c93a9c216fd3875b4",
            "fa451fc3eca849bc924ef123b27a0220",
            "7693503ff97f46888dcb37ffdf382315",
            "eea5737d945543ca899a46839ea8e2ce",
            "17f5f7394de744d5aa52b1b813869c19",
            "c678a148379a4671a7f675f6acce8e55",
            "c17e319aea3c4a58ba69fcf334fefc38",
            "7b6e99257f0c40b3b97fce7d2b78554f",
            "7aa8c2f46fe34c2fa0149f04ea1a0135",
            "671d558059f849aab9bdcdcce5a7a253",
            "f12a60df66914b4895a10cd3ebe0cff8",
            "59a0cb346d0b4dddafb2d6518b15f86f",
            "63fe7cd924e14103834c43cd3d313fb3",
            "c2941994ef6046e58bcc4afc82495a9f",
            "d1506debaa6c4a5eb2b964dcf60fbd52",
            "949103ab905547149fe0fe4e66f20cbb",
            "435fa320635f46d4b33ff5c33b81dab0",
            "8e07e304fbee4ec2a5060cb9f55364d4",
            "a7bf92b48bad4e799ad2de9aa55d6a62",
            "6163cc15938d4e09a8dde3cc8203647c",
            "391699ea565a40678d0852569d4bbc6f",
            "2bc292370c4b439e90253c4ae0300c83",
            "9b736a8d582f4701be9ff523392a0124",
            "5d18027dc0894d3998a8437d6d1fbcda",
            "72290b40ffaf491cb71eab802f57d02b",
            "f08d6cea230247cb9e0e68641838b951",
            "0c31de56a99d416082de5c31665fdd75",
            "25402ef610094210bed216f195f5e250",
            "a509db43405d458881373ed5c20d01a7",
            "ca66ec30e1bb47edb2e0e617f2661f00",
            "74c977d4d86c4d10a60cba62c65b331f",
            "b3d28f68c4914d339bcb7385bf160e1f",
            "26e4a71616ac4eb481666dca585d66b5",
            "afce1a8052c24d5cbddff289e1a676dd",
            "4a066624bd824a029e7cfea7d4ecd720",
            "78a322e33d4f4e5eacf1cb122efe803b",
            "54aa1ee053da4df5999f428db6948798",
            "7810f7b04077442ca3e02bc2905942f5",
            "9da6c404c98048d5876b443fa542ca79",
            "517b365a91ad438ca2ffa526c014e94c",
            "e3addbd310c5403997f680328ef45821",
            "3b577fe0f7a24f14945daf40c70ee211",
            "b622cef6f96f48a78f6a49661b590982",
            "7337dbf959ad4be6b6864fcbac956215",
            "867d5c34c5a24942b7b8fb556a94c85c",
            "876521cf775546f491eabbc29a424dcb",
            "d3bbeda82fc140a083d461c4f8f553ce",
            "6a074c180bde4651a9b58d24e13651e9",
            "5c3e0692adf34fcdae62645e75c72876",
            "1e2a732c3e264aec95e882c229b11a86",
            "3df6940c47864ebca954be503c43bcb1",
            "6880ac3b23d848c19b1f023325c008cc",
            "32282805b79c46af81c58f984314a807",
            "d9af68e277c14dfb801c510f6c37fd68",
            "99f83cec8804406883464a9e012b15e3",
            "c1aeacdfb0414b33961e12939853b1b6",
            "810dccd3bdc54ef6b0aeee76a9a783c3",
            "25d59fad1ecc4c3e87faab8fb0a1213f",
            "48dd6cae744a4ba68931cd02ddacc0cf",
            "38471888c9994a15ad2132aae96c5a1b",
            "60eed701397249c49fd2b321b2a6e91e",
            "924cf06cf0ec4eaeace320a00670af43",
            "e72d63f6580f408e83efde0765c0956f",
            "bf6df75939c04b09b3141344d02378c4",
            "ccf2042ce42b43b38f4759bba01b4f88",
            "65d4f2c0c1f8429c97415823a05643b2",
            "983089b3825a4dd5b5a930758b24dd52",
            "0c4ee68fa8e548989f9487b48ec506ca",
            "35428d7d075149ec96e874bcc3df6f39",
            "fb4bb0ab7de148bdb4e0489f807cefdf",
            "c7f31494f649429681ca92f5dffc2d1d"
          ]
        },
        "id": "UGbJ_cUXH4gI",
        "outputId": "e5dfb9e0-e8d1-4ce2-b6a3-1330bef2d491"
      },
      "outputs": [
        {
          "name": "stderr",
          "output_type": "stream",
          "text": [
            "GPU available: True (cuda), used: True\n",
            "TPU available: False, using: 0 TPU cores\n",
            "IPU available: False, using: 0 IPUs\n",
            "HPU available: False, using: 0 HPUs\n"
          ]
        },
        {
          "name": "stderr",
          "output_type": "stream",
          "text": [
            "You are using a CUDA device ('NVIDIA GeForce RTX 3060') that has Tensor Cores. To properly utilize them, you should set `torch.set_float32_matmul_precision('medium' | 'high')` which will trade-off precision for performance. For more details, read https://pytorch.org/docs/stable/generated/torch.set_float32_matmul_precision.html#torch.set_float32_matmul_precision\n",
            "/home/agorski/Desktop/projects/ENNCA-agorski/.venv/lib/python3.10/site-packages/pytorch_lightning/callbacks/model_checkpoint.py:653: Checkpoint directory /home/agorski/Desktop/projects/ENNCA-agorski/notebooks/gdrive/My Drive/training/archive exists and is not empty.\n",
            "LOCAL_RANK: 0 - CUDA_VISIBLE_DEVICES: [0]\n",
            "\n",
            "  | Name              | Type             | Params\n",
            "-------------------------------------------------------\n",
            "0 | feature_extractor | ResNet           | 11.2 M\n",
            "1 | lstm              | LSTM             | 328 K \n",
            "2 | classifier        | Linear           | 516   \n",
            "3 | drop              | Dropout          | 0     \n",
            "4 | loss              | CrossEntropyLoss | 0     \n",
            "-------------------------------------------------------\n",
            "11.5 M    Trainable params\n",
            "0         Non-trainable params\n",
            "11.5 M    Total params\n",
            "46.023    Total estimated model params size (MB)\n"
          ]
        },
        {
          "data": {
            "application/vnd.jupyter.widget-view+json": {
              "model_id": "a2138345c64b468daf7a6945d64f3888",
              "version_major": 2,
              "version_minor": 0
            },
            "text/plain": [
              "Sanity Checking: |          | 0/? [00:00<?, ?it/s]"
            ]
          },
          "metadata": {},
          "output_type": "display_data"
        },
        {
          "name": "stdout",
          "output_type": "stream",
          "text": [
            "val_acc: tensor(0.0238, device='cuda:0')\n"
          ]
        },
        {
          "name": "stderr",
          "output_type": "stream",
          "text": [
            "/home/agorski/Desktop/projects/ENNCA-agorski/.venv/lib/python3.10/site-packages/pytorch_lightning/loops/fit_loop.py:298: The number of training batches (21) is smaller than the logging interval Trainer(log_every_n_steps=50). Set a lower value for log_every_n_steps if you want to see logs for the training epoch.\n"
          ]
        },
        {
          "data": {
            "application/vnd.jupyter.widget-view+json": {
              "model_id": "e781c12fbf3541fa907d339888582edd",
              "version_major": 2,
              "version_minor": 0
            },
            "text/plain": [
              "Training: |          | 0/? [00:00<?, ?it/s]"
            ]
          },
          "metadata": {},
          "output_type": "display_data"
        },
        {
          "data": {
            "application/vnd.jupyter.widget-view+json": {
              "model_id": "f15fe767a8f34f78a9bd6431a5f9e607",
              "version_major": 2,
              "version_minor": 0
            },
            "text/plain": [
              "Validation: |          | 0/? [00:00<?, ?it/s]"
            ]
          },
          "metadata": {},
          "output_type": "display_data"
        },
        {
          "name": "stderr",
          "output_type": "stream",
          "text": [
            "Epoch 0, global step 21: 'val_loss' reached 0.07818 (best 0.07818), saving model to '/home/agorski/Desktop/projects/ENNCA-agorski/notebooks/gdrive/My Drive/training/archive/exp1-v2.ckpt' as top 1\n"
          ]
        },
        {
          "name": "stdout",
          "output_type": "stream",
          "text": [
            "val_acc: tensor(0.5952, device='cuda:0')\n"
          ]
        },
        {
          "data": {
            "application/vnd.jupyter.widget-view+json": {
              "model_id": "18b55425f27b4869ae724a9dbf3d5d9d",
              "version_major": 2,
              "version_minor": 0
            },
            "text/plain": [
              "Validation: |          | 0/? [00:00<?, ?it/s]"
            ]
          },
          "metadata": {},
          "output_type": "display_data"
        },
        {
          "name": "stderr",
          "output_type": "stream",
          "text": [
            "Epoch 1, global step 42: 'val_loss' reached 0.07002 (best 0.07002), saving model to '/home/agorski/Desktop/projects/ENNCA-agorski/notebooks/gdrive/My Drive/training/archive/exp1-v2.ckpt' as top 1\n"
          ]
        },
        {
          "name": "stdout",
          "output_type": "stream",
          "text": [
            "val_acc: tensor(0.6577, device='cuda:0')\n"
          ]
        },
        {
          "data": {
            "application/vnd.jupyter.widget-view+json": {
              "model_id": "5a88e7de384d450291a3beafd111f68f",
              "version_major": 2,
              "version_minor": 0
            },
            "text/plain": [
              "Validation: |          | 0/? [00:00<?, ?it/s]"
            ]
          },
          "metadata": {},
          "output_type": "display_data"
        },
        {
          "name": "stderr",
          "output_type": "stream",
          "text": [
            "Epoch 2, global step 63: 'val_loss' reached 0.06069 (best 0.06069), saving model to '/home/agorski/Desktop/projects/ENNCA-agorski/notebooks/gdrive/My Drive/training/archive/exp1-v2.ckpt' as top 1\n"
          ]
        },
        {
          "name": "stdout",
          "output_type": "stream",
          "text": [
            "val_acc: tensor(0.6607, device='cuda:0')\n"
          ]
        },
        {
          "data": {
            "application/vnd.jupyter.widget-view+json": {
              "model_id": "2310cc8746c344089a3726c81834dfc0",
              "version_major": 2,
              "version_minor": 0
            },
            "text/plain": [
              "Validation: |          | 0/? [00:00<?, ?it/s]"
            ]
          },
          "metadata": {},
          "output_type": "display_data"
        },
        {
          "name": "stderr",
          "output_type": "stream",
          "text": [
            "Epoch 3, global step 84: 'val_loss' reached 0.05351 (best 0.05351), saving model to '/home/agorski/Desktop/projects/ENNCA-agorski/notebooks/gdrive/My Drive/training/archive/exp1-v2.ckpt' as top 1\n"
          ]
        },
        {
          "name": "stdout",
          "output_type": "stream",
          "text": [
            "val_acc: tensor(0.7054, device='cuda:0')\n"
          ]
        },
        {
          "data": {
            "application/vnd.jupyter.widget-view+json": {
              "model_id": "41dd8c77dcbc44c3b297b591320b9a42",
              "version_major": 2,
              "version_minor": 0
            },
            "text/plain": [
              "Validation: |          | 0/? [00:00<?, ?it/s]"
            ]
          },
          "metadata": {},
          "output_type": "display_data"
        },
        {
          "name": "stderr",
          "output_type": "stream",
          "text": [
            "Epoch 4, global step 105: 'val_loss' reached 0.04829 (best 0.04829), saving model to '/home/agorski/Desktop/projects/ENNCA-agorski/notebooks/gdrive/My Drive/training/archive/exp1-v2.ckpt' as top 1\n"
          ]
        },
        {
          "name": "stdout",
          "output_type": "stream",
          "text": [
            "val_acc: tensor(0.7351, device='cuda:0')\n"
          ]
        },
        {
          "data": {
            "application/vnd.jupyter.widget-view+json": {
              "model_id": "80e14fa883ce4b79b4e2f9c29fef8567",
              "version_major": 2,
              "version_minor": 0
            },
            "text/plain": [
              "Validation: |          | 0/? [00:00<?, ?it/s]"
            ]
          },
          "metadata": {},
          "output_type": "display_data"
        },
        {
          "name": "stderr",
          "output_type": "stream",
          "text": [
            "Epoch 5, global step 126: 'val_loss' reached 0.04298 (best 0.04298), saving model to '/home/agorski/Desktop/projects/ENNCA-agorski/notebooks/gdrive/My Drive/training/archive/exp1-v2.ckpt' as top 1\n"
          ]
        },
        {
          "name": "stdout",
          "output_type": "stream",
          "text": [
            "val_acc: tensor(0.7619, device='cuda:0')\n"
          ]
        },
        {
          "data": {
            "application/vnd.jupyter.widget-view+json": {
              "model_id": "5f0a436595254f75a46515f586ab5610",
              "version_major": 2,
              "version_minor": 0
            },
            "text/plain": [
              "Validation: |          | 0/? [00:00<?, ?it/s]"
            ]
          },
          "metadata": {},
          "output_type": "display_data"
        },
        {
          "name": "stderr",
          "output_type": "stream",
          "text": [
            "Epoch 6, global step 147: 'val_loss' was not in top 1\n"
          ]
        },
        {
          "name": "stdout",
          "output_type": "stream",
          "text": [
            "val_acc: tensor(0.7500, device='cuda:0')\n"
          ]
        },
        {
          "data": {
            "application/vnd.jupyter.widget-view+json": {
              "model_id": "9841d584b0854442b80d45a2f9365399",
              "version_major": 2,
              "version_minor": 0
            },
            "text/plain": [
              "Validation: |          | 0/? [00:00<?, ?it/s]"
            ]
          },
          "metadata": {},
          "output_type": "display_data"
        },
        {
          "name": "stderr",
          "output_type": "stream",
          "text": [
            "Epoch 7, global step 168: 'val_loss' reached 0.04019 (best 0.04019), saving model to '/home/agorski/Desktop/projects/ENNCA-agorski/notebooks/gdrive/My Drive/training/archive/exp1-v2.ckpt' as top 1\n"
          ]
        },
        {
          "name": "stdout",
          "output_type": "stream",
          "text": [
            "val_acc: tensor(0.7619, device='cuda:0')\n"
          ]
        },
        {
          "data": {
            "application/vnd.jupyter.widget-view+json": {
              "model_id": "b72cb59ddb7b4dfc8f783089dab2ff3f",
              "version_major": 2,
              "version_minor": 0
            },
            "text/plain": [
              "Validation: |          | 0/? [00:00<?, ?it/s]"
            ]
          },
          "metadata": {},
          "output_type": "display_data"
        },
        {
          "name": "stderr",
          "output_type": "stream",
          "text": [
            "Epoch 8, global step 189: 'val_loss' was not in top 1\n"
          ]
        },
        {
          "name": "stdout",
          "output_type": "stream",
          "text": [
            "val_acc: tensor(0.7232, device='cuda:0')\n"
          ]
        },
        {
          "data": {
            "application/vnd.jupyter.widget-view+json": {
              "model_id": "2fdece095d6e498d89772301390fc486",
              "version_major": 2,
              "version_minor": 0
            },
            "text/plain": [
              "Validation: |          | 0/? [00:00<?, ?it/s]"
            ]
          },
          "metadata": {},
          "output_type": "display_data"
        },
        {
          "name": "stderr",
          "output_type": "stream",
          "text": [
            "Epoch 9, global step 210: 'val_loss' reached 0.03518 (best 0.03518), saving model to '/home/agorski/Desktop/projects/ENNCA-agorski/notebooks/gdrive/My Drive/training/archive/exp1-v2.ckpt' as top 1\n"
          ]
        },
        {
          "name": "stdout",
          "output_type": "stream",
          "text": [
            "val_acc: tensor(0.8095, device='cuda:0')\n"
          ]
        },
        {
          "name": "stderr",
          "output_type": "stream",
          "text": [
            "`Trainer.fit` stopped: `max_epochs=10` reached.\n"
          ]
        }
      ],
      "source": [
        "cfg={'image_skip':2,'number_images':50,\n",
        "     'model_path': 'emotion.pth',\n",
        "     'batch_size': 16,\n",
        "     'number_classes':4,\n",
        "     'early_stopping':10,\n",
        "     'model_folder_path': 'archive',\n",
        "     'model_prefix':'exp1',\n",
        "     'n_epochs':10,\n",
        "     'train_path': train_set,\n",
        "     'val_path': val_set,\n",
        "     'init_learning_rate': 1e-4,\n",
        "     'scheduler_patience':5,\n",
        "     'num_workers':4}\n",
        "model=getmodel(cfg, emotion_representitive, train_dataset, val_dataset)\n",
        "trainer=get_trainer(cfg)\n",
        "trainer.fit(model)"
      ]
    },
    {
      "cell_type": "markdown",
      "metadata": {
        "id": "Xl6Ti-wdH8zJ"
      },
      "source": [
        "\n",
        "Use the extract_feature function to extract features and display the TSN-E analysis and confusion matrix."
      ]
    },
    {
      "cell_type": "code",
      "execution_count": 23,
      "metadata": {
        "colab": {
          "base_uri": "https://localhost:8080/"
        },
        "id": "8iaAOuD9b-xg",
        "outputId": "1bafa9e1-ef98-44cd-8cab-d6260ec5d675"
      },
      "outputs": [],
      "source": [
        "import seaborn as sns\n",
        "from sklearn.manifold import TSNE\n",
        "from sklearn.metrics import confusion_matrix\n",
        "import matplotlib.pyplot as plt\n",
        "\n",
        "def extract_features_and_labels(model, dataloader):\n",
        "    all_features = []\n",
        "    all_labels = []\n",
        "    all_preds_list = []\n",
        "\n",
        "    model.eval()\n",
        "    with torch.no_grad():\n",
        "        for batch in dataloader:\n",
        "            x, labels = batch\n",
        "            features = model.extract_feature(x)\n",
        "            preds_temp = model(x)\n",
        "            all_preds = torch.argmax(preds_temp,1)\n",
        "            all_features.append(features.cpu().numpy())\n",
        "            all_labels.append(labels.cpu().numpy())\n",
        "            all_preds_list.append(all_preds.cpu().numpy())\n",
        "\n",
        "    all_features = np.concatenate(all_features, axis=0)\n",
        "    all_labels = np.concatenate(all_labels, axis=0)\n",
        "    all_preds_list = np.concatenate(all_preds_list, axis=0)\n",
        "\n",
        "    return all_features, all_labels, all_preds_list\n",
        "\n",
        "\n",
        "val_features, val_labels, val_preds  = extract_features_and_labels(model, model.val_dataloader())\n"
      ]
    },
    {
      "cell_type": "code",
      "execution_count": 24,
      "metadata": {
        "colab": {
          "base_uri": "https://localhost:8080/",
          "height": 1000
        },
        "id": "mivil0b3L-11",
        "outputId": "e7ba690e-b626-4237-a23e-ee3597d57ec0"
      },
      "outputs": [
        {
          "data": {
            "image/png": "[encoded data removed]",
            "text/plain": [
              "<Figure size 1000x800 with 1 Axes>"
            ]
          },
          "metadata": {},
          "output_type": "display_data"
        },
        {
          "data": {
            "image/png": "[encoded data removed]",
            "text/plain": [
              "<Figure size 800x600 with 2 Axes>"
            ]
          },
          "metadata": {},
          "output_type": "display_data"
        }
      ],
      "source": [
        "tsne = TSNE(n_components=2, random_state=42)\n",
        "tsne_features = tsne.fit_transform(val_features)\n",
        "\n",
        "plt.figure(figsize=(10, 8))\n",
        "sns.scatterplot(x=tsne_features[:, 0], y=tsne_features[:, 1], hue=val_labels, palette=\"viridis\", legend=\"full\")\n",
        "plt.title(\"TSN-E Analysis of Features\")\n",
        "plt.show()\n",
        "\n",
        "\n",
        "conf_matrix = confusion_matrix(val_labels, val_preds)\n",
        "\n",
        "class_names = ['Neutral', 'Angry', 'Fearful', 'Disgust']\n",
        "\n",
        "plt.figure(figsize=(8, 6))\n",
        "sns.heatmap(conf_matrix, annot=True, fmt=\"d\", cmap=\"Blues\", xticklabels=class_names, yticklabels=class_names)\n",
        "plt.title(\"Confusion Matrix\")\n",
        "plt.xlabel(\"Predicted Label\")\n",
        "plt.ylabel(\"True Label\")\n",
        "plt.show()"
      ]
    },
    {
      "cell_type": "markdown",
      "metadata": {
        "id": "d7KJh7nPISkZ"
      },
      "source": [
        "# TASK:\n",
        "Modify LightningEmotion class to build AttentionCNN solution. Display also STE and confusion matrix results."
      ]
    },
    {
      "cell_type": "code",
      "execution_count": 28,
      "metadata": {},
      "outputs": [],
      "source": [
        "class Attention_CNN(nn.Module):\n",
        "    def __init__(self, feature_extractor):\n",
        "        super(Attention_CNN, self).__init__()  # Correctly initialize the nn.Module\n",
        "        self.feature_extractor = feature_extractor\n",
        "        self.attn = nn.MultiheadAttention(512, 1)\n",
        "        self.classifier = nn.Linear(512, 4)  # Adjusted to match LSTM hidden size\n",
        "        self.cls_token = nn.Parameter(torch.randn(1, 1, 512))\n",
        "    def forward(self, x):\n",
        "        b, t, c, h, w = x.size()\n",
        "        x = x.view(b * t, c, h, w)  # Reshape x to the correct dimensions\n",
        "        features = self.feature_extractor(x)\n",
        "        features = features.view(b, t, -1)  # Reshape features for LSTM input\n",
        "        cls_tokens = cls_token.expand(features.shape[0], -1, -1) # Expand the token to batch size\n",
        "        features = torch.cat((cls_tokens, features),dim=1)\n",
        "        attn_features, _ = self.attn(features, features, features)\n",
        "        outputs = self.classifier(attn_features[:,0,:])###we take the first element because we concat the cls token to the features at the 0 position.\n",
        "        return outputs\n"
      ]
    },
    {
      "cell_type": "code",
      "execution_count": 44,
      "metadata": {},
      "outputs": [],
      "source": [
        "class LightningEmotionAttentionCNN(pl.LightningModule):\n",
        "    \n",
        "    def __init__(self,all_parameters, feature_extractor, train_set, val_set):\n",
        "        super(LightningEmotionAttentionCNN, self).__init__()\n",
        "        self.save_hyperparameters(all_parameters)\n",
        "        self.train_dataset = train_set\n",
        "        self.val_dataset = val_set\n",
        "        self.feature_extractor = feature_extractor\n",
        "\n",
        "        # self.lstm = nn.LSTM(input_size=512, hidden_size=128)\n",
        "        self.attn = nn.MultiheadAttention(512, 1)\n",
        "\n",
        "\n",
        "        # self.classifier = nn.Linear(128, self.hparams['number_classes'])  # Adjusted to match LSTM hidden size\n",
        "        self.classifier = nn.Linear(512, self.hparams['number_classes'])\n",
        "        self.cls_token = nn.Parameter(torch.randn(1, 1, 512))\n",
        "\n",
        "        self.batch_size = self.hparams['batch_size']\n",
        "        self.lengths_x = self.hparams['number_images']\n",
        "        self.class_names=['Neutral','Angry','Fearful','Disgust']\n",
        "        self.drop=nn.Dropout(0.3)\n",
        "        self.loss = nn.CrossEntropyLoss()\n",
        "        self.training_acc_across_batches_at_curr_epoch = []\n",
        "        self.gt=[]\n",
        "        self.pd=[]\n",
        "        self.val_total_correct = 0\n",
        "        self.val_total_loss = 0\n",
        "    def forward(self, x):\n",
        "        b, t, c, h, w = x.size()\n",
        "        x = x.view(b * t, c, h, w)  # Reshape x to the correct dimensions\n",
        "        features = self.feature_extractor(x)\n",
        "        features = features.view(b, t, -1)  # Reshape features for LSTM input\n",
        "        # lstm_features, _ = self.lstm(features)\n",
        "        # last_lstm_features = lstm_features[:,-1,:]\n",
        "        # outputs = self.classifier(self.drop(last_lstm_features))\n",
        "        cls_tokens = cls_token.expand(features.shape[0], -1, -1) # Expand the token to batch size\n",
        "        cls_tokens = cls_tokens.to(self.device)\n",
        "        features = torch.cat((cls_tokens, features),dim=1)\n",
        "        attn_features, _ = self.attn(features, features, features)\n",
        "        outputs = self.classifier(attn_features[:,0,:])#\n",
        "        \n",
        "        return outputs\n",
        "\n",
        "    def extract_feature(self, x):\n",
        "        b, t, c, h, w = x.size()\n",
        "        x = x.view(b * t, c, h, w)  # Reshape x to the correct dimensions\n",
        "        features = self.feature_extractor(x)\n",
        "        features = features.view(b, t, -1)  # Reshape features for LSTM input\n",
        "        cls_tokens = cls_token.expand(features.shape[0], -1, -1) # Expand the token to batch size\n",
        "        cls_tokens = cls_tokens.to(self.device)\n",
        "        features = torch.cat((cls_tokens, features),dim=1)\n",
        "        attn_features, _ = self.attn(features, features, features)\n",
        "        return attn_features\n",
        "\n",
        "    def training_step(self, train_batch, batch_idx):\n",
        "        x,label = train_batch\n",
        "        logits = self.forward(x)\n",
        "        preds = torch.argmax(logits, 1)\n",
        "        acc_batch = ((preds == label).sum())*1.0/x.shape[0]\n",
        "\n",
        "        loss = self.loss(logits, label)\n",
        "        logs = {'train_loss': loss, 'train_acc': acc_batch}\n",
        "\n",
        "        self.training_acc_across_batches_at_curr_epoch.append(acc_batch.item())\n",
        "        return {'loss': loss, 'log': logs}\n",
        "\n",
        "    def validation_step(self, val_batch, batch_idx):\n",
        "\n",
        "        x,label = val_batch\n",
        "        logits = self.forward(x)\n",
        "        preds = torch.argmax(self.forward(x), 1)\n",
        "        acc_batch = ((preds == label).sum())*1.0/x.shape[0]\n",
        "        loss = self.loss(logits, label)\n",
        "        self.val_total_correct += (preds == label).sum()\n",
        "        self.val_total_loss += loss\n",
        "        self.gt.extend(label.detach().cpu().numpy())\n",
        "        self.pd.extend(preds.detach().cpu().numpy())\n",
        "\n",
        "        return {'val_loss': loss, 'batch_val_acc': acc_batch}\n",
        "\n",
        "\n",
        "    def on_validation_epoch_end(self):\n",
        "        self.gt=torch.tensor(np.array(self.gt))\n",
        "        self.pd=torch.tensor(np.array(self.pd))\n",
        "        avg_loss = self.val_total_loss / len(self.val_dataset)\n",
        "        avg_acc = self.val_total_correct / len(self.val_dataset)\n",
        "        tensorboard_logs = {'val_loss': avg_loss, 'val_acc': avg_acc}\n",
        "        self.log('val_loss',avg_loss)\n",
        "        print('val_acc:', avg_acc)\n",
        "        self.val_total_loss = 0\n",
        "        self.val_total_correct = 0\n",
        "        self.gt=[]\n",
        "        self.pd=[]\n",
        "        return {'avg_val_loss': avg_loss, 'val_acc': avg_acc, 'log': tensorboard_logs}\n",
        "\n",
        "    def prepare_data(self):\n",
        "        import torchvision.transforms as transforms\n",
        "        transform_val =video_transforms.Compose([\n",
        "                video_transforms.Resize((224,224)),\n",
        "                volume_transforms.ClipToTensor(),\n",
        "                video_transforms.Normalize(mean=[0.485, 0.456, 0.406],\n",
        "                                    std=[0.229, 0.224, 0.225])\n",
        "\n",
        "            ])\n",
        "\n",
        "        transform_train =video_transforms.Compose([\n",
        "\n",
        "                video_transforms.Resize((224,224)),\n",
        "                video_transforms.RandomHorizontalFlip(),\n",
        "                video_transforms.ColorJitter(brightness=0.2, contrast=0.2, saturation=0.2,hue=0.1),\n",
        "                video_transforms.RandomRotation(30),\n",
        "                volume_transforms.ClipToTensor(),\n",
        "                video_transforms.Normalize(mean=[0.485, 0.456, 0.406],\n",
        "                                    std=[0.229, 0.224, 0.225])\n",
        "\n",
        "            ])\n",
        "\n",
        "    def train_dataloader(self):\n",
        "        return torch.utils.data.DataLoader(\n",
        "            self.train_dataset, batch_size=self.batch_size, num_workers=self.hparams['num_workers'],shuffle=True)\n",
        "\n",
        "    def val_dataloader(self):\n",
        "        return torch.utils.data.DataLoader(\n",
        "            self.val_dataset, batch_size=self.batch_size, num_workers=self.hparams['num_workers'],shuffle=False)\n",
        "\n",
        "    def configure_optimizers(self):\n",
        "\n",
        "        optimizer = torch.optim.AdamW(model.parameters(), lr=cfg['init_learning_rate'])\n",
        "        scheduler = torch.optim.lr_scheduler.ReduceLROnPlateau(optimizer, 'min', patience = self.hparams['scheduler_patience'], factor=0.1)\n",
        "        return {\"optimizer\": optimizer, \"lr_scheduler\": scheduler, \"monitor\": \"val_loss\"}\n"
      ]
    },
    {
      "cell_type": "code",
      "execution_count": 45,
      "metadata": {},
      "outputs": [],
      "source": [
        "# overwriting getmodel\n",
        "\n",
        "def getmodel(parameters,emotion_representitive, trainset, valset):\n",
        "\n",
        "    model = LightningEmotionAttentionCNN(dict(parameters),emotion_representitive, trainset, valset)\n",
        "    return model"
      ]
    },
    {
      "cell_type": "code",
      "execution_count": 46,
      "metadata": {},
      "outputs": [
        {
          "name": "stderr",
          "output_type": "stream",
          "text": [
            "GPU available: True (cuda), used: True\n",
            "TPU available: False, using: 0 TPU cores\n",
            "IPU available: False, using: 0 IPUs\n",
            "HPU available: False, using: 0 HPUs\n",
            "/home/agorski/Desktop/projects/ENNCA-agorski/.venv/lib/python3.10/site-packages/pytorch_lightning/callbacks/model_checkpoint.py:653: Checkpoint directory /home/agorski/Desktop/projects/ENNCA-agorski/notebooks/gdrive/My Drive/training/archive exists and is not empty.\n",
            "LOCAL_RANK: 0 - CUDA_VISIBLE_DEVICES: [0]\n",
            "\n",
            "  | Name              | Type               | Params\n",
            "---------------------------------------------------------\n",
            "0 | feature_extractor | ResNet             | 11.2 M\n",
            "1 | attn              | MultiheadAttention | 1.1 M \n",
            "2 | classifier        | Linear             | 2.1 K \n",
            "3 | drop              | Dropout            | 0     \n",
            "4 | loss              | CrossEntropyLoss   | 0     \n",
            "  | other params      | n/a                | 512   \n",
            "---------------------------------------------------------\n",
            "12.2 M    Trainable params\n",
            "0         Non-trainable params\n",
            "12.2 M    Total params\n",
            "48.919    Total estimated model params size (MB)\n"
          ]
        },
        {
          "data": {
            "application/vnd.jupyter.widget-view+json": {
              "model_id": "9a6ec23371d244b596412ded13543791",
              "version_major": 2,
              "version_minor": 0
            },
            "text/plain": [
              "Sanity Checking: |          | 0/? [00:00<?, ?it/s]"
            ]
          },
          "metadata": {},
          "output_type": "display_data"
        },
        {
          "name": "stdout",
          "output_type": "stream",
          "text": [
            "val_acc: tensor(0.0238, device='cuda:0')\n"
          ]
        },
        {
          "name": "stderr",
          "output_type": "stream",
          "text": [
            "/home/agorski/Desktop/projects/ENNCA-agorski/.venv/lib/python3.10/site-packages/pytorch_lightning/loops/fit_loop.py:298: The number of training batches (21) is smaller than the logging interval Trainer(log_every_n_steps=50). Set a lower value for log_every_n_steps if you want to see logs for the training epoch.\n"
          ]
        },
        {
          "data": {
            "application/vnd.jupyter.widget-view+json": {
              "model_id": "4aaa782208b84f9bbde36be659c0bb5f",
              "version_major": 2,
              "version_minor": 0
            },
            "text/plain": [
              "Training: |          | 0/? [00:00<?, ?it/s]"
            ]
          },
          "metadata": {},
          "output_type": "display_data"
        },
        {
          "data": {
            "application/vnd.jupyter.widget-view+json": {
              "model_id": "a29ab1783f9c4fe8b5a590c11e78c2bd",
              "version_major": 2,
              "version_minor": 0
            },
            "text/plain": [
              "Validation: |          | 0/? [00:00<?, ?it/s]"
            ]
          },
          "metadata": {},
          "output_type": "display_data"
        },
        {
          "name": "stderr",
          "output_type": "stream",
          "text": [
            "Epoch 0, global step 21: 'val_loss' reached 0.08649 (best 0.08649), saving model to '/home/agorski/Desktop/projects/ENNCA-agorski/notebooks/gdrive/My Drive/training/archive/exp1-v5.ckpt' as top 1\n"
          ]
        },
        {
          "name": "stdout",
          "output_type": "stream",
          "text": [
            "val_acc: tensor(0.2857, device='cuda:0')\n"
          ]
        },
        {
          "data": {
            "application/vnd.jupyter.widget-view+json": {
              "model_id": "1e8e8d879ee04f758e24f955ddb6c1a3",
              "version_major": 2,
              "version_minor": 0
            },
            "text/plain": [
              "Validation: |          | 0/? [00:00<?, ?it/s]"
            ]
          },
          "metadata": {},
          "output_type": "display_data"
        },
        {
          "name": "stderr",
          "output_type": "stream",
          "text": [
            "Epoch 1, global step 42: 'val_loss' reached 0.08599 (best 0.08599), saving model to '/home/agorski/Desktop/projects/ENNCA-agorski/notebooks/gdrive/My Drive/training/archive/exp1-v5.ckpt' as top 1\n"
          ]
        },
        {
          "name": "stdout",
          "output_type": "stream",
          "text": [
            "val_acc: tensor(0.2857, device='cuda:0')\n"
          ]
        },
        {
          "data": {
            "application/vnd.jupyter.widget-view+json": {
              "model_id": "796bb95cac70454288c78af7c751792b",
              "version_major": 2,
              "version_minor": 0
            },
            "text/plain": [
              "Validation: |          | 0/? [00:00<?, ?it/s]"
            ]
          },
          "metadata": {},
          "output_type": "display_data"
        },
        {
          "name": "stderr",
          "output_type": "stream",
          "text": [
            "Epoch 2, global step 63: 'val_loss' reached 0.08539 (best 0.08539), saving model to '/home/agorski/Desktop/projects/ENNCA-agorski/notebooks/gdrive/My Drive/training/archive/exp1-v5.ckpt' as top 1\n"
          ]
        },
        {
          "name": "stdout",
          "output_type": "stream",
          "text": [
            "val_acc: tensor(0.2857, device='cuda:0')\n"
          ]
        },
        {
          "data": {
            "application/vnd.jupyter.widget-view+json": {
              "model_id": "f680f71b51f64ba59eb8548d40d1f62a",
              "version_major": 2,
              "version_minor": 0
            },
            "text/plain": [
              "Validation: |          | 0/? [00:00<?, ?it/s]"
            ]
          },
          "metadata": {},
          "output_type": "display_data"
        },
        {
          "name": "stderr",
          "output_type": "stream",
          "text": [
            "Epoch 3, global step 84: 'val_loss' reached 0.08481 (best 0.08481), saving model to '/home/agorski/Desktop/projects/ENNCA-agorski/notebooks/gdrive/My Drive/training/archive/exp1-v5.ckpt' as top 1\n"
          ]
        },
        {
          "name": "stdout",
          "output_type": "stream",
          "text": [
            "val_acc: tensor(0.2857, device='cuda:0')\n"
          ]
        },
        {
          "data": {
            "application/vnd.jupyter.widget-view+json": {
              "model_id": "17a4252f0a2446c1bd12de209fda6d93",
              "version_major": 2,
              "version_minor": 0
            },
            "text/plain": [
              "Validation: |          | 0/? [00:00<?, ?it/s]"
            ]
          },
          "metadata": {},
          "output_type": "display_data"
        },
        {
          "name": "stderr",
          "output_type": "stream",
          "text": [
            "Epoch 4, global step 105: 'val_loss' reached 0.08458 (best 0.08458), saving model to '/home/agorski/Desktop/projects/ENNCA-agorski/notebooks/gdrive/My Drive/training/archive/exp1-v5.ckpt' as top 1\n"
          ]
        },
        {
          "name": "stdout",
          "output_type": "stream",
          "text": [
            "val_acc: tensor(0.2857, device='cuda:0')\n"
          ]
        },
        {
          "data": {
            "application/vnd.jupyter.widget-view+json": {
              "model_id": "26dab89f5f684abe809f6e5f710e1785",
              "version_major": 2,
              "version_minor": 0
            },
            "text/plain": [
              "Validation: |          | 0/? [00:00<?, ?it/s]"
            ]
          },
          "metadata": {},
          "output_type": "display_data"
        },
        {
          "name": "stderr",
          "output_type": "stream",
          "text": [
            "Epoch 5, global step 126: 'val_loss' reached 0.08450 (best 0.08450), saving model to '/home/agorski/Desktop/projects/ENNCA-agorski/notebooks/gdrive/My Drive/training/archive/exp1-v5.ckpt' as top 1\n"
          ]
        },
        {
          "name": "stdout",
          "output_type": "stream",
          "text": [
            "val_acc: tensor(0.2857, device='cuda:0')\n"
          ]
        },
        {
          "data": {
            "application/vnd.jupyter.widget-view+json": {
              "model_id": "d8d8a2b1c692489d95b7f9a3e010c9bf",
              "version_major": 2,
              "version_minor": 0
            },
            "text/plain": [
              "Validation: |          | 0/? [00:00<?, ?it/s]"
            ]
          },
          "metadata": {},
          "output_type": "display_data"
        },
        {
          "name": "stderr",
          "output_type": "stream",
          "text": [
            "Epoch 6, global step 147: 'val_loss' reached 0.08449 (best 0.08449), saving model to '/home/agorski/Desktop/projects/ENNCA-agorski/notebooks/gdrive/My Drive/training/archive/exp1-v5.ckpt' as top 1\n"
          ]
        },
        {
          "name": "stdout",
          "output_type": "stream",
          "text": [
            "val_acc: tensor(0.2857, device='cuda:0')\n"
          ]
        },
        {
          "data": {
            "application/vnd.jupyter.widget-view+json": {
              "model_id": "da1da584e19345e9bd138d4035253501",
              "version_major": 2,
              "version_minor": 0
            },
            "text/plain": [
              "Validation: |          | 0/? [00:00<?, ?it/s]"
            ]
          },
          "metadata": {},
          "output_type": "display_data"
        },
        {
          "name": "stderr",
          "output_type": "stream",
          "text": [
            "Epoch 7, global step 168: 'val_loss' reached 0.08449 (best 0.08449), saving model to '/home/agorski/Desktop/projects/ENNCA-agorski/notebooks/gdrive/My Drive/training/archive/exp1-v5.ckpt' as top 1\n"
          ]
        },
        {
          "name": "stdout",
          "output_type": "stream",
          "text": [
            "val_acc: tensor(0.2857, device='cuda:0')\n"
          ]
        },
        {
          "data": {
            "application/vnd.jupyter.widget-view+json": {
              "model_id": "06e3581165f148d7bb2dcfff947b9c5b",
              "version_major": 2,
              "version_minor": 0
            },
            "text/plain": [
              "Validation: |          | 0/? [00:00<?, ?it/s]"
            ]
          },
          "metadata": {},
          "output_type": "display_data"
        },
        {
          "name": "stderr",
          "output_type": "stream",
          "text": [
            "Epoch 8, global step 189: 'val_loss' was not in top 1\n"
          ]
        },
        {
          "name": "stdout",
          "output_type": "stream",
          "text": [
            "val_acc: tensor(0.2857, device='cuda:0')\n"
          ]
        },
        {
          "data": {
            "application/vnd.jupyter.widget-view+json": {
              "model_id": "e76044e587e84b6696cad44bf9470c00",
              "version_major": 2,
              "version_minor": 0
            },
            "text/plain": [
              "Validation: |          | 0/? [00:00<?, ?it/s]"
            ]
          },
          "metadata": {},
          "output_type": "display_data"
        },
        {
          "name": "stderr",
          "output_type": "stream",
          "text": [
            "Epoch 9, global step 210: 'val_loss' reached 0.08449 (best 0.08449), saving model to '/home/agorski/Desktop/projects/ENNCA-agorski/notebooks/gdrive/My Drive/training/archive/exp1-v5.ckpt' as top 1\n"
          ]
        },
        {
          "name": "stdout",
          "output_type": "stream",
          "text": [
            "val_acc: tensor(0.2857, device='cuda:0')\n"
          ]
        },
        {
          "name": "stderr",
          "output_type": "stream",
          "text": [
            "`Trainer.fit` stopped: `max_epochs=10` reached.\n"
          ]
        }
      ],
      "source": [
        "cfg={'image_skip':2,'number_images':50,\n",
        "     'model_path': 'emotion.pth',\n",
        "     'batch_size': 16,\n",
        "     'number_classes':4,\n",
        "     'early_stopping':10,\n",
        "     'model_folder_path': 'archive',\n",
        "     'model_prefix':'exp1',\n",
        "     'n_epochs':10,\n",
        "     'train_path': train_set,\n",
        "     'val_path': val_set,\n",
        "     'init_learning_rate': 1e-4,\n",
        "     'scheduler_patience':5,\n",
        "     'num_workers':4}\n",
        "model=getmodel(cfg, emotion_representitive, train_dataset, val_dataset)\n",
        "trainer=get_trainer(cfg)\n",
        "trainer.fit(model)"
      ]
    },
    {
      "cell_type": "code",
      "execution_count": 47,
      "metadata": {},
      "outputs": [],
      "source": [
        "import seaborn as sns\n",
        "from sklearn.manifold import TSNE\n",
        "from sklearn.metrics import confusion_matrix\n",
        "import matplotlib.pyplot as plt\n",
        "\n",
        "def extract_features_and_labels(model, dataloader):\n",
        "    all_features = []\n",
        "    all_labels = []\n",
        "    all_preds_list = []\n",
        "\n",
        "    model.eval()\n",
        "    with torch.no_grad():\n",
        "        for batch in dataloader:\n",
        "            x, labels = batch\n",
        "            features = model.extract_feature(x)\n",
        "            preds_temp = model(x)\n",
        "            all_preds = torch.argmax(preds_temp,1)\n",
        "            all_features.append(features.cpu().numpy())\n",
        "            all_labels.append(labels.cpu().numpy())\n",
        "            all_preds_list.append(all_preds.cpu().numpy())\n",
        "\n",
        "    all_features = np.concatenate(all_features, axis=0)\n",
        "    all_labels = np.concatenate(all_labels, axis=0)\n",
        "    all_preds_list = np.concatenate(all_preds_list, axis=0)\n",
        "\n",
        "    return all_features, all_labels, all_preds_list\n",
        "\n",
        "\n",
        "val_features, val_labels, val_preds  = extract_features_and_labels(model, model.val_dataloader())\n"
      ]
    },
    {
      "cell_type": "code",
      "execution_count": 50,
      "metadata": {},
      "outputs": [
        {
          "data": {
            "image/png": "[encoded data removed]",
            "text/plain": [
              "<Figure size 1000x800 with 1 Axes>"
            ]
          },
          "metadata": {},
          "output_type": "display_data"
        },
        {
          "data": {
            "image/png": "[encoded data removed]",
            "text/plain": [
              "<Figure size 800x600 with 2 Axes>"
            ]
          },
          "metadata": {},
          "output_type": "display_data"
        }
      ],
      "source": [
        "tsne = TSNE(n_components=2, random_state=42)\n",
        "\n",
        "tsne_features = tsne.fit_transform(val_features.reshape(val_features.shape[0], -1))\n",
        "\n",
        "plt.figure(figsize=(10, 8))\n",
        "sns.scatterplot(x=tsne_features[:, 0], y=tsne_features[:, 1], hue=val_labels, palette=\"viridis\", legend=\"full\")\n",
        "plt.title(\"TSN-E Analysis of Features\")\n",
        "plt.show()\n",
        "\n",
        "\n",
        "conf_matrix = confusion_matrix(val_labels, val_preds)\n",
        "\n",
        "class_names = ['Neutral', 'Angry', 'Fearful', 'Disgust']\n",
        "\n",
        "plt.figure(figsize=(8, 6))\n",
        "sns.heatmap(conf_matrix, annot=True, fmt=\"d\", cmap=\"Blues\", xticklabels=class_names, yticklabels=class_names)\n",
        "plt.title(\"Confusion Matrix\")\n",
        "plt.xlabel(\"Predicted Label\")\n",
        "plt.ylabel(\"True Label\")\n",
        "plt.show()"
      ]
    }
  ],
  "metadata": {
    "accelerator": "GPU",
    "colab": {
      "gpuType": "T4",
      "provenance": []
    },
    "kernelspec": {
      "display_name": "Python 3",
      "name": "python3"
    },
    "language_info": {
      "codemirror_mode": {
        "name": "ipython",
        "version": 3
      },
      "file_extension": ".py",
      "mimetype": "text/x-python",
      "name": "python",
      "nbconvert_exporter": "python",
      "pygments_lexer": "ipython3",
      "version": "3.10.12"
    },
    "widgets": {
      "application/vnd.jupyter.widget-state+json": {
        "01471d7982e9481ba67599df83752095": {
          "model_module": "@jupyter-widgets/controls",
          "model_module_version": "1.5.0",
          "model_name": "HBoxModel",
          "state": {
            "_dom_classes": [],
            "_model_module": "@jupyter-widgets/controls",
            "_model_module_version": "1.5.0",
            "_model_name": "HBoxModel",
            "_view_count": null,
            "_view_module": "@jupyter-widgets/controls",
            "_view_module_version": "1.5.0",
            "_view_name": "HBoxView",
            "box_style": "",
            "children": [
              "IPY_MODEL_c5189c7fc5a04d6a83f8f9dcf4a1d6a5",
              "IPY_MODEL_f4c3a7bc8feb4fc0ba78c971985da4e3",
              "IPY_MODEL_a3704ce6dd5f4624bc6c400e2ca54768"
            ],
            "layout": "IPY_MODEL_46b94f52281a4c5aacec4a8e053e1de5"
          }
        },
        "0830173211e64f0c93a9c216fd3875b4": {
          "model_module": "@jupyter-widgets/controls",
          "model_module_version": "1.5.0",
          "model_name": "DescriptionStyleModel",
          "state": {
            "_model_module": "@jupyter-widgets/controls",
            "_model_module_version": "1.5.0",
            "_model_name": "DescriptionStyleModel",
            "_view_count": null,
            "_view_module": "@jupyter-widgets/base",
            "_view_module_version": "1.2.0",
            "_view_name": "StyleView",
            "description_width": ""
          }
        },
        "0897afc21ba744938939efdb10c1d69e": {
          "model_module": "@jupyter-widgets/controls",
          "model_module_version": "1.5.0",
          "model_name": "HBoxModel",
          "state": {
            "_dom_classes": [],
            "_model_module": "@jupyter-widgets/controls",
            "_model_module_version": "1.5.0",
            "_model_name": "HBoxModel",
            "_view_count": null,
            "_view_module": "@jupyter-widgets/controls",
            "_view_module_version": "1.5.0",
            "_view_name": "HBoxView",
            "box_style": "",
            "children": [
              "IPY_MODEL_ec2c76b3f7dd480faec39c6820a514a5",
              "IPY_MODEL_d0793034ce1f41508ac182371b0e7011",
              "IPY_MODEL_d3f1aedb82d7409583b2688b651bcc57"
            ],
            "layout": "IPY_MODEL_a3267c1fdf284487a759669001e1354b"
          }
        },
        "08d437f00d3c4b99a2976b9719b966ed": {
          "model_module": "@jupyter-widgets/base",
          "model_module_version": "1.2.0",
          "model_name": "LayoutModel",
          "state": {
            "_model_module": "@jupyter-widgets/base",
            "_model_module_version": "1.2.0",
            "_model_name": "LayoutModel",
            "_view_count": null,
            "_view_module": "@jupyter-widgets/base",
            "_view_module_version": "1.2.0",
            "_view_name": "LayoutView",
            "align_content": null,
            "align_items": null,
            "align_self": null,
            "border": null,
            "bottom": null,
            "display": null,
            "flex": "2",
            "flex_flow": null,
            "grid_area": null,
            "grid_auto_columns": null,
            "grid_auto_flow": null,
            "grid_auto_rows": null,
            "grid_column": null,
            "grid_gap": null,
            "grid_row": null,
            "grid_template_areas": null,
            "grid_template_columns": null,
            "grid_template_rows": null,
            "height": null,
            "justify_content": null,
            "justify_items": null,
            "left": null,
            "margin": null,
            "max_height": null,
            "max_width": null,
            "min_height": null,
            "min_width": null,
            "object_fit": null,
            "object_position": null,
            "order": null,
            "overflow": null,
            "overflow_x": null,
            "overflow_y": null,
            "padding": null,
            "right": null,
            "top": null,
            "visibility": null,
            "width": null
          }
        },
        "09a1ee9ba3fb416f9a83870517626998": {
          "model_module": "@jupyter-widgets/controls",
          "model_module_version": "1.5.0",
          "model_name": "HTMLModel",
          "state": {
            "_dom_classes": [],
            "_model_module": "@jupyter-widgets/controls",
            "_model_module_version": "1.5.0",
            "_model_name": "HTMLModel",
            "_view_count": null,
            "_view_module": "@jupyter-widgets/controls",
            "_view_module_version": "1.5.0",
            "_view_name": "HTMLView",
            "description": "",
            "description_tooltip": null,
            "layout": "IPY_MODEL_5f2538cd8cfc41f48ce46200845a0a30",
            "placeholder": "​",
            "style": "IPY_MODEL_5f9ee3d7c3ce4817b4c01d1decb77c23",
            "value": "Epoch 9: 100%"
          }
        },
        "0c31de56a99d416082de5c31665fdd75": {
          "model_module": "@jupyter-widgets/controls",
          "model_module_version": "1.5.0",
          "model_name": "DescriptionStyleModel",
          "state": {
            "_model_module": "@jupyter-widgets/controls",
            "_model_module_version": "1.5.0",
            "_model_name": "DescriptionStyleModel",
            "_view_count": null,
            "_view_module": "@jupyter-widgets/base",
            "_view_module_version": "1.2.0",
            "_view_name": "StyleView",
            "description_width": ""
          }
        },
        "0c4ee68fa8e548989f9487b48ec506ca": {
          "model_module": "@jupyter-widgets/base",
          "model_module_version": "1.2.0",
          "model_name": "LayoutModel",
          "state": {
            "_model_module": "@jupyter-widgets/base",
            "_model_module_version": "1.2.0",
            "_model_name": "LayoutModel",
            "_view_count": null,
            "_view_module": "@jupyter-widgets/base",
            "_view_module_version": "1.2.0",
            "_view_name": "LayoutView",
            "align_content": null,
            "align_items": null,
            "align_self": null,
            "border": null,
            "bottom": null,
            "display": null,
            "flex": "2",
            "flex_flow": null,
            "grid_area": null,
            "grid_auto_columns": null,
            "grid_auto_flow": null,
            "grid_auto_rows": null,
            "grid_column": null,
            "grid_gap": null,
            "grid_row": null,
            "grid_template_areas": null,
            "grid_template_columns": null,
            "grid_template_rows": null,
            "height": null,
            "justify_content": null,
            "justify_items": null,
            "left": null,
            "margin": null,
            "max_height": null,
            "max_width": null,
            "min_height": null,
            "min_width": null,
            "object_fit": null,
            "object_position": null,
            "order": null,
            "overflow": null,
            "overflow_x": null,
            "overflow_y": null,
            "padding": null,
            "right": null,
            "top": null,
            "visibility": null,
            "width": null
          }
        },
        "17f5f7394de744d5aa52b1b813869c19": {
          "model_module": "@jupyter-widgets/controls",
          "model_module_version": "1.5.0",
          "model_name": "DescriptionStyleModel",
          "state": {
            "_model_module": "@jupyter-widgets/controls",
            "_model_module_version": "1.5.0",
            "_model_name": "DescriptionStyleModel",
            "_view_count": null,
            "_view_module": "@jupyter-widgets/base",
            "_view_module_version": "1.2.0",
            "_view_name": "StyleView",
            "description_width": ""
          }
        },
        "1e2a732c3e264aec95e882c229b11a86": {
          "model_module": "@jupyter-widgets/controls",
          "model_module_version": "1.5.0",
          "model_name": "HBoxModel",
          "state": {
            "_dom_classes": [],
            "_model_module": "@jupyter-widgets/controls",
            "_model_module_version": "1.5.0",
            "_model_name": "HBoxModel",
            "_view_count": null,
            "_view_module": "@jupyter-widgets/controls",
            "_view_module_version": "1.5.0",
            "_view_name": "HBoxView",
            "box_style": "",
            "children": [
              "IPY_MODEL_3df6940c47864ebca954be503c43bcb1",
              "IPY_MODEL_6880ac3b23d848c19b1f023325c008cc",
              "IPY_MODEL_32282805b79c46af81c58f984314a807"
            ],
            "layout": "IPY_MODEL_d9af68e277c14dfb801c510f6c37fd68"
          }
        },
        "1f3b5f1f52e145deb7c52f4fec12a3ff": {
          "model_module": "@jupyter-widgets/base",
          "model_module_version": "1.2.0",
          "model_name": "LayoutModel",
          "state": {
            "_model_module": "@jupyter-widgets/base",
            "_model_module_version": "1.2.0",
            "_model_name": "LayoutModel",
            "_view_count": null,
            "_view_module": "@jupyter-widgets/base",
            "_view_module_version": "1.2.0",
            "_view_name": "LayoutView",
            "align_content": null,
            "align_items": null,
            "align_self": null,
            "border": null,
            "bottom": null,
            "display": "inline-flex",
            "flex": null,
            "flex_flow": "row wrap",
            "grid_area": null,
            "grid_auto_columns": null,
            "grid_auto_flow": null,
            "grid_auto_rows": null,
            "grid_column": null,
            "grid_gap": null,
            "grid_row": null,
            "grid_template_areas": null,
            "grid_template_columns": null,
            "grid_template_rows": null,
            "height": null,
            "justify_content": null,
            "justify_items": null,
            "left": null,
            "margin": null,
            "max_height": null,
            "max_width": null,
            "min_height": null,
            "min_width": null,
            "object_fit": null,
            "object_position": null,
            "order": null,
            "overflow": null,
            "overflow_x": null,
            "overflow_y": null,
            "padding": null,
            "right": null,
            "top": null,
            "visibility": "hidden",
            "width": "100%"
          }
        },
        "22b9a3b9b239494cbc3c1f5c8466d286": {
          "model_module": "@jupyter-widgets/controls",
          "model_module_version": "1.5.0",
          "model_name": "FloatProgressModel",
          "state": {
            "_dom_classes": [],
            "_model_module": "@jupyter-widgets/controls",
            "_model_module_version": "1.5.0",
            "_model_name": "FloatProgressModel",
            "_view_count": null,
            "_view_module": "@jupyter-widgets/controls",
            "_view_module_version": "1.5.0",
            "_view_name": "ProgressView",
            "bar_style": "",
            "description": "",
            "description_tooltip": null,
            "layout": "IPY_MODEL_25ed32c60b06486b9e2407762bf06764",
            "max": 2,
            "min": 0,
            "orientation": "horizontal",
            "style": "IPY_MODEL_b279de51f1294485a712d89217ef8f47",
            "value": 2
          }
        },
        "25402ef610094210bed216f195f5e250": {
          "model_module": "@jupyter-widgets/controls",
          "model_module_version": "1.5.0",
          "model_name": "HBoxModel",
          "state": {
            "_dom_classes": [],
            "_model_module": "@jupyter-widgets/controls",
            "_model_module_version": "1.5.0",
            "_model_name": "HBoxModel",
            "_view_count": null,
            "_view_module": "@jupyter-widgets/controls",
            "_view_module_version": "1.5.0",
            "_view_name": "HBoxView",
            "box_style": "",
            "children": [
              "IPY_MODEL_a509db43405d458881373ed5c20d01a7",
              "IPY_MODEL_ca66ec30e1bb47edb2e0e617f2661f00",
              "IPY_MODEL_74c977d4d86c4d10a60cba62c65b331f"
            ],
            "layout": "IPY_MODEL_b3d28f68c4914d339bcb7385bf160e1f"
          }
        },
        "25d59fad1ecc4c3e87faab8fb0a1213f": {
          "model_module": "@jupyter-widgets/controls",
          "model_module_version": "1.5.0",
          "model_name": "ProgressStyleModel",
          "state": {
            "_model_module": "@jupyter-widgets/controls",
            "_model_module_version": "1.5.0",
            "_model_name": "ProgressStyleModel",
            "_view_count": null,
            "_view_module": "@jupyter-widgets/base",
            "_view_module_version": "1.2.0",
            "_view_name": "StyleView",
            "bar_color": null,
            "description_width": ""
          }
        },
        "25ed32c60b06486b9e2407762bf06764": {
          "model_module": "@jupyter-widgets/base",
          "model_module_version": "1.2.0",
          "model_name": "LayoutModel",
          "state": {
            "_model_module": "@jupyter-widgets/base",
            "_model_module_version": "1.2.0",
            "_model_name": "LayoutModel",
            "_view_count": null,
            "_view_module": "@jupyter-widgets/base",
            "_view_module_version": "1.2.0",
            "_view_name": "LayoutView",
            "align_content": null,
            "align_items": null,
            "align_self": null,
            "border": null,
            "bottom": null,
            "display": null,
            "flex": "2",
            "flex_flow": null,
            "grid_area": null,
            "grid_auto_columns": null,
            "grid_auto_flow": null,
            "grid_auto_rows": null,
            "grid_column": null,
            "grid_gap": null,
            "grid_row": null,
            "grid_template_areas": null,
            "grid_template_columns": null,
            "grid_template_rows": null,
            "height": null,
            "justify_content": null,
            "justify_items": null,
            "left": null,
            "margin": null,
            "max_height": null,
            "max_width": null,
            "min_height": null,
            "min_width": null,
            "object_fit": null,
            "object_position": null,
            "order": null,
            "overflow": null,
            "overflow_x": null,
            "overflow_y": null,
            "padding": null,
            "right": null,
            "top": null,
            "visibility": null,
            "width": null
          }
        },
        "26e4a71616ac4eb481666dca585d66b5": {
          "model_module": "@jupyter-widgets/base",
          "model_module_version": "1.2.0",
          "model_name": "LayoutModel",
          "state": {
            "_model_module": "@jupyter-widgets/base",
            "_model_module_version": "1.2.0",
            "_model_name": "LayoutModel",
            "_view_count": null,
            "_view_module": "@jupyter-widgets/base",
            "_view_module_version": "1.2.0",
            "_view_name": "LayoutView",
            "align_content": null,
            "align_items": null,
            "align_self": null,
            "border": null,
            "bottom": null,
            "display": null,
            "flex": null,
            "flex_flow": null,
            "grid_area": null,
            "grid_auto_columns": null,
            "grid_auto_flow": null,
            "grid_auto_rows": null,
            "grid_column": null,
            "grid_gap": null,
            "grid_row": null,
            "grid_template_areas": null,
            "grid_template_columns": null,
            "grid_template_rows": null,
            "height": null,
            "justify_content": null,
            "justify_items": null,
            "left": null,
            "margin": null,
            "max_height": null,
            "max_width": null,
            "min_height": null,
            "min_width": null,
            "object_fit": null,
            "object_position": null,
            "order": null,
            "overflow": null,
            "overflow_x": null,
            "overflow_y": null,
            "padding": null,
            "right": null,
            "top": null,
            "visibility": null,
            "width": null
          }
        },
        "27560b9107f74b31b41641839e4f6bfb": {
          "model_module": "@jupyter-widgets/controls",
          "model_module_version": "1.5.0",
          "model_name": "HBoxModel",
          "state": {
            "_dom_classes": [],
            "_model_module": "@jupyter-widgets/controls",
            "_model_module_version": "1.5.0",
            "_model_name": "HBoxModel",
            "_view_count": null,
            "_view_module": "@jupyter-widgets/controls",
            "_view_module_version": "1.5.0",
            "_view_name": "HBoxView",
            "box_style": "",
            "children": [
              "IPY_MODEL_09a1ee9ba3fb416f9a83870517626998",
              "IPY_MODEL_d80a96461a3f40b8a06a621a018eebac",
              "IPY_MODEL_6138e7cdd5084f928857933118019b77"
            ],
            "layout": "IPY_MODEL_e6ea2dc98a0e41a8be1bbe0fb87c8999"
          }
        },
        "2bc292370c4b439e90253c4ae0300c83": {
          "model_module": "@jupyter-widgets/base",
          "model_module_version": "1.2.0",
          "model_name": "LayoutModel",
          "state": {
            "_model_module": "@jupyter-widgets/base",
            "_model_module_version": "1.2.0",
            "_model_name": "LayoutModel",
            "_view_count": null,
            "_view_module": "@jupyter-widgets/base",
            "_view_module_version": "1.2.0",
            "_view_name": "LayoutView",
            "align_content": null,
            "align_items": null,
            "align_self": null,
            "border": null,
            "bottom": null,
            "display": null,
            "flex": null,
            "flex_flow": null,
            "grid_area": null,
            "grid_auto_columns": null,
            "grid_auto_flow": null,
            "grid_auto_rows": null,
            "grid_column": null,
            "grid_gap": null,
            "grid_row": null,
            "grid_template_areas": null,
            "grid_template_columns": null,
            "grid_template_rows": null,
            "height": null,
            "justify_content": null,
            "justify_items": null,
            "left": null,
            "margin": null,
            "max_height": null,
            "max_width": null,
            "min_height": null,
            "min_width": null,
            "object_fit": null,
            "object_position": null,
            "order": null,
            "overflow": null,
            "overflow_x": null,
            "overflow_y": null,
            "padding": null,
            "right": null,
            "top": null,
            "visibility": null,
            "width": null
          }
        },
        "2d5f8d74710b4ddea7a4aeac948ffa9f": {
          "model_module": "@jupyter-widgets/base",
          "model_module_version": "1.2.0",
          "model_name": "LayoutModel",
          "state": {
            "_model_module": "@jupyter-widgets/base",
            "_model_module_version": "1.2.0",
            "_model_name": "LayoutModel",
            "_view_count": null,
            "_view_module": "@jupyter-widgets/base",
            "_view_module_version": "1.2.0",
            "_view_name": "LayoutView",
            "align_content": null,
            "align_items": null,
            "align_self": null,
            "border": null,
            "bottom": null,
            "display": null,
            "flex": null,
            "flex_flow": null,
            "grid_area": null,
            "grid_auto_columns": null,
            "grid_auto_flow": null,
            "grid_auto_rows": null,
            "grid_column": null,
            "grid_gap": null,
            "grid_row": null,
            "grid_template_areas": null,
            "grid_template_columns": null,
            "grid_template_rows": null,
            "height": null,
            "justify_content": null,
            "justify_items": null,
            "left": null,
            "margin": null,
            "max_height": null,
            "max_width": null,
            "min_height": null,
            "min_width": null,
            "object_fit": null,
            "object_position": null,
            "order": null,
            "overflow": null,
            "overflow_x": null,
            "overflow_y": null,
            "padding": null,
            "right": null,
            "top": null,
            "visibility": null,
            "width": null
          }
        },
        "3097aa98438f4b04b54113ec8497b41b": {
          "model_module": "@jupyter-widgets/controls",
          "model_module_version": "1.5.0",
          "model_name": "ProgressStyleModel",
          "state": {
            "_model_module": "@jupyter-widgets/controls",
            "_model_module_version": "1.5.0",
            "_model_name": "ProgressStyleModel",
            "_view_count": null,
            "_view_module": "@jupyter-widgets/base",
            "_view_module_version": "1.2.0",
            "_view_name": "StyleView",
            "bar_color": null,
            "description_width": ""
          }
        },
        "32282805b79c46af81c58f984314a807": {
          "model_module": "@jupyter-widgets/controls",
          "model_module_version": "1.5.0",
          "model_name": "HTMLModel",
          "state": {
            "_dom_classes": [],
            "_model_module": "@jupyter-widgets/controls",
            "_model_module_version": "1.5.0",
            "_model_name": "HTMLModel",
            "_view_count": null,
            "_view_module": "@jupyter-widgets/controls",
            "_view_module_version": "1.5.0",
            "_view_name": "HTMLView",
            "description": "",
            "description_tooltip": null,
            "layout": "IPY_MODEL_48dd6cae744a4ba68931cd02ddacc0cf",
            "placeholder": "​",
            "style": "IPY_MODEL_38471888c9994a15ad2132aae96c5a1b",
            "value": " 21/21 [00:04&lt;00:00,  4.32it/s]"
          }
        },
        "35428d7d075149ec96e874bcc3df6f39": {
          "model_module": "@jupyter-widgets/controls",
          "model_module_version": "1.5.0",
          "model_name": "ProgressStyleModel",
          "state": {
            "_model_module": "@jupyter-widgets/controls",
            "_model_module_version": "1.5.0",
            "_model_name": "ProgressStyleModel",
            "_view_count": null,
            "_view_module": "@jupyter-widgets/base",
            "_view_module_version": "1.2.0",
            "_view_name": "StyleView",
            "bar_color": null,
            "description_width": ""
          }
        },
        "3735edfa503544debc1422ed8999691d": {
          "model_module": "@jupyter-widgets/controls",
          "model_module_version": "1.5.0",
          "model_name": "DescriptionStyleModel",
          "state": {
            "_model_module": "@jupyter-widgets/controls",
            "_model_module_version": "1.5.0",
            "_model_name": "DescriptionStyleModel",
            "_view_count": null,
            "_view_module": "@jupyter-widgets/base",
            "_view_module_version": "1.2.0",
            "_view_name": "StyleView",
            "description_width": ""
          }
        },
        "38471888c9994a15ad2132aae96c5a1b": {
          "model_module": "@jupyter-widgets/controls",
          "model_module_version": "1.5.0",
          "model_name": "DescriptionStyleModel",
          "state": {
            "_model_module": "@jupyter-widgets/controls",
            "_model_module_version": "1.5.0",
            "_model_name": "DescriptionStyleModel",
            "_view_count": null,
            "_view_module": "@jupyter-widgets/base",
            "_view_module_version": "1.2.0",
            "_view_name": "StyleView",
            "description_width": ""
          }
        },
        "391699ea565a40678d0852569d4bbc6f": {
          "model_module": "@jupyter-widgets/base",
          "model_module_version": "1.2.0",
          "model_name": "LayoutModel",
          "state": {
            "_model_module": "@jupyter-widgets/base",
            "_model_module_version": "1.2.0",
            "_model_name": "LayoutModel",
            "_view_count": null,
            "_view_module": "@jupyter-widgets/base",
            "_view_module_version": "1.2.0",
            "_view_name": "LayoutView",
            "align_content": null,
            "align_items": null,
            "align_self": null,
            "border": null,
            "bottom": null,
            "display": "inline-flex",
            "flex": null,
            "flex_flow": "row wrap",
            "grid_area": null,
            "grid_auto_columns": null,
            "grid_auto_flow": null,
            "grid_auto_rows": null,
            "grid_column": null,
            "grid_gap": null,
            "grid_row": null,
            "grid_template_areas": null,
            "grid_template_columns": null,
            "grid_template_rows": null,
            "height": null,
            "justify_content": null,
            "justify_items": null,
            "left": null,
            "margin": null,
            "max_height": null,
            "max_width": null,
            "min_height": null,
            "min_width": null,
            "object_fit": null,
            "object_position": null,
            "order": null,
            "overflow": null,
            "overflow_x": null,
            "overflow_y": null,
            "padding": null,
            "right": null,
            "top": null,
            "visibility": "hidden",
            "width": "100%"
          }
        },
        "3b577fe0f7a24f14945daf40c70ee211": {
          "model_module": "@jupyter-widgets/controls",
          "model_module_version": "1.5.0",
          "model_name": "HTMLModel",
          "state": {
            "_dom_classes": [],
            "_model_module": "@jupyter-widgets/controls",
            "_model_module_version": "1.5.0",
            "_model_name": "HTMLModel",
            "_view_count": null,
            "_view_module": "@jupyter-widgets/controls",
            "_view_module_version": "1.5.0",
            "_view_name": "HTMLView",
            "description": "",
            "description_tooltip": null,
            "layout": "IPY_MODEL_6a074c180bde4651a9b58d24e13651e9",
            "placeholder": "​",
            "style": "IPY_MODEL_5c3e0692adf34fcdae62645e75c72876",
            "value": " 21/21 [00:04&lt;00:00,  4.81it/s]"
          }
        },
        "3b58ce85036c40fbb97c32f5b5125c3b": {
          "model_module": "@jupyter-widgets/base",
          "model_module_version": "1.2.0",
          "model_name": "LayoutModel",
          "state": {
            "_model_module": "@jupyter-widgets/base",
            "_model_module_version": "1.2.0",
            "_model_name": "LayoutModel",
            "_view_count": null,
            "_view_module": "@jupyter-widgets/base",
            "_view_module_version": "1.2.0",
            "_view_name": "LayoutView",
            "align_content": null,
            "align_items": null,
            "align_self": null,
            "border": null,
            "bottom": null,
            "display": "inline-flex",
            "flex": null,
            "flex_flow": "row wrap",
            "grid_area": null,
            "grid_auto_columns": null,
            "grid_auto_flow": null,
            "grid_auto_rows": null,
            "grid_column": null,
            "grid_gap": null,
            "grid_row": null,
            "grid_template_areas": null,
            "grid_template_columns": null,
            "grid_template_rows": null,
            "height": null,
            "justify_content": null,
            "justify_items": null,
            "left": null,
            "margin": null,
            "max_height": null,
            "max_width": null,
            "min_height": null,
            "min_width": null,
            "object_fit": null,
            "object_position": null,
            "order": null,
            "overflow": null,
            "overflow_x": null,
            "overflow_y": null,
            "padding": null,
            "right": null,
            "top": null,
            "visibility": "hidden",
            "width": "100%"
          }
        },
        "3df6940c47864ebca954be503c43bcb1": {
          "model_module": "@jupyter-widgets/controls",
          "model_module_version": "1.5.0",
          "model_name": "HTMLModel",
          "state": {
            "_dom_classes": [],
            "_model_module": "@jupyter-widgets/controls",
            "_model_module_version": "1.5.0",
            "_model_name": "HTMLModel",
            "_view_count": null,
            "_view_module": "@jupyter-widgets/controls",
            "_view_module_version": "1.5.0",
            "_view_name": "HTMLView",
            "description": "",
            "description_tooltip": null,
            "layout": "IPY_MODEL_99f83cec8804406883464a9e012b15e3",
            "placeholder": "​",
            "style": "IPY_MODEL_c1aeacdfb0414b33961e12939853b1b6",
            "value": "Validation DataLoader 0: 100%"
          }
        },
        "3e79f36b2c8b4f23a338fdffbcb984f5": {
          "model_module": "@jupyter-widgets/base",
          "model_module_version": "1.2.0",
          "model_name": "LayoutModel",
          "state": {
            "_model_module": "@jupyter-widgets/base",
            "_model_module_version": "1.2.0",
            "_model_name": "LayoutModel",
            "_view_count": null,
            "_view_module": "@jupyter-widgets/base",
            "_view_module_version": "1.2.0",
            "_view_name": "LayoutView",
            "align_content": null,
            "align_items": null,
            "align_self": null,
            "border": null,
            "bottom": null,
            "display": null,
            "flex": "2",
            "flex_flow": null,
            "grid_area": null,
            "grid_auto_columns": null,
            "grid_auto_flow": null,
            "grid_auto_rows": null,
            "grid_column": null,
            "grid_gap": null,
            "grid_row": null,
            "grid_template_areas": null,
            "grid_template_columns": null,
            "grid_template_rows": null,
            "height": null,
            "justify_content": null,
            "justify_items": null,
            "left": null,
            "margin": null,
            "max_height": null,
            "max_width": null,
            "min_height": null,
            "min_width": null,
            "object_fit": null,
            "object_position": null,
            "order": null,
            "overflow": null,
            "overflow_x": null,
            "overflow_y": null,
            "padding": null,
            "right": null,
            "top": null,
            "visibility": null,
            "width": null
          }
        },
        "4204a38a07094361898e9eed972c2f96": {
          "model_module": "@jupyter-widgets/controls",
          "model_module_version": "1.5.0",
          "model_name": "ProgressStyleModel",
          "state": {
            "_model_module": "@jupyter-widgets/controls",
            "_model_module_version": "1.5.0",
            "_model_name": "ProgressStyleModel",
            "_view_count": null,
            "_view_module": "@jupyter-widgets/base",
            "_view_module_version": "1.2.0",
            "_view_name": "StyleView",
            "bar_color": null,
            "description_width": ""
          }
        },
        "42e9ee50fd1e4d8893e2535f8ebf4c00": {
          "model_module": "@jupyter-widgets/base",
          "model_module_version": "1.2.0",
          "model_name": "LayoutModel",
          "state": {
            "_model_module": "@jupyter-widgets/base",
            "_model_module_version": "1.2.0",
            "_model_name": "LayoutModel",
            "_view_count": null,
            "_view_module": "@jupyter-widgets/base",
            "_view_module_version": "1.2.0",
            "_view_name": "LayoutView",
            "align_content": null,
            "align_items": null,
            "align_self": null,
            "border": null,
            "bottom": null,
            "display": null,
            "flex": "2",
            "flex_flow": null,
            "grid_area": null,
            "grid_auto_columns": null,
            "grid_auto_flow": null,
            "grid_auto_rows": null,
            "grid_column": null,
            "grid_gap": null,
            "grid_row": null,
            "grid_template_areas": null,
            "grid_template_columns": null,
            "grid_template_rows": null,
            "height": null,
            "justify_content": null,
            "justify_items": null,
            "left": null,
            "margin": null,
            "max_height": null,
            "max_width": null,
            "min_height": null,
            "min_width": null,
            "object_fit": null,
            "object_position": null,
            "order": null,
            "overflow": null,
            "overflow_x": null,
            "overflow_y": null,
            "padding": null,
            "right": null,
            "top": null,
            "visibility": null,
            "width": null
          }
        },
        "435fa320635f46d4b33ff5c33b81dab0": {
          "model_module": "@jupyter-widgets/controls",
          "model_module_version": "1.5.0",
          "model_name": "HBoxModel",
          "state": {
            "_dom_classes": [],
            "_model_module": "@jupyter-widgets/controls",
            "_model_module_version": "1.5.0",
            "_model_name": "HBoxModel",
            "_view_count": null,
            "_view_module": "@jupyter-widgets/controls",
            "_view_module_version": "1.5.0",
            "_view_name": "HBoxView",
            "box_style": "",
            "children": [
              "IPY_MODEL_8e07e304fbee4ec2a5060cb9f55364d4",
              "IPY_MODEL_a7bf92b48bad4e799ad2de9aa55d6a62",
              "IPY_MODEL_6163cc15938d4e09a8dde3cc8203647c"
            ],
            "layout": "IPY_MODEL_391699ea565a40678d0852569d4bbc6f"
          }
        },
        "46b94f52281a4c5aacec4a8e053e1de5": {
          "model_module": "@jupyter-widgets/base",
          "model_module_version": "1.2.0",
          "model_name": "LayoutModel",
          "state": {
            "_model_module": "@jupyter-widgets/base",
            "_model_module_version": "1.2.0",
            "_model_name": "LayoutModel",
            "_view_count": null,
            "_view_module": "@jupyter-widgets/base",
            "_view_module_version": "1.2.0",
            "_view_name": "LayoutView",
            "align_content": null,
            "align_items": null,
            "align_self": null,
            "border": null,
            "bottom": null,
            "display": "inline-flex",
            "flex": null,
            "flex_flow": "row wrap",
            "grid_area": null,
            "grid_auto_columns": null,
            "grid_auto_flow": null,
            "grid_auto_rows": null,
            "grid_column": null,
            "grid_gap": null,
            "grid_row": null,
            "grid_template_areas": null,
            "grid_template_columns": null,
            "grid_template_rows": null,
            "height": null,
            "justify_content": null,
            "justify_items": null,
            "left": null,
            "margin": null,
            "max_height": null,
            "max_width": null,
            "min_height": null,
            "min_width": null,
            "object_fit": null,
            "object_position": null,
            "order": null,
            "overflow": null,
            "overflow_x": null,
            "overflow_y": null,
            "padding": null,
            "right": null,
            "top": null,
            "visibility": "hidden",
            "width": "100%"
          }
        },
        "48bece84c43641699b292d61c0e479c0": {
          "model_module": "@jupyter-widgets/base",
          "model_module_version": "1.2.0",
          "model_name": "LayoutModel",
          "state": {
            "_model_module": "@jupyter-widgets/base",
            "_model_module_version": "1.2.0",
            "_model_name": "LayoutModel",
            "_view_count": null,
            "_view_module": "@jupyter-widgets/base",
            "_view_module_version": "1.2.0",
            "_view_name": "LayoutView",
            "align_content": null,
            "align_items": null,
            "align_self": null,
            "border": null,
            "bottom": null,
            "display": null,
            "flex": null,
            "flex_flow": null,
            "grid_area": null,
            "grid_auto_columns": null,
            "grid_auto_flow": null,
            "grid_auto_rows": null,
            "grid_column": null,
            "grid_gap": null,
            "grid_row": null,
            "grid_template_areas": null,
            "grid_template_columns": null,
            "grid_template_rows": null,
            "height": null,
            "justify_content": null,
            "justify_items": null,
            "left": null,
            "margin": null,
            "max_height": null,
            "max_width": null,
            "min_height": null,
            "min_width": null,
            "object_fit": null,
            "object_position": null,
            "order": null,
            "overflow": null,
            "overflow_x": null,
            "overflow_y": null,
            "padding": null,
            "right": null,
            "top": null,
            "visibility": null,
            "width": null
          }
        },
        "48dd6cae744a4ba68931cd02ddacc0cf": {
          "model_module": "@jupyter-widgets/base",
          "model_module_version": "1.2.0",
          "model_name": "LayoutModel",
          "state": {
            "_model_module": "@jupyter-widgets/base",
            "_model_module_version": "1.2.0",
            "_model_name": "LayoutModel",
            "_view_count": null,
            "_view_module": "@jupyter-widgets/base",
            "_view_module_version": "1.2.0",
            "_view_name": "LayoutView",
            "align_content": null,
            "align_items": null,
            "align_self": null,
            "border": null,
            "bottom": null,
            "display": null,
            "flex": null,
            "flex_flow": null,
            "grid_area": null,
            "grid_auto_columns": null,
            "grid_auto_flow": null,
            "grid_auto_rows": null,
            "grid_column": null,
            "grid_gap": null,
            "grid_row": null,
            "grid_template_areas": null,
            "grid_template_columns": null,
            "grid_template_rows": null,
            "height": null,
            "justify_content": null,
            "justify_items": null,
            "left": null,
            "margin": null,
            "max_height": null,
            "max_width": null,
            "min_height": null,
            "min_width": null,
            "object_fit": null,
            "object_position": null,
            "order": null,
            "overflow": null,
            "overflow_x": null,
            "overflow_y": null,
            "padding": null,
            "right": null,
            "top": null,
            "visibility": null,
            "width": null
          }
        },
        "4a066624bd824a029e7cfea7d4ecd720": {
          "model_module": "@jupyter-widgets/base",
          "model_module_version": "1.2.0",
          "model_name": "LayoutModel",
          "state": {
            "_model_module": "@jupyter-widgets/base",
            "_model_module_version": "1.2.0",
            "_model_name": "LayoutModel",
            "_view_count": null,
            "_view_module": "@jupyter-widgets/base",
            "_view_module_version": "1.2.0",
            "_view_name": "LayoutView",
            "align_content": null,
            "align_items": null,
            "align_self": null,
            "border": null,
            "bottom": null,
            "display": null,
            "flex": "2",
            "flex_flow": null,
            "grid_area": null,
            "grid_auto_columns": null,
            "grid_auto_flow": null,
            "grid_auto_rows": null,
            "grid_column": null,
            "grid_gap": null,
            "grid_row": null,
            "grid_template_areas": null,
            "grid_template_columns": null,
            "grid_template_rows": null,
            "height": null,
            "justify_content": null,
            "justify_items": null,
            "left": null,
            "margin": null,
            "max_height": null,
            "max_width": null,
            "min_height": null,
            "min_width": null,
            "object_fit": null,
            "object_position": null,
            "order": null,
            "overflow": null,
            "overflow_x": null,
            "overflow_y": null,
            "padding": null,
            "right": null,
            "top": null,
            "visibility": null,
            "width": null
          }
        },
        "4ebf203e52c34e36af33029db34b200e": {
          "model_module": "@jupyter-widgets/controls",
          "model_module_version": "1.5.0",
          "model_name": "HTMLModel",
          "state": {
            "_dom_classes": [],
            "_model_module": "@jupyter-widgets/controls",
            "_model_module_version": "1.5.0",
            "_model_name": "HTMLModel",
            "_view_count": null,
            "_view_module": "@jupyter-widgets/controls",
            "_view_module_version": "1.5.0",
            "_view_name": "HTMLView",
            "description": "",
            "description_tooltip": null,
            "layout": "IPY_MODEL_eea5737d945543ca899a46839ea8e2ce",
            "placeholder": "​",
            "style": "IPY_MODEL_17f5f7394de744d5aa52b1b813869c19",
            "value": " 21/21 [00:04&lt;00:00,  4.91it/s]"
          }
        },
        "50449058f1b74999903a123a5345b76e": {
          "model_module": "@jupyter-widgets/controls",
          "model_module_version": "1.5.0",
          "model_name": "HBoxModel",
          "state": {
            "_dom_classes": [],
            "_model_module": "@jupyter-widgets/controls",
            "_model_module_version": "1.5.0",
            "_model_name": "HBoxModel",
            "_view_count": null,
            "_view_module": "@jupyter-widgets/controls",
            "_view_module_version": "1.5.0",
            "_view_name": "HBoxView",
            "box_style": "",
            "children": [
              "IPY_MODEL_8c83cbdfb75641559e1216e5b17549ac",
              "IPY_MODEL_22b9a3b9b239494cbc3c1f5c8466d286",
              "IPY_MODEL_c979bc50d74f47ff8c0d42dd3f50043b"
            ],
            "layout": "IPY_MODEL_cab00d9b161d4173a00b52566569493b"
          }
        },
        "517b365a91ad438ca2ffa526c014e94c": {
          "model_module": "@jupyter-widgets/controls",
          "model_module_version": "1.5.0",
          "model_name": "HTMLModel",
          "state": {
            "_dom_classes": [],
            "_model_module": "@jupyter-widgets/controls",
            "_model_module_version": "1.5.0",
            "_model_name": "HTMLModel",
            "_view_count": null,
            "_view_module": "@jupyter-widgets/controls",
            "_view_module_version": "1.5.0",
            "_view_name": "HTMLView",
            "description": "",
            "description_tooltip": null,
            "layout": "IPY_MODEL_7337dbf959ad4be6b6864fcbac956215",
            "placeholder": "​",
            "style": "IPY_MODEL_867d5c34c5a24942b7b8fb556a94c85c",
            "value": "Validation DataLoader 0: 100%"
          }
        },
        "54aa1ee053da4df5999f428db6948798": {
          "model_module": "@jupyter-widgets/base",
          "model_module_version": "1.2.0",
          "model_name": "LayoutModel",
          "state": {
            "_model_module": "@jupyter-widgets/base",
            "_model_module_version": "1.2.0",
            "_model_name": "LayoutModel",
            "_view_count": null,
            "_view_module": "@jupyter-widgets/base",
            "_view_module_version": "1.2.0",
            "_view_name": "LayoutView",
            "align_content": null,
            "align_items": null,
            "align_self": null,
            "border": null,
            "bottom": null,
            "display": null,
            "flex": null,
            "flex_flow": null,
            "grid_area": null,
            "grid_auto_columns": null,
            "grid_auto_flow": null,
            "grid_auto_rows": null,
            "grid_column": null,
            "grid_gap": null,
            "grid_row": null,
            "grid_template_areas": null,
            "grid_template_columns": null,
            "grid_template_rows": null,
            "height": null,
            "justify_content": null,
            "justify_items": null,
            "left": null,
            "margin": null,
            "max_height": null,
            "max_width": null,
            "min_height": null,
            "min_width": null,
            "object_fit": null,
            "object_position": null,
            "order": null,
            "overflow": null,
            "overflow_x": null,
            "overflow_y": null,
            "padding": null,
            "right": null,
            "top": null,
            "visibility": null,
            "width": null
          }
        },
        "59a0cb346d0b4dddafb2d6518b15f86f": {
          "model_module": "@jupyter-widgets/controls",
          "model_module_version": "1.5.0",
          "model_name": "DescriptionStyleModel",
          "state": {
            "_model_module": "@jupyter-widgets/controls",
            "_model_module_version": "1.5.0",
            "_model_name": "DescriptionStyleModel",
            "_view_count": null,
            "_view_module": "@jupyter-widgets/base",
            "_view_module_version": "1.2.0",
            "_view_name": "StyleView",
            "description_width": ""
          }
        },
        "5b3dc86b67854b8db8b7ac16db6fbf52": {
          "model_module": "@jupyter-widgets/controls",
          "model_module_version": "1.5.0",
          "model_name": "DescriptionStyleModel",
          "state": {
            "_model_module": "@jupyter-widgets/controls",
            "_model_module_version": "1.5.0",
            "_model_name": "DescriptionStyleModel",
            "_view_count": null,
            "_view_module": "@jupyter-widgets/base",
            "_view_module_version": "1.2.0",
            "_view_name": "StyleView",
            "description_width": ""
          }
        },
        "5c3e0692adf34fcdae62645e75c72876": {
          "model_module": "@jupyter-widgets/controls",
          "model_module_version": "1.5.0",
          "model_name": "DescriptionStyleModel",
          "state": {
            "_model_module": "@jupyter-widgets/controls",
            "_model_module_version": "1.5.0",
            "_model_name": "DescriptionStyleModel",
            "_view_count": null,
            "_view_module": "@jupyter-widgets/base",
            "_view_module_version": "1.2.0",
            "_view_name": "StyleView",
            "description_width": ""
          }
        },
        "5d18027dc0894d3998a8437d6d1fbcda": {
          "model_module": "@jupyter-widgets/base",
          "model_module_version": "1.2.0",
          "model_name": "LayoutModel",
          "state": {
            "_model_module": "@jupyter-widgets/base",
            "_model_module_version": "1.2.0",
            "_model_name": "LayoutModel",
            "_view_count": null,
            "_view_module": "@jupyter-widgets/base",
            "_view_module_version": "1.2.0",
            "_view_name": "LayoutView",
            "align_content": null,
            "align_items": null,
            "align_self": null,
            "border": null,
            "bottom": null,
            "display": null,
            "flex": "2",
            "flex_flow": null,
            "grid_area": null,
            "grid_auto_columns": null,
            "grid_auto_flow": null,
            "grid_auto_rows": null,
            "grid_column": null,
            "grid_gap": null,
            "grid_row": null,
            "grid_template_areas": null,
            "grid_template_columns": null,
            "grid_template_rows": null,
            "height": null,
            "justify_content": null,
            "justify_items": null,
            "left": null,
            "margin": null,
            "max_height": null,
            "max_width": null,
            "min_height": null,
            "min_width": null,
            "object_fit": null,
            "object_position": null,
            "order": null,
            "overflow": null,
            "overflow_x": null,
            "overflow_y": null,
            "padding": null,
            "right": null,
            "top": null,
            "visibility": null,
            "width": null
          }
        },
        "5f2538cd8cfc41f48ce46200845a0a30": {
          "model_module": "@jupyter-widgets/base",
          "model_module_version": "1.2.0",
          "model_name": "LayoutModel",
          "state": {
            "_model_module": "@jupyter-widgets/base",
            "_model_module_version": "1.2.0",
            "_model_name": "LayoutModel",
            "_view_count": null,
            "_view_module": "@jupyter-widgets/base",
            "_view_module_version": "1.2.0",
            "_view_name": "LayoutView",
            "align_content": null,
            "align_items": null,
            "align_self": null,
            "border": null,
            "bottom": null,
            "display": null,
            "flex": null,
            "flex_flow": null,
            "grid_area": null,
            "grid_auto_columns": null,
            "grid_auto_flow": null,
            "grid_auto_rows": null,
            "grid_column": null,
            "grid_gap": null,
            "grid_row": null,
            "grid_template_areas": null,
            "grid_template_columns": null,
            "grid_template_rows": null,
            "height": null,
            "justify_content": null,
            "justify_items": null,
            "left": null,
            "margin": null,
            "max_height": null,
            "max_width": null,
            "min_height": null,
            "min_width": null,
            "object_fit": null,
            "object_position": null,
            "order": null,
            "overflow": null,
            "overflow_x": null,
            "overflow_y": null,
            "padding": null,
            "right": null,
            "top": null,
            "visibility": null,
            "width": null
          }
        },
        "5f7f02ada3f140f9ab13044bf7886785": {
          "model_module": "@jupyter-widgets/controls",
          "model_module_version": "1.5.0",
          "model_name": "ProgressStyleModel",
          "state": {
            "_model_module": "@jupyter-widgets/controls",
            "_model_module_version": "1.5.0",
            "_model_name": "ProgressStyleModel",
            "_view_count": null,
            "_view_module": "@jupyter-widgets/base",
            "_view_module_version": "1.2.0",
            "_view_name": "StyleView",
            "bar_color": null,
            "description_width": ""
          }
        },
        "5f9ee3d7c3ce4817b4c01d1decb77c23": {
          "model_module": "@jupyter-widgets/controls",
          "model_module_version": "1.5.0",
          "model_name": "DescriptionStyleModel",
          "state": {
            "_model_module": "@jupyter-widgets/controls",
            "_model_module_version": "1.5.0",
            "_model_name": "DescriptionStyleModel",
            "_view_count": null,
            "_view_module": "@jupyter-widgets/base",
            "_view_module_version": "1.2.0",
            "_view_name": "StyleView",
            "description_width": ""
          }
        },
        "60eed701397249c49fd2b321b2a6e91e": {
          "model_module": "@jupyter-widgets/controls",
          "model_module_version": "1.5.0",
          "model_name": "HBoxModel",
          "state": {
            "_dom_classes": [],
            "_model_module": "@jupyter-widgets/controls",
            "_model_module_version": "1.5.0",
            "_model_name": "HBoxModel",
            "_view_count": null,
            "_view_module": "@jupyter-widgets/controls",
            "_view_module_version": "1.5.0",
            "_view_name": "HBoxView",
            "box_style": "",
            "children": [
              "IPY_MODEL_924cf06cf0ec4eaeace320a00670af43",
              "IPY_MODEL_e72d63f6580f408e83efde0765c0956f",
              "IPY_MODEL_bf6df75939c04b09b3141344d02378c4"
            ],
            "layout": "IPY_MODEL_ccf2042ce42b43b38f4759bba01b4f88"
          }
        },
        "6138e7cdd5084f928857933118019b77": {
          "model_module": "@jupyter-widgets/controls",
          "model_module_version": "1.5.0",
          "model_name": "HTMLModel",
          "state": {
            "_dom_classes": [],
            "_model_module": "@jupyter-widgets/controls",
            "_model_module_version": "1.5.0",
            "_model_name": "HTMLModel",
            "_view_count": null,
            "_view_module": "@jupyter-widgets/controls",
            "_view_module_version": "1.5.0",
            "_view_name": "HTMLView",
            "description": "",
            "description_tooltip": null,
            "layout": "IPY_MODEL_d323fb6b0ec64323aa2583b6f21ca425",
            "placeholder": "​",
            "style": "IPY_MODEL_63f841f703d2434c81c64838e985fb95",
            "value": " 21/21 [00:19&lt;00:00,  1.05it/s, v_num=2]"
          }
        },
        "6163cc15938d4e09a8dde3cc8203647c": {
          "model_module": "@jupyter-widgets/controls",
          "model_module_version": "1.5.0",
          "model_name": "HTMLModel",
          "state": {
            "_dom_classes": [],
            "_model_module": "@jupyter-widgets/controls",
            "_model_module_version": "1.5.0",
            "_model_name": "HTMLModel",
            "_view_count": null,
            "_view_module": "@jupyter-widgets/controls",
            "_view_module_version": "1.5.0",
            "_view_name": "HTMLView",
            "description": "",
            "description_tooltip": null,
            "layout": "IPY_MODEL_f08d6cea230247cb9e0e68641838b951",
            "placeholder": "​",
            "style": "IPY_MODEL_0c31de56a99d416082de5c31665fdd75",
            "value": " 21/21 [00:04&lt;00:00,  4.77it/s]"
          }
        },
        "63f841f703d2434c81c64838e985fb95": {
          "model_module": "@jupyter-widgets/controls",
          "model_module_version": "1.5.0",
          "model_name": "DescriptionStyleModel",
          "state": {
            "_model_module": "@jupyter-widgets/controls",
            "_model_module_version": "1.5.0",
            "_model_name": "DescriptionStyleModel",
            "_view_count": null,
            "_view_module": "@jupyter-widgets/base",
            "_view_module_version": "1.2.0",
            "_view_name": "StyleView",
            "description_width": ""
          }
        },
        "63fe7cd924e14103834c43cd3d313fb3": {
          "model_module": "@jupyter-widgets/base",
          "model_module_version": "1.2.0",
          "model_name": "LayoutModel",
          "state": {
            "_model_module": "@jupyter-widgets/base",
            "_model_module_version": "1.2.0",
            "_model_name": "LayoutModel",
            "_view_count": null,
            "_view_module": "@jupyter-widgets/base",
            "_view_module_version": "1.2.0",
            "_view_name": "LayoutView",
            "align_content": null,
            "align_items": null,
            "align_self": null,
            "border": null,
            "bottom": null,
            "display": null,
            "flex": "2",
            "flex_flow": null,
            "grid_area": null,
            "grid_auto_columns": null,
            "grid_auto_flow": null,
            "grid_auto_rows": null,
            "grid_column": null,
            "grid_gap": null,
            "grid_row": null,
            "grid_template_areas": null,
            "grid_template_columns": null,
            "grid_template_rows": null,
            "height": null,
            "justify_content": null,
            "justify_items": null,
            "left": null,
            "margin": null,
            "max_height": null,
            "max_width": null,
            "min_height": null,
            "min_width": null,
            "object_fit": null,
            "object_position": null,
            "order": null,
            "overflow": null,
            "overflow_x": null,
            "overflow_y": null,
            "padding": null,
            "right": null,
            "top": null,
            "visibility": null,
            "width": null
          }
        },
        "658db412cb494ca68c700fa452fcb1c3": {
          "model_module": "@jupyter-widgets/controls",
          "model_module_version": "1.5.0",
          "model_name": "FloatProgressModel",
          "state": {
            "_dom_classes": [],
            "_model_module": "@jupyter-widgets/controls",
            "_model_module_version": "1.5.0",
            "_model_name": "FloatProgressModel",
            "_view_count": null,
            "_view_module": "@jupyter-widgets/controls",
            "_view_module_version": "1.5.0",
            "_view_name": "ProgressView",
            "bar_style": "",
            "description": "",
            "description_tooltip": null,
            "layout": "IPY_MODEL_aee91b4b93b24a09acb813881b48551c",
            "max": 21,
            "min": 0,
            "orientation": "horizontal",
            "style": "IPY_MODEL_3097aa98438f4b04b54113ec8497b41b",
            "value": 21
          }
        },
        "65d4f2c0c1f8429c97415823a05643b2": {
          "model_module": "@jupyter-widgets/base",
          "model_module_version": "1.2.0",
          "model_name": "LayoutModel",
          "state": {
            "_model_module": "@jupyter-widgets/base",
            "_model_module_version": "1.2.0",
            "_model_name": "LayoutModel",
            "_view_count": null,
            "_view_module": "@jupyter-widgets/base",
            "_view_module_version": "1.2.0",
            "_view_name": "LayoutView",
            "align_content": null,
            "align_items": null,
            "align_self": null,
            "border": null,
            "bottom": null,
            "display": null,
            "flex": null,
            "flex_flow": null,
            "grid_area": null,
            "grid_auto_columns": null,
            "grid_auto_flow": null,
            "grid_auto_rows": null,
            "grid_column": null,
            "grid_gap": null,
            "grid_row": null,
            "grid_template_areas": null,
            "grid_template_columns": null,
            "grid_template_rows": null,
            "height": null,
            "justify_content": null,
            "justify_items": null,
            "left": null,
            "margin": null,
            "max_height": null,
            "max_width": null,
            "min_height": null,
            "min_width": null,
            "object_fit": null,
            "object_position": null,
            "order": null,
            "overflow": null,
            "overflow_x": null,
            "overflow_y": null,
            "padding": null,
            "right": null,
            "top": null,
            "visibility": null,
            "width": null
          }
        },
        "671d558059f849aab9bdcdcce5a7a253": {
          "model_module": "@jupyter-widgets/base",
          "model_module_version": "1.2.0",
          "model_name": "LayoutModel",
          "state": {
            "_model_module": "@jupyter-widgets/base",
            "_model_module_version": "1.2.0",
            "_model_name": "LayoutModel",
            "_view_count": null,
            "_view_module": "@jupyter-widgets/base",
            "_view_module_version": "1.2.0",
            "_view_name": "LayoutView",
            "align_content": null,
            "align_items": null,
            "align_self": null,
            "border": null,
            "bottom": null,
            "display": "inline-flex",
            "flex": null,
            "flex_flow": "row wrap",
            "grid_area": null,
            "grid_auto_columns": null,
            "grid_auto_flow": null,
            "grid_auto_rows": null,
            "grid_column": null,
            "grid_gap": null,
            "grid_row": null,
            "grid_template_areas": null,
            "grid_template_columns": null,
            "grid_template_rows": null,
            "height": null,
            "justify_content": null,
            "justify_items": null,
            "left": null,
            "margin": null,
            "max_height": null,
            "max_width": null,
            "min_height": null,
            "min_width": null,
            "object_fit": null,
            "object_position": null,
            "order": null,
            "overflow": null,
            "overflow_x": null,
            "overflow_y": null,
            "padding": null,
            "right": null,
            "top": null,
            "visibility": "hidden",
            "width": "100%"
          }
        },
        "6880ac3b23d848c19b1f023325c008cc": {
          "model_module": "@jupyter-widgets/controls",
          "model_module_version": "1.5.0",
          "model_name": "FloatProgressModel",
          "state": {
            "_dom_classes": [],
            "_model_module": "@jupyter-widgets/controls",
            "_model_module_version": "1.5.0",
            "_model_name": "FloatProgressModel",
            "_view_count": null,
            "_view_module": "@jupyter-widgets/controls",
            "_view_module_version": "1.5.0",
            "_view_name": "ProgressView",
            "bar_style": "",
            "description": "",
            "description_tooltip": null,
            "layout": "IPY_MODEL_810dccd3bdc54ef6b0aeee76a9a783c3",
            "max": 21,
            "min": 0,
            "orientation": "horizontal",
            "style": "IPY_MODEL_25d59fad1ecc4c3e87faab8fb0a1213f",
            "value": 21
          }
        },
        "6a074c180bde4651a9b58d24e13651e9": {
          "model_module": "@jupyter-widgets/base",
          "model_module_version": "1.2.0",
          "model_name": "LayoutModel",
          "state": {
            "_model_module": "@jupyter-widgets/base",
            "_model_module_version": "1.2.0",
            "_model_name": "LayoutModel",
            "_view_count": null,
            "_view_module": "@jupyter-widgets/base",
            "_view_module_version": "1.2.0",
            "_view_name": "LayoutView",
            "align_content": null,
            "align_items": null,
            "align_self": null,
            "border": null,
            "bottom": null,
            "display": null,
            "flex": null,
            "flex_flow": null,
            "grid_area": null,
            "grid_auto_columns": null,
            "grid_auto_flow": null,
            "grid_auto_rows": null,
            "grid_column": null,
            "grid_gap": null,
            "grid_row": null,
            "grid_template_areas": null,
            "grid_template_columns": null,
            "grid_template_rows": null,
            "height": null,
            "justify_content": null,
            "justify_items": null,
            "left": null,
            "margin": null,
            "max_height": null,
            "max_width": null,
            "min_height": null,
            "min_width": null,
            "object_fit": null,
            "object_position": null,
            "order": null,
            "overflow": null,
            "overflow_x": null,
            "overflow_y": null,
            "padding": null,
            "right": null,
            "top": null,
            "visibility": null,
            "width": null
          }
        },
        "72290b40ffaf491cb71eab802f57d02b": {
          "model_module": "@jupyter-widgets/controls",
          "model_module_version": "1.5.0",
          "model_name": "ProgressStyleModel",
          "state": {
            "_model_module": "@jupyter-widgets/controls",
            "_model_module_version": "1.5.0",
            "_model_name": "ProgressStyleModel",
            "_view_count": null,
            "_view_module": "@jupyter-widgets/base",
            "_view_module_version": "1.2.0",
            "_view_name": "StyleView",
            "bar_color": null,
            "description_width": ""
          }
        },
        "7337dbf959ad4be6b6864fcbac956215": {
          "model_module": "@jupyter-widgets/base",
          "model_module_version": "1.2.0",
          "model_name": "LayoutModel",
          "state": {
            "_model_module": "@jupyter-widgets/base",
            "_model_module_version": "1.2.0",
            "_model_name": "LayoutModel",
            "_view_count": null,
            "_view_module": "@jupyter-widgets/base",
            "_view_module_version": "1.2.0",
            "_view_name": "LayoutView",
            "align_content": null,
            "align_items": null,
            "align_self": null,
            "border": null,
            "bottom": null,
            "display": null,
            "flex": null,
            "flex_flow": null,
            "grid_area": null,
            "grid_auto_columns": null,
            "grid_auto_flow": null,
            "grid_auto_rows": null,
            "grid_column": null,
            "grid_gap": null,
            "grid_row": null,
            "grid_template_areas": null,
            "grid_template_columns": null,
            "grid_template_rows": null,
            "height": null,
            "justify_content": null,
            "justify_items": null,
            "left": null,
            "margin": null,
            "max_height": null,
            "max_width": null,
            "min_height": null,
            "min_width": null,
            "object_fit": null,
            "object_position": null,
            "order": null,
            "overflow": null,
            "overflow_x": null,
            "overflow_y": null,
            "padding": null,
            "right": null,
            "top": null,
            "visibility": null,
            "width": null
          }
        },
        "73abc2ae83fe4103a65b9da148db55cd": {
          "model_module": "@jupyter-widgets/controls",
          "model_module_version": "1.5.0",
          "model_name": "HTMLModel",
          "state": {
            "_dom_classes": [],
            "_model_module": "@jupyter-widgets/controls",
            "_model_module_version": "1.5.0",
            "_model_name": "HTMLModel",
            "_view_count": null,
            "_view_module": "@jupyter-widgets/controls",
            "_view_module_version": "1.5.0",
            "_view_name": "HTMLView",
            "description": "",
            "description_tooltip": null,
            "layout": "IPY_MODEL_2d5f8d74710b4ddea7a4aeac948ffa9f",
            "placeholder": "​",
            "style": "IPY_MODEL_930c24f3c1cb4b4295760e4092014873",
            "value": "Validation DataLoader 0: 100%"
          }
        },
        "74c977d4d86c4d10a60cba62c65b331f": {
          "model_module": "@jupyter-widgets/controls",
          "model_module_version": "1.5.0",
          "model_name": "HTMLModel",
          "state": {
            "_dom_classes": [],
            "_model_module": "@jupyter-widgets/controls",
            "_model_module_version": "1.5.0",
            "_model_name": "HTMLModel",
            "_view_count": null,
            "_view_module": "@jupyter-widgets/controls",
            "_view_module_version": "1.5.0",
            "_view_name": "HTMLView",
            "description": "",
            "description_tooltip": null,
            "layout": "IPY_MODEL_54aa1ee053da4df5999f428db6948798",
            "placeholder": "​",
            "style": "IPY_MODEL_7810f7b04077442ca3e02bc2905942f5",
            "value": " 21/21 [00:05&lt;00:00,  3.96it/s]"
          }
        },
        "7669660bd57344c987646f5bac1104a6": {
          "model_module": "@jupyter-widgets/controls",
          "model_module_version": "1.5.0",
          "model_name": "DescriptionStyleModel",
          "state": {
            "_model_module": "@jupyter-widgets/controls",
            "_model_module_version": "1.5.0",
            "_model_name": "DescriptionStyleModel",
            "_view_count": null,
            "_view_module": "@jupyter-widgets/base",
            "_view_module_version": "1.2.0",
            "_view_name": "StyleView",
            "description_width": ""
          }
        },
        "7693503ff97f46888dcb37ffdf382315": {
          "model_module": "@jupyter-widgets/controls",
          "model_module_version": "1.5.0",
          "model_name": "ProgressStyleModel",
          "state": {
            "_model_module": "@jupyter-widgets/controls",
            "_model_module_version": "1.5.0",
            "_model_name": "ProgressStyleModel",
            "_view_count": null,
            "_view_module": "@jupyter-widgets/base",
            "_view_module_version": "1.2.0",
            "_view_name": "StyleView",
            "bar_color": null,
            "description_width": ""
          }
        },
        "7810f7b04077442ca3e02bc2905942f5": {
          "model_module": "@jupyter-widgets/controls",
          "model_module_version": "1.5.0",
          "model_name": "DescriptionStyleModel",
          "state": {
            "_model_module": "@jupyter-widgets/controls",
            "_model_module_version": "1.5.0",
            "_model_name": "DescriptionStyleModel",
            "_view_count": null,
            "_view_module": "@jupyter-widgets/base",
            "_view_module_version": "1.2.0",
            "_view_name": "StyleView",
            "description_width": ""
          }
        },
        "78a322e33d4f4e5eacf1cb122efe803b": {
          "model_module": "@jupyter-widgets/controls",
          "model_module_version": "1.5.0",
          "model_name": "ProgressStyleModel",
          "state": {
            "_model_module": "@jupyter-widgets/controls",
            "_model_module_version": "1.5.0",
            "_model_name": "ProgressStyleModel",
            "_view_count": null,
            "_view_module": "@jupyter-widgets/base",
            "_view_module_version": "1.2.0",
            "_view_name": "StyleView",
            "bar_color": null,
            "description_width": ""
          }
        },
        "79af2c14c5c141e1af2b0f6499477b5f": {
          "model_module": "@jupyter-widgets/base",
          "model_module_version": "1.2.0",
          "model_name": "LayoutModel",
          "state": {
            "_model_module": "@jupyter-widgets/base",
            "_model_module_version": "1.2.0",
            "_model_name": "LayoutModel",
            "_view_count": null,
            "_view_module": "@jupyter-widgets/base",
            "_view_module_version": "1.2.0",
            "_view_name": "LayoutView",
            "align_content": null,
            "align_items": null,
            "align_self": null,
            "border": null,
            "bottom": null,
            "display": null,
            "flex": null,
            "flex_flow": null,
            "grid_area": null,
            "grid_auto_columns": null,
            "grid_auto_flow": null,
            "grid_auto_rows": null,
            "grid_column": null,
            "grid_gap": null,
            "grid_row": null,
            "grid_template_areas": null,
            "grid_template_columns": null,
            "grid_template_rows": null,
            "height": null,
            "justify_content": null,
            "justify_items": null,
            "left": null,
            "margin": null,
            "max_height": null,
            "max_width": null,
            "min_height": null,
            "min_width": null,
            "object_fit": null,
            "object_position": null,
            "order": null,
            "overflow": null,
            "overflow_x": null,
            "overflow_y": null,
            "padding": null,
            "right": null,
            "top": null,
            "visibility": null,
            "width": null
          }
        },
        "7aa8c2f46fe34c2fa0149f04ea1a0135": {
          "model_module": "@jupyter-widgets/controls",
          "model_module_version": "1.5.0",
          "model_name": "HTMLModel",
          "state": {
            "_dom_classes": [],
            "_model_module": "@jupyter-widgets/controls",
            "_model_module_version": "1.5.0",
            "_model_name": "HTMLModel",
            "_view_count": null,
            "_view_module": "@jupyter-widgets/controls",
            "_view_module_version": "1.5.0",
            "_view_name": "HTMLView",
            "description": "",
            "description_tooltip": null,
            "layout": "IPY_MODEL_d1506debaa6c4a5eb2b964dcf60fbd52",
            "placeholder": "​",
            "style": "IPY_MODEL_949103ab905547149fe0fe4e66f20cbb",
            "value": " 21/21 [00:06&lt;00:00,  3.32it/s]"
          }
        },
        "7b6e99257f0c40b3b97fce7d2b78554f": {
          "model_module": "@jupyter-widgets/controls",
          "model_module_version": "1.5.0",
          "model_name": "FloatProgressModel",
          "state": {
            "_dom_classes": [],
            "_model_module": "@jupyter-widgets/controls",
            "_model_module_version": "1.5.0",
            "_model_name": "FloatProgressModel",
            "_view_count": null,
            "_view_module": "@jupyter-widgets/controls",
            "_view_module_version": "1.5.0",
            "_view_name": "ProgressView",
            "bar_style": "",
            "description": "",
            "description_tooltip": null,
            "layout": "IPY_MODEL_63fe7cd924e14103834c43cd3d313fb3",
            "max": 21,
            "min": 0,
            "orientation": "horizontal",
            "style": "IPY_MODEL_c2941994ef6046e58bcc4afc82495a9f",
            "value": 21
          }
        },
        "810dccd3bdc54ef6b0aeee76a9a783c3": {
          "model_module": "@jupyter-widgets/base",
          "model_module_version": "1.2.0",
          "model_name": "LayoutModel",
          "state": {
            "_model_module": "@jupyter-widgets/base",
            "_model_module_version": "1.2.0",
            "_model_name": "LayoutModel",
            "_view_count": null,
            "_view_module": "@jupyter-widgets/base",
            "_view_module_version": "1.2.0",
            "_view_name": "LayoutView",
            "align_content": null,
            "align_items": null,
            "align_self": null,
            "border": null,
            "bottom": null,
            "display": null,
            "flex": "2",
            "flex_flow": null,
            "grid_area": null,
            "grid_auto_columns": null,
            "grid_auto_flow": null,
            "grid_auto_rows": null,
            "grid_column": null,
            "grid_gap": null,
            "grid_row": null,
            "grid_template_areas": null,
            "grid_template_columns": null,
            "grid_template_rows": null,
            "height": null,
            "justify_content": null,
            "justify_items": null,
            "left": null,
            "margin": null,
            "max_height": null,
            "max_width": null,
            "min_height": null,
            "min_width": null,
            "object_fit": null,
            "object_position": null,
            "order": null,
            "overflow": null,
            "overflow_x": null,
            "overflow_y": null,
            "padding": null,
            "right": null,
            "top": null,
            "visibility": null,
            "width": null
          }
        },
        "867d5c34c5a24942b7b8fb556a94c85c": {
          "model_module": "@jupyter-widgets/controls",
          "model_module_version": "1.5.0",
          "model_name": "DescriptionStyleModel",
          "state": {
            "_model_module": "@jupyter-widgets/controls",
            "_model_module_version": "1.5.0",
            "_model_name": "DescriptionStyleModel",
            "_view_count": null,
            "_view_module": "@jupyter-widgets/base",
            "_view_module_version": "1.2.0",
            "_view_name": "StyleView",
            "description_width": ""
          }
        },
        "876521cf775546f491eabbc29a424dcb": {
          "model_module": "@jupyter-widgets/base",
          "model_module_version": "1.2.0",
          "model_name": "LayoutModel",
          "state": {
            "_model_module": "@jupyter-widgets/base",
            "_model_module_version": "1.2.0",
            "_model_name": "LayoutModel",
            "_view_count": null,
            "_view_module": "@jupyter-widgets/base",
            "_view_module_version": "1.2.0",
            "_view_name": "LayoutView",
            "align_content": null,
            "align_items": null,
            "align_self": null,
            "border": null,
            "bottom": null,
            "display": null,
            "flex": "2",
            "flex_flow": null,
            "grid_area": null,
            "grid_auto_columns": null,
            "grid_auto_flow": null,
            "grid_auto_rows": null,
            "grid_column": null,
            "grid_gap": null,
            "grid_row": null,
            "grid_template_areas": null,
            "grid_template_columns": null,
            "grid_template_rows": null,
            "height": null,
            "justify_content": null,
            "justify_items": null,
            "left": null,
            "margin": null,
            "max_height": null,
            "max_width": null,
            "min_height": null,
            "min_width": null,
            "object_fit": null,
            "object_position": null,
            "order": null,
            "overflow": null,
            "overflow_x": null,
            "overflow_y": null,
            "padding": null,
            "right": null,
            "top": null,
            "visibility": null,
            "width": null
          }
        },
        "8b6db0ea3ccb45f69482ed53106bdff6": {
          "model_module": "@jupyter-widgets/controls",
          "model_module_version": "1.5.0",
          "model_name": "HTMLModel",
          "state": {
            "_dom_classes": [],
            "_model_module": "@jupyter-widgets/controls",
            "_model_module_version": "1.5.0",
            "_model_name": "HTMLModel",
            "_view_count": null,
            "_view_module": "@jupyter-widgets/controls",
            "_view_module_version": "1.5.0",
            "_view_name": "HTMLView",
            "description": "",
            "description_tooltip": null,
            "layout": "IPY_MODEL_8d511d40b913498db52406ac7d9f1c02",
            "placeholder": "​",
            "style": "IPY_MODEL_0830173211e64f0c93a9c216fd3875b4",
            "value": "Validation DataLoader 0: 100%"
          }
        },
        "8bf7604de95f4f28b2279bb2ecb57be5": {
          "model_module": "@jupyter-widgets/controls",
          "model_module_version": "1.5.0",
          "model_name": "DescriptionStyleModel",
          "state": {
            "_model_module": "@jupyter-widgets/controls",
            "_model_module_version": "1.5.0",
            "_model_name": "DescriptionStyleModel",
            "_view_count": null,
            "_view_module": "@jupyter-widgets/base",
            "_view_module_version": "1.2.0",
            "_view_name": "StyleView",
            "description_width": ""
          }
        },
        "8c83cbdfb75641559e1216e5b17549ac": {
          "model_module": "@jupyter-widgets/controls",
          "model_module_version": "1.5.0",
          "model_name": "HTMLModel",
          "state": {
            "_dom_classes": [],
            "_model_module": "@jupyter-widgets/controls",
            "_model_module_version": "1.5.0",
            "_model_name": "HTMLModel",
            "_view_count": null,
            "_view_module": "@jupyter-widgets/controls",
            "_view_module_version": "1.5.0",
            "_view_name": "HTMLView",
            "description": "",
            "description_tooltip": null,
            "layout": "IPY_MODEL_a4c4c3dd326a4f33ad6362e1922a60e9",
            "placeholder": "​",
            "style": "IPY_MODEL_3735edfa503544debc1422ed8999691d",
            "value": "Sanity Checking DataLoader 0: 100%"
          }
        },
        "8d511d40b913498db52406ac7d9f1c02": {
          "model_module": "@jupyter-widgets/base",
          "model_module_version": "1.2.0",
          "model_name": "LayoutModel",
          "state": {
            "_model_module": "@jupyter-widgets/base",
            "_model_module_version": "1.2.0",
            "_model_name": "LayoutModel",
            "_view_count": null,
            "_view_module": "@jupyter-widgets/base",
            "_view_module_version": "1.2.0",
            "_view_name": "LayoutView",
            "align_content": null,
            "align_items": null,
            "align_self": null,
            "border": null,
            "bottom": null,
            "display": null,
            "flex": null,
            "flex_flow": null,
            "grid_area": null,
            "grid_auto_columns": null,
            "grid_auto_flow": null,
            "grid_auto_rows": null,
            "grid_column": null,
            "grid_gap": null,
            "grid_row": null,
            "grid_template_areas": null,
            "grid_template_columns": null,
            "grid_template_rows": null,
            "height": null,
            "justify_content": null,
            "justify_items": null,
            "left": null,
            "margin": null,
            "max_height": null,
            "max_width": null,
            "min_height": null,
            "min_width": null,
            "object_fit": null,
            "object_position": null,
            "order": null,
            "overflow": null,
            "overflow_x": null,
            "overflow_y": null,
            "padding": null,
            "right": null,
            "top": null,
            "visibility": null,
            "width": null
          }
        },
        "8e07e304fbee4ec2a5060cb9f55364d4": {
          "model_module": "@jupyter-widgets/controls",
          "model_module_version": "1.5.0",
          "model_name": "HTMLModel",
          "state": {
            "_dom_classes": [],
            "_model_module": "@jupyter-widgets/controls",
            "_model_module_version": "1.5.0",
            "_model_name": "HTMLModel",
            "_view_count": null,
            "_view_module": "@jupyter-widgets/controls",
            "_view_module_version": "1.5.0",
            "_view_name": "HTMLView",
            "description": "",
            "description_tooltip": null,
            "layout": "IPY_MODEL_2bc292370c4b439e90253c4ae0300c83",
            "placeholder": "​",
            "style": "IPY_MODEL_9b736a8d582f4701be9ff523392a0124",
            "value": "Validation DataLoader 0: 100%"
          }
        },
        "924cf06cf0ec4eaeace320a00670af43": {
          "model_module": "@jupyter-widgets/controls",
          "model_module_version": "1.5.0",
          "model_name": "HTMLModel",
          "state": {
            "_dom_classes": [],
            "_model_module": "@jupyter-widgets/controls",
            "_model_module_version": "1.5.0",
            "_model_name": "HTMLModel",
            "_view_count": null,
            "_view_module": "@jupyter-widgets/controls",
            "_view_module_version": "1.5.0",
            "_view_name": "HTMLView",
            "description": "",
            "description_tooltip": null,
            "layout": "IPY_MODEL_65d4f2c0c1f8429c97415823a05643b2",
            "placeholder": "​",
            "style": "IPY_MODEL_983089b3825a4dd5b5a930758b24dd52",
            "value": "Validation DataLoader 0: 100%"
          }
        },
        "930c24f3c1cb4b4295760e4092014873": {
          "model_module": "@jupyter-widgets/controls",
          "model_module_version": "1.5.0",
          "model_name": "DescriptionStyleModel",
          "state": {
            "_model_module": "@jupyter-widgets/controls",
            "_model_module_version": "1.5.0",
            "_model_name": "DescriptionStyleModel",
            "_view_count": null,
            "_view_module": "@jupyter-widgets/base",
            "_view_module_version": "1.2.0",
            "_view_name": "StyleView",
            "description_width": ""
          }
        },
        "949103ab905547149fe0fe4e66f20cbb": {
          "model_module": "@jupyter-widgets/controls",
          "model_module_version": "1.5.0",
          "model_name": "DescriptionStyleModel",
          "state": {
            "_model_module": "@jupyter-widgets/controls",
            "_model_module_version": "1.5.0",
            "_model_name": "DescriptionStyleModel",
            "_view_count": null,
            "_view_module": "@jupyter-widgets/base",
            "_view_module_version": "1.2.0",
            "_view_name": "StyleView",
            "description_width": ""
          }
        },
        "961264a80b324d139732a7283acc1d0d": {
          "model_module": "@jupyter-widgets/controls",
          "model_module_version": "1.5.0",
          "model_name": "HTMLModel",
          "state": {
            "_dom_classes": [],
            "_model_module": "@jupyter-widgets/controls",
            "_model_module_version": "1.5.0",
            "_model_name": "HTMLModel",
            "_view_count": null,
            "_view_module": "@jupyter-widgets/controls",
            "_view_module_version": "1.5.0",
            "_view_name": "HTMLView",
            "description": "",
            "description_tooltip": null,
            "layout": "IPY_MODEL_d90b921dc4f949fabc5289aa43de50c3",
            "placeholder": "​",
            "style": "IPY_MODEL_fca10053d9f54ceb95a9a93286a7ef3e",
            "value": " 21/21 [00:04&lt;00:00,  4.48it/s]"
          }
        },
        "983089b3825a4dd5b5a930758b24dd52": {
          "model_module": "@jupyter-widgets/controls",
          "model_module_version": "1.5.0",
          "model_name": "DescriptionStyleModel",
          "state": {
            "_model_module": "@jupyter-widgets/controls",
            "_model_module_version": "1.5.0",
            "_model_name": "DescriptionStyleModel",
            "_view_count": null,
            "_view_module": "@jupyter-widgets/base",
            "_view_module_version": "1.2.0",
            "_view_name": "StyleView",
            "description_width": ""
          }
        },
        "99f83cec8804406883464a9e012b15e3": {
          "model_module": "@jupyter-widgets/base",
          "model_module_version": "1.2.0",
          "model_name": "LayoutModel",
          "state": {
            "_model_module": "@jupyter-widgets/base",
            "_model_module_version": "1.2.0",
            "_model_name": "LayoutModel",
            "_view_count": null,
            "_view_module": "@jupyter-widgets/base",
            "_view_module_version": "1.2.0",
            "_view_name": "LayoutView",
            "align_content": null,
            "align_items": null,
            "align_self": null,
            "border": null,
            "bottom": null,
            "display": null,
            "flex": null,
            "flex_flow": null,
            "grid_area": null,
            "grid_auto_columns": null,
            "grid_auto_flow": null,
            "grid_auto_rows": null,
            "grid_column": null,
            "grid_gap": null,
            "grid_row": null,
            "grid_template_areas": null,
            "grid_template_columns": null,
            "grid_template_rows": null,
            "height": null,
            "justify_content": null,
            "justify_items": null,
            "left": null,
            "margin": null,
            "max_height": null,
            "max_width": null,
            "min_height": null,
            "min_width": null,
            "object_fit": null,
            "object_position": null,
            "order": null,
            "overflow": null,
            "overflow_x": null,
            "overflow_y": null,
            "padding": null,
            "right": null,
            "top": null,
            "visibility": null,
            "width": null
          }
        },
        "9b736a8d582f4701be9ff523392a0124": {
          "model_module": "@jupyter-widgets/controls",
          "model_module_version": "1.5.0",
          "model_name": "DescriptionStyleModel",
          "state": {
            "_model_module": "@jupyter-widgets/controls",
            "_model_module_version": "1.5.0",
            "_model_name": "DescriptionStyleModel",
            "_view_count": null,
            "_view_module": "@jupyter-widgets/base",
            "_view_module_version": "1.2.0",
            "_view_name": "StyleView",
            "description_width": ""
          }
        },
        "9da6c404c98048d5876b443fa542ca79": {
          "model_module": "@jupyter-widgets/controls",
          "model_module_version": "1.5.0",
          "model_name": "HBoxModel",
          "state": {
            "_dom_classes": [],
            "_model_module": "@jupyter-widgets/controls",
            "_model_module_version": "1.5.0",
            "_model_name": "HBoxModel",
            "_view_count": null,
            "_view_module": "@jupyter-widgets/controls",
            "_view_module_version": "1.5.0",
            "_view_name": "HBoxView",
            "box_style": "",
            "children": [
              "IPY_MODEL_517b365a91ad438ca2ffa526c014e94c",
              "IPY_MODEL_e3addbd310c5403997f680328ef45821",
              "IPY_MODEL_3b577fe0f7a24f14945daf40c70ee211"
            ],
            "layout": "IPY_MODEL_b622cef6f96f48a78f6a49661b590982"
          }
        },
        "a2029434cc2944a9ad9d436d3047ff0c": {
          "model_module": "@jupyter-widgets/controls",
          "model_module_version": "1.5.0",
          "model_name": "DescriptionStyleModel",
          "state": {
            "_model_module": "@jupyter-widgets/controls",
            "_model_module_version": "1.5.0",
            "_model_name": "DescriptionStyleModel",
            "_view_count": null,
            "_view_module": "@jupyter-widgets/base",
            "_view_module_version": "1.2.0",
            "_view_name": "StyleView",
            "description_width": ""
          }
        },
        "a3267c1fdf284487a759669001e1354b": {
          "model_module": "@jupyter-widgets/base",
          "model_module_version": "1.2.0",
          "model_name": "LayoutModel",
          "state": {
            "_model_module": "@jupyter-widgets/base",
            "_model_module_version": "1.2.0",
            "_model_name": "LayoutModel",
            "_view_count": null,
            "_view_module": "@jupyter-widgets/base",
            "_view_module_version": "1.2.0",
            "_view_name": "LayoutView",
            "align_content": null,
            "align_items": null,
            "align_self": null,
            "border": null,
            "bottom": null,
            "display": "inline-flex",
            "flex": null,
            "flex_flow": "row wrap",
            "grid_area": null,
            "grid_auto_columns": null,
            "grid_auto_flow": null,
            "grid_auto_rows": null,
            "grid_column": null,
            "grid_gap": null,
            "grid_row": null,
            "grid_template_areas": null,
            "grid_template_columns": null,
            "grid_template_rows": null,
            "height": null,
            "justify_content": null,
            "justify_items": null,
            "left": null,
            "margin": null,
            "max_height": null,
            "max_width": null,
            "min_height": null,
            "min_width": null,
            "object_fit": null,
            "object_position": null,
            "order": null,
            "overflow": null,
            "overflow_x": null,
            "overflow_y": null,
            "padding": null,
            "right": null,
            "top": null,
            "visibility": "hidden",
            "width": "100%"
          }
        },
        "a3704ce6dd5f4624bc6c400e2ca54768": {
          "model_module": "@jupyter-widgets/controls",
          "model_module_version": "1.5.0",
          "model_name": "HTMLModel",
          "state": {
            "_dom_classes": [],
            "_model_module": "@jupyter-widgets/controls",
            "_model_module_version": "1.5.0",
            "_model_name": "HTMLModel",
            "_view_count": null,
            "_view_module": "@jupyter-widgets/controls",
            "_view_module_version": "1.5.0",
            "_view_name": "HTMLView",
            "description": "",
            "description_tooltip": null,
            "layout": "IPY_MODEL_ec9ade478e254394821956b8d66ef5c1",
            "placeholder": "​",
            "style": "IPY_MODEL_7669660bd57344c987646f5bac1104a6",
            "value": " 21/21 [00:04&lt;00:00,  4.32it/s]"
          }
        },
        "a4c4c3dd326a4f33ad6362e1922a60e9": {
          "model_module": "@jupyter-widgets/base",
          "model_module_version": "1.2.0",
          "model_name": "LayoutModel",
          "state": {
            "_model_module": "@jupyter-widgets/base",
            "_model_module_version": "1.2.0",
            "_model_name": "LayoutModel",
            "_view_count": null,
            "_view_module": "@jupyter-widgets/base",
            "_view_module_version": "1.2.0",
            "_view_name": "LayoutView",
            "align_content": null,
            "align_items": null,
            "align_self": null,
            "border": null,
            "bottom": null,
            "display": null,
            "flex": null,
            "flex_flow": null,
            "grid_area": null,
            "grid_auto_columns": null,
            "grid_auto_flow": null,
            "grid_auto_rows": null,
            "grid_column": null,
            "grid_gap": null,
            "grid_row": null,
            "grid_template_areas": null,
            "grid_template_columns": null,
            "grid_template_rows": null,
            "height": null,
            "justify_content": null,
            "justify_items": null,
            "left": null,
            "margin": null,
            "max_height": null,
            "max_width": null,
            "min_height": null,
            "min_width": null,
            "object_fit": null,
            "object_position": null,
            "order": null,
            "overflow": null,
            "overflow_x": null,
            "overflow_y": null,
            "padding": null,
            "right": null,
            "top": null,
            "visibility": null,
            "width": null
          }
        },
        "a509db43405d458881373ed5c20d01a7": {
          "model_module": "@jupyter-widgets/controls",
          "model_module_version": "1.5.0",
          "model_name": "HTMLModel",
          "state": {
            "_dom_classes": [],
            "_model_module": "@jupyter-widgets/controls",
            "_model_module_version": "1.5.0",
            "_model_name": "HTMLModel",
            "_view_count": null,
            "_view_module": "@jupyter-widgets/controls",
            "_view_module_version": "1.5.0",
            "_view_name": "HTMLView",
            "description": "",
            "description_tooltip": null,
            "layout": "IPY_MODEL_26e4a71616ac4eb481666dca585d66b5",
            "placeholder": "​",
            "style": "IPY_MODEL_afce1a8052c24d5cbddff289e1a676dd",
            "value": "Validation DataLoader 0: 100%"
          }
        },
        "a7bf92b48bad4e799ad2de9aa55d6a62": {
          "model_module": "@jupyter-widgets/controls",
          "model_module_version": "1.5.0",
          "model_name": "FloatProgressModel",
          "state": {
            "_dom_classes": [],
            "_model_module": "@jupyter-widgets/controls",
            "_model_module_version": "1.5.0",
            "_model_name": "FloatProgressModel",
            "_view_count": null,
            "_view_module": "@jupyter-widgets/controls",
            "_view_module_version": "1.5.0",
            "_view_name": "ProgressView",
            "bar_style": "",
            "description": "",
            "description_tooltip": null,
            "layout": "IPY_MODEL_5d18027dc0894d3998a8437d6d1fbcda",
            "max": 21,
            "min": 0,
            "orientation": "horizontal",
            "style": "IPY_MODEL_72290b40ffaf491cb71eab802f57d02b",
            "value": 21
          }
        },
        "aee91b4b93b24a09acb813881b48551c": {
          "model_module": "@jupyter-widgets/base",
          "model_module_version": "1.2.0",
          "model_name": "LayoutModel",
          "state": {
            "_model_module": "@jupyter-widgets/base",
            "_model_module_version": "1.2.0",
            "_model_name": "LayoutModel",
            "_view_count": null,
            "_view_module": "@jupyter-widgets/base",
            "_view_module_version": "1.2.0",
            "_view_name": "LayoutView",
            "align_content": null,
            "align_items": null,
            "align_self": null,
            "border": null,
            "bottom": null,
            "display": null,
            "flex": "2",
            "flex_flow": null,
            "grid_area": null,
            "grid_auto_columns": null,
            "grid_auto_flow": null,
            "grid_auto_rows": null,
            "grid_column": null,
            "grid_gap": null,
            "grid_row": null,
            "grid_template_areas": null,
            "grid_template_columns": null,
            "grid_template_rows": null,
            "height": null,
            "justify_content": null,
            "justify_items": null,
            "left": null,
            "margin": null,
            "max_height": null,
            "max_width": null,
            "min_height": null,
            "min_width": null,
            "object_fit": null,
            "object_position": null,
            "order": null,
            "overflow": null,
            "overflow_x": null,
            "overflow_y": null,
            "padding": null,
            "right": null,
            "top": null,
            "visibility": null,
            "width": null
          }
        },
        "afce1a8052c24d5cbddff289e1a676dd": {
          "model_module": "@jupyter-widgets/controls",
          "model_module_version": "1.5.0",
          "model_name": "DescriptionStyleModel",
          "state": {
            "_model_module": "@jupyter-widgets/controls",
            "_model_module_version": "1.5.0",
            "_model_name": "DescriptionStyleModel",
            "_view_count": null,
            "_view_module": "@jupyter-widgets/base",
            "_view_module_version": "1.2.0",
            "_view_name": "StyleView",
            "description_width": ""
          }
        },
        "b279de51f1294485a712d89217ef8f47": {
          "model_module": "@jupyter-widgets/controls",
          "model_module_version": "1.5.0",
          "model_name": "ProgressStyleModel",
          "state": {
            "_model_module": "@jupyter-widgets/controls",
            "_model_module_version": "1.5.0",
            "_model_name": "ProgressStyleModel",
            "_view_count": null,
            "_view_module": "@jupyter-widgets/base",
            "_view_module_version": "1.2.0",
            "_view_name": "StyleView",
            "bar_color": null,
            "description_width": ""
          }
        },
        "b3d28f68c4914d339bcb7385bf160e1f": {
          "model_module": "@jupyter-widgets/base",
          "model_module_version": "1.2.0",
          "model_name": "LayoutModel",
          "state": {
            "_model_module": "@jupyter-widgets/base",
            "_model_module_version": "1.2.0",
            "_model_name": "LayoutModel",
            "_view_count": null,
            "_view_module": "@jupyter-widgets/base",
            "_view_module_version": "1.2.0",
            "_view_name": "LayoutView",
            "align_content": null,
            "align_items": null,
            "align_self": null,
            "border": null,
            "bottom": null,
            "display": "inline-flex",
            "flex": null,
            "flex_flow": "row wrap",
            "grid_area": null,
            "grid_auto_columns": null,
            "grid_auto_flow": null,
            "grid_auto_rows": null,
            "grid_column": null,
            "grid_gap": null,
            "grid_row": null,
            "grid_template_areas": null,
            "grid_template_columns": null,
            "grid_template_rows": null,
            "height": null,
            "justify_content": null,
            "justify_items": null,
            "left": null,
            "margin": null,
            "max_height": null,
            "max_width": null,
            "min_height": null,
            "min_width": null,
            "object_fit": null,
            "object_position": null,
            "order": null,
            "overflow": null,
            "overflow_x": null,
            "overflow_y": null,
            "padding": null,
            "right": null,
            "top": null,
            "visibility": "hidden",
            "width": "100%"
          }
        },
        "b622cef6f96f48a78f6a49661b590982": {
          "model_module": "@jupyter-widgets/base",
          "model_module_version": "1.2.0",
          "model_name": "LayoutModel",
          "state": {
            "_model_module": "@jupyter-widgets/base",
            "_model_module_version": "1.2.0",
            "_model_name": "LayoutModel",
            "_view_count": null,
            "_view_module": "@jupyter-widgets/base",
            "_view_module_version": "1.2.0",
            "_view_name": "LayoutView",
            "align_content": null,
            "align_items": null,
            "align_self": null,
            "border": null,
            "bottom": null,
            "display": "inline-flex",
            "flex": null,
            "flex_flow": "row wrap",
            "grid_area": null,
            "grid_auto_columns": null,
            "grid_auto_flow": null,
            "grid_auto_rows": null,
            "grid_column": null,
            "grid_gap": null,
            "grid_row": null,
            "grid_template_areas": null,
            "grid_template_columns": null,
            "grid_template_rows": null,
            "height": null,
            "justify_content": null,
            "justify_items": null,
            "left": null,
            "margin": null,
            "max_height": null,
            "max_width": null,
            "min_height": null,
            "min_width": null,
            "object_fit": null,
            "object_position": null,
            "order": null,
            "overflow": null,
            "overflow_x": null,
            "overflow_y": null,
            "padding": null,
            "right": null,
            "top": null,
            "visibility": "hidden",
            "width": "100%"
          }
        },
        "bcab1ffea3ab4227947dcbe60893fd4d": {
          "model_module": "@jupyter-widgets/base",
          "model_module_version": "1.2.0",
          "model_name": "LayoutModel",
          "state": {
            "_model_module": "@jupyter-widgets/base",
            "_model_module_version": "1.2.0",
            "_model_name": "LayoutModel",
            "_view_count": null,
            "_view_module": "@jupyter-widgets/base",
            "_view_module_version": "1.2.0",
            "_view_name": "LayoutView",
            "align_content": null,
            "align_items": null,
            "align_self": null,
            "border": null,
            "bottom": null,
            "display": null,
            "flex": null,
            "flex_flow": null,
            "grid_area": null,
            "grid_auto_columns": null,
            "grid_auto_flow": null,
            "grid_auto_rows": null,
            "grid_column": null,
            "grid_gap": null,
            "grid_row": null,
            "grid_template_areas": null,
            "grid_template_columns": null,
            "grid_template_rows": null,
            "height": null,
            "justify_content": null,
            "justify_items": null,
            "left": null,
            "margin": null,
            "max_height": null,
            "max_width": null,
            "min_height": null,
            "min_width": null,
            "object_fit": null,
            "object_position": null,
            "order": null,
            "overflow": null,
            "overflow_x": null,
            "overflow_y": null,
            "padding": null,
            "right": null,
            "top": null,
            "visibility": null,
            "width": null
          }
        },
        "bf47a32ac42142d3b93aad7c024fe5be": {
          "model_module": "@jupyter-widgets/controls",
          "model_module_version": "1.5.0",
          "model_name": "HBoxModel",
          "state": {
            "_dom_classes": [],
            "_model_module": "@jupyter-widgets/controls",
            "_model_module_version": "1.5.0",
            "_model_name": "HBoxModel",
            "_view_count": null,
            "_view_module": "@jupyter-widgets/controls",
            "_view_module_version": "1.5.0",
            "_view_name": "HBoxView",
            "box_style": "",
            "children": [
              "IPY_MODEL_73abc2ae83fe4103a65b9da148db55cd",
              "IPY_MODEL_658db412cb494ca68c700fa452fcb1c3",
              "IPY_MODEL_961264a80b324d139732a7283acc1d0d"
            ],
            "layout": "IPY_MODEL_3b58ce85036c40fbb97c32f5b5125c3b"
          }
        },
        "bf6df75939c04b09b3141344d02378c4": {
          "model_module": "@jupyter-widgets/controls",
          "model_module_version": "1.5.0",
          "model_name": "HTMLModel",
          "state": {
            "_dom_classes": [],
            "_model_module": "@jupyter-widgets/controls",
            "_model_module_version": "1.5.0",
            "_model_name": "HTMLModel",
            "_view_count": null,
            "_view_module": "@jupyter-widgets/controls",
            "_view_module_version": "1.5.0",
            "_view_name": "HTMLView",
            "description": "",
            "description_tooltip": null,
            "layout": "IPY_MODEL_fb4bb0ab7de148bdb4e0489f807cefdf",
            "placeholder": "​",
            "style": "IPY_MODEL_c7f31494f649429681ca92f5dffc2d1d",
            "value": " 21/21 [00:04&lt;00:00,  4.96it/s]"
          }
        },
        "bf71047e90ab4a419fe00cf52323dd75": {
          "model_module": "@jupyter-widgets/controls",
          "model_module_version": "1.5.0",
          "model_name": "FloatProgressModel",
          "state": {
            "_dom_classes": [],
            "_model_module": "@jupyter-widgets/controls",
            "_model_module_version": "1.5.0",
            "_model_name": "FloatProgressModel",
            "_view_count": null,
            "_view_module": "@jupyter-widgets/controls",
            "_view_module_version": "1.5.0",
            "_view_name": "ProgressView",
            "bar_style": "",
            "description": "",
            "description_tooltip": null,
            "layout": "IPY_MODEL_fa451fc3eca849bc924ef123b27a0220",
            "max": 21,
            "min": 0,
            "orientation": "horizontal",
            "style": "IPY_MODEL_7693503ff97f46888dcb37ffdf382315",
            "value": 21
          }
        },
        "c0e193014f7844f28d2fe3b6bfe62e45": {
          "model_module": "@jupyter-widgets/controls",
          "model_module_version": "1.5.0",
          "model_name": "DescriptionStyleModel",
          "state": {
            "_model_module": "@jupyter-widgets/controls",
            "_model_module_version": "1.5.0",
            "_model_name": "DescriptionStyleModel",
            "_view_count": null,
            "_view_module": "@jupyter-widgets/base",
            "_view_module_version": "1.2.0",
            "_view_name": "StyleView",
            "description_width": ""
          }
        },
        "c17e319aea3c4a58ba69fcf334fefc38": {
          "model_module": "@jupyter-widgets/controls",
          "model_module_version": "1.5.0",
          "model_name": "HTMLModel",
          "state": {
            "_dom_classes": [],
            "_model_module": "@jupyter-widgets/controls",
            "_model_module_version": "1.5.0",
            "_model_name": "HTMLModel",
            "_view_count": null,
            "_view_module": "@jupyter-widgets/controls",
            "_view_module_version": "1.5.0",
            "_view_name": "HTMLView",
            "description": "",
            "description_tooltip": null,
            "layout": "IPY_MODEL_f12a60df66914b4895a10cd3ebe0cff8",
            "placeholder": "​",
            "style": "IPY_MODEL_59a0cb346d0b4dddafb2d6518b15f86f",
            "value": "Validation DataLoader 0: 100%"
          }
        },
        "c1aeacdfb0414b33961e12939853b1b6": {
          "model_module": "@jupyter-widgets/controls",
          "model_module_version": "1.5.0",
          "model_name": "DescriptionStyleModel",
          "state": {
            "_model_module": "@jupyter-widgets/controls",
            "_model_module_version": "1.5.0",
            "_model_name": "DescriptionStyleModel",
            "_view_count": null,
            "_view_module": "@jupyter-widgets/base",
            "_view_module_version": "1.2.0",
            "_view_name": "StyleView",
            "description_width": ""
          }
        },
        "c2941994ef6046e58bcc4afc82495a9f": {
          "model_module": "@jupyter-widgets/controls",
          "model_module_version": "1.5.0",
          "model_name": "ProgressStyleModel",
          "state": {
            "_model_module": "@jupyter-widgets/controls",
            "_model_module_version": "1.5.0",
            "_model_name": "ProgressStyleModel",
            "_view_count": null,
            "_view_module": "@jupyter-widgets/base",
            "_view_module_version": "1.2.0",
            "_view_name": "StyleView",
            "bar_color": null,
            "description_width": ""
          }
        },
        "c5189c7fc5a04d6a83f8f9dcf4a1d6a5": {
          "model_module": "@jupyter-widgets/controls",
          "model_module_version": "1.5.0",
          "model_name": "HTMLModel",
          "state": {
            "_dom_classes": [],
            "_model_module": "@jupyter-widgets/controls",
            "_model_module_version": "1.5.0",
            "_model_name": "HTMLModel",
            "_view_count": null,
            "_view_module": "@jupyter-widgets/controls",
            "_view_module_version": "1.5.0",
            "_view_name": "HTMLView",
            "description": "",
            "description_tooltip": null,
            "layout": "IPY_MODEL_bcab1ffea3ab4227947dcbe60893fd4d",
            "placeholder": "​",
            "style": "IPY_MODEL_5b3dc86b67854b8db8b7ac16db6fbf52",
            "value": "Validation DataLoader 0: 100%"
          }
        },
        "c678a148379a4671a7f675f6acce8e55": {
          "model_module": "@jupyter-widgets/controls",
          "model_module_version": "1.5.0",
          "model_name": "HBoxModel",
          "state": {
            "_dom_classes": [],
            "_model_module": "@jupyter-widgets/controls",
            "_model_module_version": "1.5.0",
            "_model_name": "HBoxModel",
            "_view_count": null,
            "_view_module": "@jupyter-widgets/controls",
            "_view_module_version": "1.5.0",
            "_view_name": "HBoxView",
            "box_style": "",
            "children": [
              "IPY_MODEL_c17e319aea3c4a58ba69fcf334fefc38",
              "IPY_MODEL_7b6e99257f0c40b3b97fce7d2b78554f",
              "IPY_MODEL_7aa8c2f46fe34c2fa0149f04ea1a0135"
            ],
            "layout": "IPY_MODEL_671d558059f849aab9bdcdcce5a7a253"
          }
        },
        "c7f31494f649429681ca92f5dffc2d1d": {
          "model_module": "@jupyter-widgets/controls",
          "model_module_version": "1.5.0",
          "model_name": "DescriptionStyleModel",
          "state": {
            "_model_module": "@jupyter-widgets/controls",
            "_model_module_version": "1.5.0",
            "_model_name": "DescriptionStyleModel",
            "_view_count": null,
            "_view_module": "@jupyter-widgets/base",
            "_view_module_version": "1.2.0",
            "_view_name": "StyleView",
            "description_width": ""
          }
        },
        "c979bc50d74f47ff8c0d42dd3f50043b": {
          "model_module": "@jupyter-widgets/controls",
          "model_module_version": "1.5.0",
          "model_name": "HTMLModel",
          "state": {
            "_dom_classes": [],
            "_model_module": "@jupyter-widgets/controls",
            "_model_module_version": "1.5.0",
            "_model_name": "HTMLModel",
            "_view_count": null,
            "_view_module": "@jupyter-widgets/controls",
            "_view_module_version": "1.5.0",
            "_view_name": "HTMLView",
            "description": "",
            "description_tooltip": null,
            "layout": "IPY_MODEL_48bece84c43641699b292d61c0e479c0",
            "placeholder": "​",
            "style": "IPY_MODEL_a2029434cc2944a9ad9d436d3047ff0c",
            "value": " 2/2 [00:02&lt;00:00,  0.96it/s]"
          }
        },
        "ca66ec30e1bb47edb2e0e617f2661f00": {
          "model_module": "@jupyter-widgets/controls",
          "model_module_version": "1.5.0",
          "model_name": "FloatProgressModel",
          "state": {
            "_dom_classes": [],
            "_model_module": "@jupyter-widgets/controls",
            "_model_module_version": "1.5.0",
            "_model_name": "FloatProgressModel",
            "_view_count": null,
            "_view_module": "@jupyter-widgets/controls",
            "_view_module_version": "1.5.0",
            "_view_name": "ProgressView",
            "bar_style": "",
            "description": "",
            "description_tooltip": null,
            "layout": "IPY_MODEL_4a066624bd824a029e7cfea7d4ecd720",
            "max": 21,
            "min": 0,
            "orientation": "horizontal",
            "style": "IPY_MODEL_78a322e33d4f4e5eacf1cb122efe803b",
            "value": 21
          }
        },
        "cab00d9b161d4173a00b52566569493b": {
          "model_module": "@jupyter-widgets/base",
          "model_module_version": "1.2.0",
          "model_name": "LayoutModel",
          "state": {
            "_model_module": "@jupyter-widgets/base",
            "_model_module_version": "1.2.0",
            "_model_name": "LayoutModel",
            "_view_count": null,
            "_view_module": "@jupyter-widgets/base",
            "_view_module_version": "1.2.0",
            "_view_name": "LayoutView",
            "align_content": null,
            "align_items": null,
            "align_self": null,
            "border": null,
            "bottom": null,
            "display": "inline-flex",
            "flex": null,
            "flex_flow": "row wrap",
            "grid_area": null,
            "grid_auto_columns": null,
            "grid_auto_flow": null,
            "grid_auto_rows": null,
            "grid_column": null,
            "grid_gap": null,
            "grid_row": null,
            "grid_template_areas": null,
            "grid_template_columns": null,
            "grid_template_rows": null,
            "height": null,
            "justify_content": null,
            "justify_items": null,
            "left": null,
            "margin": null,
            "max_height": null,
            "max_width": null,
            "min_height": null,
            "min_width": null,
            "object_fit": null,
            "object_position": null,
            "order": null,
            "overflow": null,
            "overflow_x": null,
            "overflow_y": null,
            "padding": null,
            "right": null,
            "top": null,
            "visibility": "hidden",
            "width": "100%"
          }
        },
        "ccf2042ce42b43b38f4759bba01b4f88": {
          "model_module": "@jupyter-widgets/base",
          "model_module_version": "1.2.0",
          "model_name": "LayoutModel",
          "state": {
            "_model_module": "@jupyter-widgets/base",
            "_model_module_version": "1.2.0",
            "_model_name": "LayoutModel",
            "_view_count": null,
            "_view_module": "@jupyter-widgets/base",
            "_view_module_version": "1.2.0",
            "_view_name": "LayoutView",
            "align_content": null,
            "align_items": null,
            "align_self": null,
            "border": null,
            "bottom": null,
            "display": "inline-flex",
            "flex": null,
            "flex_flow": "row wrap",
            "grid_area": null,
            "grid_auto_columns": null,
            "grid_auto_flow": null,
            "grid_auto_rows": null,
            "grid_column": null,
            "grid_gap": null,
            "grid_row": null,
            "grid_template_areas": null,
            "grid_template_columns": null,
            "grid_template_rows": null,
            "height": null,
            "justify_content": null,
            "justify_items": null,
            "left": null,
            "margin": null,
            "max_height": null,
            "max_width": null,
            "min_height": null,
            "min_width": null,
            "object_fit": null,
            "object_position": null,
            "order": null,
            "overflow": null,
            "overflow_x": null,
            "overflow_y": null,
            "padding": null,
            "right": null,
            "top": null,
            "visibility": "hidden",
            "width": "100%"
          }
        },
        "d0793034ce1f41508ac182371b0e7011": {
          "model_module": "@jupyter-widgets/controls",
          "model_module_version": "1.5.0",
          "model_name": "FloatProgressModel",
          "state": {
            "_dom_classes": [],
            "_model_module": "@jupyter-widgets/controls",
            "_model_module_version": "1.5.0",
            "_model_name": "FloatProgressModel",
            "_view_count": null,
            "_view_module": "@jupyter-widgets/controls",
            "_view_module_version": "1.5.0",
            "_view_name": "ProgressView",
            "bar_style": "",
            "description": "",
            "description_tooltip": null,
            "layout": "IPY_MODEL_3e79f36b2c8b4f23a338fdffbcb984f5",
            "max": 21,
            "min": 0,
            "orientation": "horizontal",
            "style": "IPY_MODEL_e214dcab73094959acb047345e1d8af5",
            "value": 21
          }
        },
        "d1506debaa6c4a5eb2b964dcf60fbd52": {
          "model_module": "@jupyter-widgets/base",
          "model_module_version": "1.2.0",
          "model_name": "LayoutModel",
          "state": {
            "_model_module": "@jupyter-widgets/base",
            "_model_module_version": "1.2.0",
            "_model_name": "LayoutModel",
            "_view_count": null,
            "_view_module": "@jupyter-widgets/base",
            "_view_module_version": "1.2.0",
            "_view_name": "LayoutView",
            "align_content": null,
            "align_items": null,
            "align_self": null,
            "border": null,
            "bottom": null,
            "display": null,
            "flex": null,
            "flex_flow": null,
            "grid_area": null,
            "grid_auto_columns": null,
            "grid_auto_flow": null,
            "grid_auto_rows": null,
            "grid_column": null,
            "grid_gap": null,
            "grid_row": null,
            "grid_template_areas": null,
            "grid_template_columns": null,
            "grid_template_rows": null,
            "height": null,
            "justify_content": null,
            "justify_items": null,
            "left": null,
            "margin": null,
            "max_height": null,
            "max_width": null,
            "min_height": null,
            "min_width": null,
            "object_fit": null,
            "object_position": null,
            "order": null,
            "overflow": null,
            "overflow_x": null,
            "overflow_y": null,
            "padding": null,
            "right": null,
            "top": null,
            "visibility": null,
            "width": null
          }
        },
        "d323fb6b0ec64323aa2583b6f21ca425": {
          "model_module": "@jupyter-widgets/base",
          "model_module_version": "1.2.0",
          "model_name": "LayoutModel",
          "state": {
            "_model_module": "@jupyter-widgets/base",
            "_model_module_version": "1.2.0",
            "_model_name": "LayoutModel",
            "_view_count": null,
            "_view_module": "@jupyter-widgets/base",
            "_view_module_version": "1.2.0",
            "_view_name": "LayoutView",
            "align_content": null,
            "align_items": null,
            "align_self": null,
            "border": null,
            "bottom": null,
            "display": null,
            "flex": null,
            "flex_flow": null,
            "grid_area": null,
            "grid_auto_columns": null,
            "grid_auto_flow": null,
            "grid_auto_rows": null,
            "grid_column": null,
            "grid_gap": null,
            "grid_row": null,
            "grid_template_areas": null,
            "grid_template_columns": null,
            "grid_template_rows": null,
            "height": null,
            "justify_content": null,
            "justify_items": null,
            "left": null,
            "margin": null,
            "max_height": null,
            "max_width": null,
            "min_height": null,
            "min_width": null,
            "object_fit": null,
            "object_position": null,
            "order": null,
            "overflow": null,
            "overflow_x": null,
            "overflow_y": null,
            "padding": null,
            "right": null,
            "top": null,
            "visibility": null,
            "width": null
          }
        },
        "d3bbeda82fc140a083d461c4f8f553ce": {
          "model_module": "@jupyter-widgets/controls",
          "model_module_version": "1.5.0",
          "model_name": "ProgressStyleModel",
          "state": {
            "_model_module": "@jupyter-widgets/controls",
            "_model_module_version": "1.5.0",
            "_model_name": "ProgressStyleModel",
            "_view_count": null,
            "_view_module": "@jupyter-widgets/base",
            "_view_module_version": "1.2.0",
            "_view_name": "StyleView",
            "bar_color": null,
            "description_width": ""
          }
        },
        "d3f1aedb82d7409583b2688b651bcc57": {
          "model_module": "@jupyter-widgets/controls",
          "model_module_version": "1.5.0",
          "model_name": "HTMLModel",
          "state": {
            "_dom_classes": [],
            "_model_module": "@jupyter-widgets/controls",
            "_model_module_version": "1.5.0",
            "_model_name": "HTMLModel",
            "_view_count": null,
            "_view_module": "@jupyter-widgets/controls",
            "_view_module_version": "1.5.0",
            "_view_name": "HTMLView",
            "description": "",
            "description_tooltip": null,
            "layout": "IPY_MODEL_fa6e8e9ca1944fb488d20e7b077c8870",
            "placeholder": "​",
            "style": "IPY_MODEL_c0e193014f7844f28d2fe3b6bfe62e45",
            "value": " 21/21 [00:04&lt;00:00,  4.72it/s]"
          }
        },
        "d80a96461a3f40b8a06a621a018eebac": {
          "model_module": "@jupyter-widgets/controls",
          "model_module_version": "1.5.0",
          "model_name": "FloatProgressModel",
          "state": {
            "_dom_classes": [],
            "_model_module": "@jupyter-widgets/controls",
            "_model_module_version": "1.5.0",
            "_model_name": "FloatProgressModel",
            "_view_count": null,
            "_view_module": "@jupyter-widgets/controls",
            "_view_module_version": "1.5.0",
            "_view_name": "ProgressView",
            "bar_style": "success",
            "description": "",
            "description_tooltip": null,
            "layout": "IPY_MODEL_08d437f00d3c4b99a2976b9719b966ed",
            "max": 21,
            "min": 0,
            "orientation": "horizontal",
            "style": "IPY_MODEL_5f7f02ada3f140f9ab13044bf7886785",
            "value": 21
          }
        },
        "d90b921dc4f949fabc5289aa43de50c3": {
          "model_module": "@jupyter-widgets/base",
          "model_module_version": "1.2.0",
          "model_name": "LayoutModel",
          "state": {
            "_model_module": "@jupyter-widgets/base",
            "_model_module_version": "1.2.0",
            "_model_name": "LayoutModel",
            "_view_count": null,
            "_view_module": "@jupyter-widgets/base",
            "_view_module_version": "1.2.0",
            "_view_name": "LayoutView",
            "align_content": null,
            "align_items": null,
            "align_self": null,
            "border": null,
            "bottom": null,
            "display": null,
            "flex": null,
            "flex_flow": null,
            "grid_area": null,
            "grid_auto_columns": null,
            "grid_auto_flow": null,
            "grid_auto_rows": null,
            "grid_column": null,
            "grid_gap": null,
            "grid_row": null,
            "grid_template_areas": null,
            "grid_template_columns": null,
            "grid_template_rows": null,
            "height": null,
            "justify_content": null,
            "justify_items": null,
            "left": null,
            "margin": null,
            "max_height": null,
            "max_width": null,
            "min_height": null,
            "min_width": null,
            "object_fit": null,
            "object_position": null,
            "order": null,
            "overflow": null,
            "overflow_x": null,
            "overflow_y": null,
            "padding": null,
            "right": null,
            "top": null,
            "visibility": null,
            "width": null
          }
        },
        "d9af68e277c14dfb801c510f6c37fd68": {
          "model_module": "@jupyter-widgets/base",
          "model_module_version": "1.2.0",
          "model_name": "LayoutModel",
          "state": {
            "_model_module": "@jupyter-widgets/base",
            "_model_module_version": "1.2.0",
            "_model_name": "LayoutModel",
            "_view_count": null,
            "_view_module": "@jupyter-widgets/base",
            "_view_module_version": "1.2.0",
            "_view_name": "LayoutView",
            "align_content": null,
            "align_items": null,
            "align_self": null,
            "border": null,
            "bottom": null,
            "display": "inline-flex",
            "flex": null,
            "flex_flow": "row wrap",
            "grid_area": null,
            "grid_auto_columns": null,
            "grid_auto_flow": null,
            "grid_auto_rows": null,
            "grid_column": null,
            "grid_gap": null,
            "grid_row": null,
            "grid_template_areas": null,
            "grid_template_columns": null,
            "grid_template_rows": null,
            "height": null,
            "justify_content": null,
            "justify_items": null,
            "left": null,
            "margin": null,
            "max_height": null,
            "max_width": null,
            "min_height": null,
            "min_width": null,
            "object_fit": null,
            "object_position": null,
            "order": null,
            "overflow": null,
            "overflow_x": null,
            "overflow_y": null,
            "padding": null,
            "right": null,
            "top": null,
            "visibility": "hidden",
            "width": "100%"
          }
        },
        "e214dcab73094959acb047345e1d8af5": {
          "model_module": "@jupyter-widgets/controls",
          "model_module_version": "1.5.0",
          "model_name": "ProgressStyleModel",
          "state": {
            "_model_module": "@jupyter-widgets/controls",
            "_model_module_version": "1.5.0",
            "_model_name": "ProgressStyleModel",
            "_view_count": null,
            "_view_module": "@jupyter-widgets/base",
            "_view_module_version": "1.2.0",
            "_view_name": "StyleView",
            "bar_color": null,
            "description_width": ""
          }
        },
        "e3addbd310c5403997f680328ef45821": {
          "model_module": "@jupyter-widgets/controls",
          "model_module_version": "1.5.0",
          "model_name": "FloatProgressModel",
          "state": {
            "_dom_classes": [],
            "_model_module": "@jupyter-widgets/controls",
            "_model_module_version": "1.5.0",
            "_model_name": "FloatProgressModel",
            "_view_count": null,
            "_view_module": "@jupyter-widgets/controls",
            "_view_module_version": "1.5.0",
            "_view_name": "ProgressView",
            "bar_style": "",
            "description": "",
            "description_tooltip": null,
            "layout": "IPY_MODEL_876521cf775546f491eabbc29a424dcb",
            "max": 21,
            "min": 0,
            "orientation": "horizontal",
            "style": "IPY_MODEL_d3bbeda82fc140a083d461c4f8f553ce",
            "value": 21
          }
        },
        "e6ea2dc98a0e41a8be1bbe0fb87c8999": {
          "model_module": "@jupyter-widgets/base",
          "model_module_version": "1.2.0",
          "model_name": "LayoutModel",
          "state": {
            "_model_module": "@jupyter-widgets/base",
            "_model_module_version": "1.2.0",
            "_model_name": "LayoutModel",
            "_view_count": null,
            "_view_module": "@jupyter-widgets/base",
            "_view_module_version": "1.2.0",
            "_view_name": "LayoutView",
            "align_content": null,
            "align_items": null,
            "align_self": null,
            "border": null,
            "bottom": null,
            "display": "inline-flex",
            "flex": null,
            "flex_flow": "row wrap",
            "grid_area": null,
            "grid_auto_columns": null,
            "grid_auto_flow": null,
            "grid_auto_rows": null,
            "grid_column": null,
            "grid_gap": null,
            "grid_row": null,
            "grid_template_areas": null,
            "grid_template_columns": null,
            "grid_template_rows": null,
            "height": null,
            "justify_content": null,
            "justify_items": null,
            "left": null,
            "margin": null,
            "max_height": null,
            "max_width": null,
            "min_height": null,
            "min_width": null,
            "object_fit": null,
            "object_position": null,
            "order": null,
            "overflow": null,
            "overflow_x": null,
            "overflow_y": null,
            "padding": null,
            "right": null,
            "top": null,
            "visibility": null,
            "width": "100%"
          }
        },
        "e72d63f6580f408e83efde0765c0956f": {
          "model_module": "@jupyter-widgets/controls",
          "model_module_version": "1.5.0",
          "model_name": "FloatProgressModel",
          "state": {
            "_dom_classes": [],
            "_model_module": "@jupyter-widgets/controls",
            "_model_module_version": "1.5.0",
            "_model_name": "FloatProgressModel",
            "_view_count": null,
            "_view_module": "@jupyter-widgets/controls",
            "_view_module_version": "1.5.0",
            "_view_name": "ProgressView",
            "bar_style": "",
            "description": "",
            "description_tooltip": null,
            "layout": "IPY_MODEL_0c4ee68fa8e548989f9487b48ec506ca",
            "max": 21,
            "min": 0,
            "orientation": "horizontal",
            "style": "IPY_MODEL_35428d7d075149ec96e874bcc3df6f39",
            "value": 21
          }
        },
        "ec2c76b3f7dd480faec39c6820a514a5": {
          "model_module": "@jupyter-widgets/controls",
          "model_module_version": "1.5.0",
          "model_name": "HTMLModel",
          "state": {
            "_dom_classes": [],
            "_model_module": "@jupyter-widgets/controls",
            "_model_module_version": "1.5.0",
            "_model_name": "HTMLModel",
            "_view_count": null,
            "_view_module": "@jupyter-widgets/controls",
            "_view_module_version": "1.5.0",
            "_view_name": "HTMLView",
            "description": "",
            "description_tooltip": null,
            "layout": "IPY_MODEL_79af2c14c5c141e1af2b0f6499477b5f",
            "placeholder": "​",
            "style": "IPY_MODEL_8bf7604de95f4f28b2279bb2ecb57be5",
            "value": "Validation DataLoader 0: 100%"
          }
        },
        "ec9ade478e254394821956b8d66ef5c1": {
          "model_module": "@jupyter-widgets/base",
          "model_module_version": "1.2.0",
          "model_name": "LayoutModel",
          "state": {
            "_model_module": "@jupyter-widgets/base",
            "_model_module_version": "1.2.0",
            "_model_name": "LayoutModel",
            "_view_count": null,
            "_view_module": "@jupyter-widgets/base",
            "_view_module_version": "1.2.0",
            "_view_name": "LayoutView",
            "align_content": null,
            "align_items": null,
            "align_self": null,
            "border": null,
            "bottom": null,
            "display": null,
            "flex": null,
            "flex_flow": null,
            "grid_area": null,
            "grid_auto_columns": null,
            "grid_auto_flow": null,
            "grid_auto_rows": null,
            "grid_column": null,
            "grid_gap": null,
            "grid_row": null,
            "grid_template_areas": null,
            "grid_template_columns": null,
            "grid_template_rows": null,
            "height": null,
            "justify_content": null,
            "justify_items": null,
            "left": null,
            "margin": null,
            "max_height": null,
            "max_width": null,
            "min_height": null,
            "min_width": null,
            "object_fit": null,
            "object_position": null,
            "order": null,
            "overflow": null,
            "overflow_x": null,
            "overflow_y": null,
            "padding": null,
            "right": null,
            "top": null,
            "visibility": null,
            "width": null
          }
        },
        "eea5737d945543ca899a46839ea8e2ce": {
          "model_module": "@jupyter-widgets/base",
          "model_module_version": "1.2.0",
          "model_name": "LayoutModel",
          "state": {
            "_model_module": "@jupyter-widgets/base",
            "_model_module_version": "1.2.0",
            "_model_name": "LayoutModel",
            "_view_count": null,
            "_view_module": "@jupyter-widgets/base",
            "_view_module_version": "1.2.0",
            "_view_name": "LayoutView",
            "align_content": null,
            "align_items": null,
            "align_self": null,
            "border": null,
            "bottom": null,
            "display": null,
            "flex": null,
            "flex_flow": null,
            "grid_area": null,
            "grid_auto_columns": null,
            "grid_auto_flow": null,
            "grid_auto_rows": null,
            "grid_column": null,
            "grid_gap": null,
            "grid_row": null,
            "grid_template_areas": null,
            "grid_template_columns": null,
            "grid_template_rows": null,
            "height": null,
            "justify_content": null,
            "justify_items": null,
            "left": null,
            "margin": null,
            "max_height": null,
            "max_width": null,
            "min_height": null,
            "min_width": null,
            "object_fit": null,
            "object_position": null,
            "order": null,
            "overflow": null,
            "overflow_x": null,
            "overflow_y": null,
            "padding": null,
            "right": null,
            "top": null,
            "visibility": null,
            "width": null
          }
        },
        "ef45a490975a4164a10ff14ac459509c": {
          "model_module": "@jupyter-widgets/controls",
          "model_module_version": "1.5.0",
          "model_name": "HBoxModel",
          "state": {
            "_dom_classes": [],
            "_model_module": "@jupyter-widgets/controls",
            "_model_module_version": "1.5.0",
            "_model_name": "HBoxModel",
            "_view_count": null,
            "_view_module": "@jupyter-widgets/controls",
            "_view_module_version": "1.5.0",
            "_view_name": "HBoxView",
            "box_style": "",
            "children": [
              "IPY_MODEL_8b6db0ea3ccb45f69482ed53106bdff6",
              "IPY_MODEL_bf71047e90ab4a419fe00cf52323dd75",
              "IPY_MODEL_4ebf203e52c34e36af33029db34b200e"
            ],
            "layout": "IPY_MODEL_1f3b5f1f52e145deb7c52f4fec12a3ff"
          }
        },
        "f08d6cea230247cb9e0e68641838b951": {
          "model_module": "@jupyter-widgets/base",
          "model_module_version": "1.2.0",
          "model_name": "LayoutModel",
          "state": {
            "_model_module": "@jupyter-widgets/base",
            "_model_module_version": "1.2.0",
            "_model_name": "LayoutModel",
            "_view_count": null,
            "_view_module": "@jupyter-widgets/base",
            "_view_module_version": "1.2.0",
            "_view_name": "LayoutView",
            "align_content": null,
            "align_items": null,
            "align_self": null,
            "border": null,
            "bottom": null,
            "display": null,
            "flex": null,
            "flex_flow": null,
            "grid_area": null,
            "grid_auto_columns": null,
            "grid_auto_flow": null,
            "grid_auto_rows": null,
            "grid_column": null,
            "grid_gap": null,
            "grid_row": null,
            "grid_template_areas": null,
            "grid_template_columns": null,
            "grid_template_rows": null,
            "height": null,
            "justify_content": null,
            "justify_items": null,
            "left": null,
            "margin": null,
            "max_height": null,
            "max_width": null,
            "min_height": null,
            "min_width": null,
            "object_fit": null,
            "object_position": null,
            "order": null,
            "overflow": null,
            "overflow_x": null,
            "overflow_y": null,
            "padding": null,
            "right": null,
            "top": null,
            "visibility": null,
            "width": null
          }
        },
        "f12a60df66914b4895a10cd3ebe0cff8": {
          "model_module": "@jupyter-widgets/base",
          "model_module_version": "1.2.0",
          "model_name": "LayoutModel",
          "state": {
            "_model_module": "@jupyter-widgets/base",
            "_model_module_version": "1.2.0",
            "_model_name": "LayoutModel",
            "_view_count": null,
            "_view_module": "@jupyter-widgets/base",
            "_view_module_version": "1.2.0",
            "_view_name": "LayoutView",
            "align_content": null,
            "align_items": null,
            "align_self": null,
            "border": null,
            "bottom": null,
            "display": null,
            "flex": null,
            "flex_flow": null,
            "grid_area": null,
            "grid_auto_columns": null,
            "grid_auto_flow": null,
            "grid_auto_rows": null,
            "grid_column": null,
            "grid_gap": null,
            "grid_row": null,
            "grid_template_areas": null,
            "grid_template_columns": null,
            "grid_template_rows": null,
            "height": null,
            "justify_content": null,
            "justify_items": null,
            "left": null,
            "margin": null,
            "max_height": null,
            "max_width": null,
            "min_height": null,
            "min_width": null,
            "object_fit": null,
            "object_position": null,
            "order": null,
            "overflow": null,
            "overflow_x": null,
            "overflow_y": null,
            "padding": null,
            "right": null,
            "top": null,
            "visibility": null,
            "width": null
          }
        },
        "f4c3a7bc8feb4fc0ba78c971985da4e3": {
          "model_module": "@jupyter-widgets/controls",
          "model_module_version": "1.5.0",
          "model_name": "FloatProgressModel",
          "state": {
            "_dom_classes": [],
            "_model_module": "@jupyter-widgets/controls",
            "_model_module_version": "1.5.0",
            "_model_name": "FloatProgressModel",
            "_view_count": null,
            "_view_module": "@jupyter-widgets/controls",
            "_view_module_version": "1.5.0",
            "_view_name": "ProgressView",
            "bar_style": "",
            "description": "",
            "description_tooltip": null,
            "layout": "IPY_MODEL_42e9ee50fd1e4d8893e2535f8ebf4c00",
            "max": 21,
            "min": 0,
            "orientation": "horizontal",
            "style": "IPY_MODEL_4204a38a07094361898e9eed972c2f96",
            "value": 21
          }
        },
        "fa451fc3eca849bc924ef123b27a0220": {
          "model_module": "@jupyter-widgets/base",
          "model_module_version": "1.2.0",
          "model_name": "LayoutModel",
          "state": {
            "_model_module": "@jupyter-widgets/base",
            "_model_module_version": "1.2.0",
            "_model_name": "LayoutModel",
            "_view_count": null,
            "_view_module": "@jupyter-widgets/base",
            "_view_module_version": "1.2.0",
            "_view_name": "LayoutView",
            "align_content": null,
            "align_items": null,
            "align_self": null,
            "border": null,
            "bottom": null,
            "display": null,
            "flex": "2",
            "flex_flow": null,
            "grid_area": null,
            "grid_auto_columns": null,
            "grid_auto_flow": null,
            "grid_auto_rows": null,
            "grid_column": null,
            "grid_gap": null,
            "grid_row": null,
            "grid_template_areas": null,
            "grid_template_columns": null,
            "grid_template_rows": null,
            "height": null,
            "justify_content": null,
            "justify_items": null,
            "left": null,
            "margin": null,
            "max_height": null,
            "max_width": null,
            "min_height": null,
            "min_width": null,
            "object_fit": null,
            "object_position": null,
            "order": null,
            "overflow": null,
            "overflow_x": null,
            "overflow_y": null,
            "padding": null,
            "right": null,
            "top": null,
            "visibility": null,
            "width": null
          }
        },
        "fa6e8e9ca1944fb488d20e7b077c8870": {
          "model_module": "@jupyter-widgets/base",
          "model_module_version": "1.2.0",
          "model_name": "LayoutModel",
          "state": {
            "_model_module": "@jupyter-widgets/base",
            "_model_module_version": "1.2.0",
            "_model_name": "LayoutModel",
            "_view_count": null,
            "_view_module": "@jupyter-widgets/base",
            "_view_module_version": "1.2.0",
            "_view_name": "LayoutView",
            "align_content": null,
            "align_items": null,
            "align_self": null,
            "border": null,
            "bottom": null,
            "display": null,
            "flex": null,
            "flex_flow": null,
            "grid_area": null,
            "grid_auto_columns": null,
            "grid_auto_flow": null,
            "grid_auto_rows": null,
            "grid_column": null,
            "grid_gap": null,
            "grid_row": null,
            "grid_template_areas": null,
            "grid_template_columns": null,
            "grid_template_rows": null,
            "height": null,
            "justify_content": null,
            "justify_items": null,
            "left": null,
            "margin": null,
            "max_height": null,
            "max_width": null,
            "min_height": null,
            "min_width": null,
            "object_fit": null,
            "object_position": null,
            "order": null,
            "overflow": null,
            "overflow_x": null,
            "overflow_y": null,
            "padding": null,
            "right": null,
            "top": null,
            "visibility": null,
            "width": null
          }
        },
        "fb4bb0ab7de148bdb4e0489f807cefdf": {
          "model_module": "@jupyter-widgets/base",
          "model_module_version": "1.2.0",
          "model_name": "LayoutModel",
          "state": {
            "_model_module": "@jupyter-widgets/base",
            "_model_module_version": "1.2.0",
            "_model_name": "LayoutModel",
            "_view_count": null,
            "_view_module": "@jupyter-widgets/base",
            "_view_module_version": "1.2.0",
            "_view_name": "LayoutView",
            "align_content": null,
            "align_items": null,
            "align_self": null,
            "border": null,
            "bottom": null,
            "display": null,
            "flex": null,
            "flex_flow": null,
            "grid_area": null,
            "grid_auto_columns": null,
            "grid_auto_flow": null,
            "grid_auto_rows": null,
            "grid_column": null,
            "grid_gap": null,
            "grid_row": null,
            "grid_template_areas": null,
            "grid_template_columns": null,
            "grid_template_rows": null,
            "height": null,
            "justify_content": null,
            "justify_items": null,
            "left": null,
            "margin": null,
            "max_height": null,
            "max_width": null,
            "min_height": null,
            "min_width": null,
            "object_fit": null,
            "object_position": null,
            "order": null,
            "overflow": null,
            "overflow_x": null,
            "overflow_y": null,
            "padding": null,
            "right": null,
            "top": null,
            "visibility": null,
            "width": null
          }
        },
        "fca10053d9f54ceb95a9a93286a7ef3e": {
          "model_module": "@jupyter-widgets/controls",
          "model_module_version": "1.5.0",
          "model_name": "DescriptionStyleModel",
          "state": {
            "_model_module": "@jupyter-widgets/controls",
            "_model_module_version": "1.5.0",
            "_model_name": "DescriptionStyleModel",
            "_view_count": null,
            "_view_module": "@jupyter-widgets/base",
            "_view_module_version": "1.2.0",
            "_view_name": "StyleView",
            "description_width": ""
          }
        }
      }
    }
  },
  "nbformat": 4,
  "nbformat_minor": 0
}
